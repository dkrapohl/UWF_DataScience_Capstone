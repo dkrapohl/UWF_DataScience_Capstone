{
  "nbformat": 4,
  "nbformat_minor": 0,
  "metadata": {
    "colab": {
      "provenance": []
    },
    "kernelspec": {
      "name": "python3",
      "display_name": "Python 3"
    },
    "language_info": {
      "name": "python"
    }
  },
  "cells": [
    {
      "cell_type": "code",
      "source": [
        "# install technical indicators and time series (ARCH, GARCH, metrics) supoort\n",
        "!pip install pandas_ta --quiet\n",
        "!pip install arch --quiet\n",
        "!pip install statsmodels --quiet\n",
        "!pip install --upgrade --force-reinstall numpy==1.26.4 scipy statsmodels matplotlib --quiet"
      ],
      "metadata": {
        "id": "zS6AfITcmECw",
        "colab": {
          "base_uri": "https://localhost:8080/"
        },
        "outputId": "8b0e4aef-e445-4a41-cf46-fef540912304"
      },
      "execution_count": 1,
      "outputs": [
        {
          "output_type": "stream",
          "name": "stdout",
          "text": [
            "\u001b[31mERROR: pip's dependency resolver does not currently take into account all the packages that are installed. This behaviour is the source of the following dependency conflicts.\n",
            "google-colab 1.0.0 requires pandas==2.2.2, but you have pandas 2.3.3 which is incompatible.\n",
            "cudf-cu12 25.6.0 requires pandas<2.2.4dev0,>=2.0, but you have pandas 2.3.3 which is incompatible.\n",
            "tensorflow 2.19.0 requires numpy<2.2.0,>=1.26.0, but you have numpy 2.2.6 which is incompatible.\n",
            "gradio 5.49.1 requires pillow<12.0,>=8.0, but you have pillow 12.0.0 which is incompatible.\n",
            "dask-cudf-cu12 25.6.0 requires pandas<2.2.4dev0,>=2.0, but you have pandas 2.3.3 which is incompatible.\u001b[0m\u001b[31m\n",
            "\u001b[0m\u001b[31mERROR: pip's dependency resolver does not currently take into account all the packages that are installed. This behaviour is the source of the following dependency conflicts.\n",
            "pandas-ta 0.4.71b0 requires numpy>=2.2.6, but you have numpy 1.26.4 which is incompatible.\n",
            "google-colab 1.0.0 requires pandas==2.2.2, but you have pandas 2.3.3 which is incompatible.\n",
            "cudf-cu12 25.6.0 requires pandas<2.2.4dev0,>=2.0, but you have pandas 2.3.3 which is incompatible.\n",
            "jaxlib 0.7.2 requires numpy>=2.0, but you have numpy 1.26.4 which is incompatible.\n",
            "opencv-contrib-python 4.12.0.88 requires numpy<2.3.0,>=2; python_version >= \"3.9\", but you have numpy 1.26.4 which is incompatible.\n",
            "jax 0.7.2 requires numpy>=2.0, but you have numpy 1.26.4 which is incompatible.\n",
            "gradio 5.49.1 requires pillow<12.0,>=8.0, but you have pillow 12.0.0 which is incompatible.\n",
            "opencv-python-headless 4.12.0.88 requires numpy<2.3.0,>=2; python_version >= \"3.9\", but you have numpy 1.26.4 which is incompatible.\n",
            "opencv-python 4.12.0.88 requires numpy<2.3.0,>=2; python_version >= \"3.9\", but you have numpy 1.26.4 which is incompatible.\n",
            "pytensor 2.35.1 requires numpy>=2.0, but you have numpy 1.26.4 which is incompatible.\n",
            "thinc 8.3.6 requires numpy<3.0.0,>=2.0.0, but you have numpy 1.26.4 which is incompatible.\n",
            "dask-cudf-cu12 25.6.0 requires pandas<2.2.4dev0,>=2.0, but you have pandas 2.3.3 which is incompatible.\u001b[0m\u001b[31m\n",
            "\u001b[0m"
          ]
        }
      ]
    },
    {
      "cell_type": "markdown",
      "source": [
        "# Prepare Environment\n",
        "\n",
        "We'll prepare our environment with imports."
      ],
      "metadata": {
        "id": "yQ64BHgApcHv"
      }
    },
    {
      "cell_type": "code",
      "execution_count": 180,
      "metadata": {
        "id": "us40iAHIjuct"
      },
      "outputs": [],
      "source": [
        "import os\n",
        "import pandas as pd\n",
        "import numpy as np\n",
        "import tensorflow as tf\n",
        "import requests\n",
        "from io import BytesIO        # For getting the daily policy df from download\n",
        "from bs4 import BeautifulSoup\n",
        "from datetime import datetime, timedelta\n",
        "import warnings\n",
        "from collections import Counter\n",
        "\n",
        "# yahoo finance import\n",
        "import yfinance as yf\n",
        "\n",
        "# visualization\n",
        "import matplotlib.pyplot as plt\n",
        "import seaborn as sns\n",
        "\n",
        "# imputation and class rebalancing\n",
        "from sklearn.impute import SimpleImputer\n",
        "from imblearn.over_sampling import SMOTE\n",
        "\n",
        "# technical indicators\n",
        "import pandas_ta as ta  # For technical indicators\n",
        "\n",
        "# time series\n",
        "from statsmodels.tsa.stattools import acf, pacf, adfuller # for time series\n",
        "from statsmodels.graphics.tsaplots import plot_acf, plot_pacf\n",
        "import statsmodels.api as sm # for time series\n",
        "from arch import arch_model # for time series\n",
        "\n",
        "# RF\n",
        "from sklearn.ensemble import RandomForestClassifier\n",
        "from sklearn.model_selection import RepeatedKFold, cross_val_score, RandomizedSearchCV\n",
        "\n",
        "# PCA and statistics\n",
        "from sklearn.preprocessing import StandardScaler\n",
        "from sklearn.decomposition import PCA\n",
        "from statsmodels.stats.outliers_influence import variance_inflation_factor\n",
        "\n",
        "# Suppress convergence warnings for clean output\n",
        "warnings.filterwarnings(\"ignore\", category=UserWarning)\n",
        "warnings.filterwarnings(\"ignore\", category=FutureWarning)\n",
        "warnings.filterwarnings(\"ignore\", category=RuntimeWarning)"
      ]
    },
    {
      "cell_type": "markdown",
      "source": [
        "# Data Load\n",
        "Load data from Kaggle, policyuncertainty.com, and Yahoo Finance"
      ],
      "metadata": {
        "id": "AOMU5xkVpkj8"
      }
    },
    {
      "cell_type": "markdown",
      "source": [
        "## Kaggle Data Load\n",
        "\n",
        "The Kaggle dataset contains limited pricing but a lot of econometric data"
      ],
      "metadata": {
        "id": "wWwSxpt1qCkN"
      }
    },
    {
      "cell_type": "code",
      "source": [
        "# Load Kaggle dataset\n",
        "\n",
        "# NOTE: First time use, ensure you have Kaggle API set up: https://github.com/Kaggle/kaggle-api\n",
        "# Download manually if needed\n",
        "# This is also available from my github repo: https://github.com/dkrapohl/UWF_DataScience_Capstone\n",
        "# kaggle datasets download -d shiveshprakash/34-year-daily-stock-data\n",
        "\n",
        "KAGGLE_CSV_PATH = \"stock_data.csv\"  # Update path after download\n",
        "os.environ['KAGGLE_USERNAME'] = \"donaldkrapohl\"\n",
        "os.environ['KAGGLE_KEY'] = \"c455129dcb3365a67517797f19ee384d\"\n",
        "\n",
        "\n",
        "# Download the dataset from Kaggle\n",
        "!kaggle datasets download -d shiveshprakash/34-year-daily-stock-data\n",
        "\n",
        "# Unzip the downloaded file\n",
        "!unzip -o 34-year-daily-stock-data.zip\n"
      ],
      "metadata": {
        "colab": {
          "base_uri": "https://localhost:8080/"
        },
        "id": "WAitYb88j-Up",
        "outputId": "1b9841e7-e811-4377-a652-35a547428527"
      },
      "execution_count": 181,
      "outputs": [
        {
          "output_type": "stream",
          "name": "stdout",
          "text": [
            "Dataset URL: https://www.kaggle.com/datasets/shiveshprakash/34-year-daily-stock-data\n",
            "License(s): MIT\n",
            "34-year-daily-stock-data.zip: Skipping, found more recently modified local copy (use --force to force download)\n",
            "Archive:  34-year-daily-stock-data.zip\n",
            "  inflating: stock_data.csv          \n"
          ]
        }
      ]
    },
    {
      "cell_type": "markdown",
      "source": [
        "Columns\n",
        "* dt: Date of observation in YYYY-MM-DD format.\n",
        "* vix: VIX (Volatility Index), a measure of expected market volatility.\n",
        "* sp500: S&P 500 index value, a benchmark of the U.S. stock market.\n",
        "* sp500_volume: Daily trading volume for the S&P 500.\n",
        "* djia: Dow Jones Industrial Average (DJIA), another key U.S. market index.\n",
        "* djia_volume: Daily trading volume for the DJIA.\n",
        "* hsi: Hang Seng Index, representing the Hong Kong stock market.\n",
        "* ads: Aruoba-Diebold-Scotti (ADS) Business Conditions Index, reflecting U.S. economic activity.\n",
        "* us3m: U.S. Treasury 3-month bond yield, a short-term interest rate proxy.\n",
        "* joblessness: U.S. unemployment rate, reported as quartiles (1 represents lowest quartile and so on).\n",
        "* epu: Economic Policy Uncertainty Index, quantifying policy-related economic uncertainty.\n",
        "* GPRD: Geopolitical Risk Index (Daily), measuring geopolitical risk levels.\n",
        "* prev_day: Previous day’s S&P 500 closing value, added for lag-based time series analysis."
      ],
      "metadata": {
        "id": "_NOkYqV1wLip"
      }
    },
    {
      "cell_type": "code",
      "source": [
        "\n",
        "# Check if the file exists before reading\n",
        "if os.path.exists(KAGGLE_CSV_PATH):\n",
        "    df = pd.read_csv(KAGGLE_CSV_PATH, parse_dates=['dt'])\n",
        "    df.sort_values('dt', inplace=True)\n",
        "    df.reset_index(drop=True, inplace=True)\n",
        "    df.rename(columns={'dt': 'Date'}, inplace=True)  # rename to match OHLC\n",
        "    print(\"Kaggle DataFrame loaded successfully.\")\n",
        "else:\n",
        "    print(f\"Error: {KAGGLE_CSV_PATH} not found.\")\n",
        "\n",
        "df.head(5)"
      ],
      "metadata": {
        "colab": {
          "base_uri": "https://localhost:8080/",
          "height": 224
        },
        "id": "__VOgrxvoLVl",
        "outputId": "fcb04266-04f9-42d6-95f7-c11574893425"
      },
      "execution_count": 182,
      "outputs": [
        {
          "output_type": "stream",
          "name": "stdout",
          "text": [
            "Kaggle DataFrame loaded successfully.\n"
          ]
        },
        {
          "output_type": "execute_result",
          "data": {
            "text/plain": [
              "        Date    vix       sp500  sp500_volume     djia  djia_volume  \\\n",
              "0 1990-01-03  18.19  358.760010   192330000.0  2809.73        23.62   \n",
              "1 1990-01-04  19.22  355.670013   177000000.0  2796.08        24.37   \n",
              "2 1990-01-05  20.11  352.200012   158530000.0  2773.25        20.29   \n",
              "3 1990-01-08  20.26  353.790009   140110000.0  2794.37        16.61   \n",
              "4 1990-01-09  22.20  349.619995   155210000.0  2766.00        15.80   \n",
              "\n",
              "           hsi       ads  us3m  joblessness         epu        GPRD  \\\n",
              "0  2858.699951 -0.229917  7.89            3  100.359178   75.408051   \n",
              "1  2868.000000 -0.246065  7.84            3  100.359178   56.085804   \n",
              "2  2839.899902 -0.260393  7.79            3  100.359178   63.847675   \n",
              "3  2816.000000 -0.291750  7.79            3  100.359178  102.841156   \n",
              "4  2822.000000 -0.297326  7.80            3  100.359178  138.435669   \n",
              "\n",
              "     prev_day  \n",
              "0  359.690002  \n",
              "1  358.760010  \n",
              "2  355.670013  \n",
              "3  352.200012  \n",
              "4  353.790009  "
            ],
            "text/html": [
              "\n",
              "  <div id=\"df-52d1f423-c6cb-405e-b3ca-7bec4b38eadf\" class=\"colab-df-container\">\n",
              "    <div>\n",
              "<style scoped>\n",
              "    .dataframe tbody tr th:only-of-type {\n",
              "        vertical-align: middle;\n",
              "    }\n",
              "\n",
              "    .dataframe tbody tr th {\n",
              "        vertical-align: top;\n",
              "    }\n",
              "\n",
              "    .dataframe thead th {\n",
              "        text-align: right;\n",
              "    }\n",
              "</style>\n",
              "<table border=\"1\" class=\"dataframe\">\n",
              "  <thead>\n",
              "    <tr style=\"text-align: right;\">\n",
              "      <th></th>\n",
              "      <th>Date</th>\n",
              "      <th>vix</th>\n",
              "      <th>sp500</th>\n",
              "      <th>sp500_volume</th>\n",
              "      <th>djia</th>\n",
              "      <th>djia_volume</th>\n",
              "      <th>hsi</th>\n",
              "      <th>ads</th>\n",
              "      <th>us3m</th>\n",
              "      <th>joblessness</th>\n",
              "      <th>epu</th>\n",
              "      <th>GPRD</th>\n",
              "      <th>prev_day</th>\n",
              "    </tr>\n",
              "  </thead>\n",
              "  <tbody>\n",
              "    <tr>\n",
              "      <th>0</th>\n",
              "      <td>1990-01-03</td>\n",
              "      <td>18.19</td>\n",
              "      <td>358.760010</td>\n",
              "      <td>192330000.0</td>\n",
              "      <td>2809.73</td>\n",
              "      <td>23.62</td>\n",
              "      <td>2858.699951</td>\n",
              "      <td>-0.229917</td>\n",
              "      <td>7.89</td>\n",
              "      <td>3</td>\n",
              "      <td>100.359178</td>\n",
              "      <td>75.408051</td>\n",
              "      <td>359.690002</td>\n",
              "    </tr>\n",
              "    <tr>\n",
              "      <th>1</th>\n",
              "      <td>1990-01-04</td>\n",
              "      <td>19.22</td>\n",
              "      <td>355.670013</td>\n",
              "      <td>177000000.0</td>\n",
              "      <td>2796.08</td>\n",
              "      <td>24.37</td>\n",
              "      <td>2868.000000</td>\n",
              "      <td>-0.246065</td>\n",
              "      <td>7.84</td>\n",
              "      <td>3</td>\n",
              "      <td>100.359178</td>\n",
              "      <td>56.085804</td>\n",
              "      <td>358.760010</td>\n",
              "    </tr>\n",
              "    <tr>\n",
              "      <th>2</th>\n",
              "      <td>1990-01-05</td>\n",
              "      <td>20.11</td>\n",
              "      <td>352.200012</td>\n",
              "      <td>158530000.0</td>\n",
              "      <td>2773.25</td>\n",
              "      <td>20.29</td>\n",
              "      <td>2839.899902</td>\n",
              "      <td>-0.260393</td>\n",
              "      <td>7.79</td>\n",
              "      <td>3</td>\n",
              "      <td>100.359178</td>\n",
              "      <td>63.847675</td>\n",
              "      <td>355.670013</td>\n",
              "    </tr>\n",
              "    <tr>\n",
              "      <th>3</th>\n",
              "      <td>1990-01-08</td>\n",
              "      <td>20.26</td>\n",
              "      <td>353.790009</td>\n",
              "      <td>140110000.0</td>\n",
              "      <td>2794.37</td>\n",
              "      <td>16.61</td>\n",
              "      <td>2816.000000</td>\n",
              "      <td>-0.291750</td>\n",
              "      <td>7.79</td>\n",
              "      <td>3</td>\n",
              "      <td>100.359178</td>\n",
              "      <td>102.841156</td>\n",
              "      <td>352.200012</td>\n",
              "    </tr>\n",
              "    <tr>\n",
              "      <th>4</th>\n",
              "      <td>1990-01-09</td>\n",
              "      <td>22.20</td>\n",
              "      <td>349.619995</td>\n",
              "      <td>155210000.0</td>\n",
              "      <td>2766.00</td>\n",
              "      <td>15.80</td>\n",
              "      <td>2822.000000</td>\n",
              "      <td>-0.297326</td>\n",
              "      <td>7.80</td>\n",
              "      <td>3</td>\n",
              "      <td>100.359178</td>\n",
              "      <td>138.435669</td>\n",
              "      <td>353.790009</td>\n",
              "    </tr>\n",
              "  </tbody>\n",
              "</table>\n",
              "</div>\n",
              "    <div class=\"colab-df-buttons\">\n",
              "\n",
              "  <div class=\"colab-df-container\">\n",
              "    <button class=\"colab-df-convert\" onclick=\"convertToInteractive('df-52d1f423-c6cb-405e-b3ca-7bec4b38eadf')\"\n",
              "            title=\"Convert this dataframe to an interactive table.\"\n",
              "            style=\"display:none;\">\n",
              "\n",
              "  <svg xmlns=\"http://www.w3.org/2000/svg\" height=\"24px\" viewBox=\"0 -960 960 960\">\n",
              "    <path d=\"M120-120v-720h720v720H120Zm60-500h600v-160H180v160Zm220 220h160v-160H400v160Zm0 220h160v-160H400v160ZM180-400h160v-160H180v160Zm440 0h160v-160H620v160ZM180-180h160v-160H180v160Zm440 0h160v-160H620v160Z\"/>\n",
              "  </svg>\n",
              "    </button>\n",
              "\n",
              "  <style>\n",
              "    .colab-df-container {\n",
              "      display:flex;\n",
              "      gap: 12px;\n",
              "    }\n",
              "\n",
              "    .colab-df-convert {\n",
              "      background-color: #E8F0FE;\n",
              "      border: none;\n",
              "      border-radius: 50%;\n",
              "      cursor: pointer;\n",
              "      display: none;\n",
              "      fill: #1967D2;\n",
              "      height: 32px;\n",
              "      padding: 0 0 0 0;\n",
              "      width: 32px;\n",
              "    }\n",
              "\n",
              "    .colab-df-convert:hover {\n",
              "      background-color: #E2EBFA;\n",
              "      box-shadow: 0px 1px 2px rgba(60, 64, 67, 0.3), 0px 1px 3px 1px rgba(60, 64, 67, 0.15);\n",
              "      fill: #174EA6;\n",
              "    }\n",
              "\n",
              "    .colab-df-buttons div {\n",
              "      margin-bottom: 4px;\n",
              "    }\n",
              "\n",
              "    [theme=dark] .colab-df-convert {\n",
              "      background-color: #3B4455;\n",
              "      fill: #D2E3FC;\n",
              "    }\n",
              "\n",
              "    [theme=dark] .colab-df-convert:hover {\n",
              "      background-color: #434B5C;\n",
              "      box-shadow: 0px 1px 3px 1px rgba(0, 0, 0, 0.15);\n",
              "      filter: drop-shadow(0px 1px 2px rgba(0, 0, 0, 0.3));\n",
              "      fill: #FFFFFF;\n",
              "    }\n",
              "  </style>\n",
              "\n",
              "    <script>\n",
              "      const buttonEl =\n",
              "        document.querySelector('#df-52d1f423-c6cb-405e-b3ca-7bec4b38eadf button.colab-df-convert');\n",
              "      buttonEl.style.display =\n",
              "        google.colab.kernel.accessAllowed ? 'block' : 'none';\n",
              "\n",
              "      async function convertToInteractive(key) {\n",
              "        const element = document.querySelector('#df-52d1f423-c6cb-405e-b3ca-7bec4b38eadf');\n",
              "        const dataTable =\n",
              "          await google.colab.kernel.invokeFunction('convertToInteractive',\n",
              "                                                    [key], {});\n",
              "        if (!dataTable) return;\n",
              "\n",
              "        const docLinkHtml = 'Like what you see? Visit the ' +\n",
              "          '<a target=\"_blank\" href=https://colab.research.google.com/notebooks/data_table.ipynb>data table notebook</a>'\n",
              "          + ' to learn more about interactive tables.';\n",
              "        element.innerHTML = '';\n",
              "        dataTable['output_type'] = 'display_data';\n",
              "        await google.colab.output.renderOutput(dataTable, element);\n",
              "        const docLink = document.createElement('div');\n",
              "        docLink.innerHTML = docLinkHtml;\n",
              "        element.appendChild(docLink);\n",
              "      }\n",
              "    </script>\n",
              "  </div>\n",
              "\n",
              "\n",
              "    <div id=\"df-27d40331-9d51-4a2c-83f3-6d548f6a0f5a\">\n",
              "      <button class=\"colab-df-quickchart\" onclick=\"quickchart('df-27d40331-9d51-4a2c-83f3-6d548f6a0f5a')\"\n",
              "                title=\"Suggest charts\"\n",
              "                style=\"display:none;\">\n",
              "\n",
              "<svg xmlns=\"http://www.w3.org/2000/svg\" height=\"24px\"viewBox=\"0 0 24 24\"\n",
              "     width=\"24px\">\n",
              "    <g>\n",
              "        <path d=\"M19 3H5c-1.1 0-2 .9-2 2v14c0 1.1.9 2 2 2h14c1.1 0 2-.9 2-2V5c0-1.1-.9-2-2-2zM9 17H7v-7h2v7zm4 0h-2V7h2v10zm4 0h-2v-4h2v4z\"/>\n",
              "    </g>\n",
              "</svg>\n",
              "      </button>\n",
              "\n",
              "<style>\n",
              "  .colab-df-quickchart {\n",
              "      --bg-color: #E8F0FE;\n",
              "      --fill-color: #1967D2;\n",
              "      --hover-bg-color: #E2EBFA;\n",
              "      --hover-fill-color: #174EA6;\n",
              "      --disabled-fill-color: #AAA;\n",
              "      --disabled-bg-color: #DDD;\n",
              "  }\n",
              "\n",
              "  [theme=dark] .colab-df-quickchart {\n",
              "      --bg-color: #3B4455;\n",
              "      --fill-color: #D2E3FC;\n",
              "      --hover-bg-color: #434B5C;\n",
              "      --hover-fill-color: #FFFFFF;\n",
              "      --disabled-bg-color: #3B4455;\n",
              "      --disabled-fill-color: #666;\n",
              "  }\n",
              "\n",
              "  .colab-df-quickchart {\n",
              "    background-color: var(--bg-color);\n",
              "    border: none;\n",
              "    border-radius: 50%;\n",
              "    cursor: pointer;\n",
              "    display: none;\n",
              "    fill: var(--fill-color);\n",
              "    height: 32px;\n",
              "    padding: 0;\n",
              "    width: 32px;\n",
              "  }\n",
              "\n",
              "  .colab-df-quickchart:hover {\n",
              "    background-color: var(--hover-bg-color);\n",
              "    box-shadow: 0 1px 2px rgba(60, 64, 67, 0.3), 0 1px 3px 1px rgba(60, 64, 67, 0.15);\n",
              "    fill: var(--button-hover-fill-color);\n",
              "  }\n",
              "\n",
              "  .colab-df-quickchart-complete:disabled,\n",
              "  .colab-df-quickchart-complete:disabled:hover {\n",
              "    background-color: var(--disabled-bg-color);\n",
              "    fill: var(--disabled-fill-color);\n",
              "    box-shadow: none;\n",
              "  }\n",
              "\n",
              "  .colab-df-spinner {\n",
              "    border: 2px solid var(--fill-color);\n",
              "    border-color: transparent;\n",
              "    border-bottom-color: var(--fill-color);\n",
              "    animation:\n",
              "      spin 1s steps(1) infinite;\n",
              "  }\n",
              "\n",
              "  @keyframes spin {\n",
              "    0% {\n",
              "      border-color: transparent;\n",
              "      border-bottom-color: var(--fill-color);\n",
              "      border-left-color: var(--fill-color);\n",
              "    }\n",
              "    20% {\n",
              "      border-color: transparent;\n",
              "      border-left-color: var(--fill-color);\n",
              "      border-top-color: var(--fill-color);\n",
              "    }\n",
              "    30% {\n",
              "      border-color: transparent;\n",
              "      border-left-color: var(--fill-color);\n",
              "      border-top-color: var(--fill-color);\n",
              "      border-right-color: var(--fill-color);\n",
              "    }\n",
              "    40% {\n",
              "      border-color: transparent;\n",
              "      border-right-color: var(--fill-color);\n",
              "      border-top-color: var(--fill-color);\n",
              "    }\n",
              "    60% {\n",
              "      border-color: transparent;\n",
              "      border-right-color: var(--fill-color);\n",
              "    }\n",
              "    80% {\n",
              "      border-color: transparent;\n",
              "      border-right-color: var(--fill-color);\n",
              "      border-bottom-color: var(--fill-color);\n",
              "    }\n",
              "    90% {\n",
              "      border-color: transparent;\n",
              "      border-bottom-color: var(--fill-color);\n",
              "    }\n",
              "  }\n",
              "</style>\n",
              "\n",
              "      <script>\n",
              "        async function quickchart(key) {\n",
              "          const quickchartButtonEl =\n",
              "            document.querySelector('#' + key + ' button');\n",
              "          quickchartButtonEl.disabled = true;  // To prevent multiple clicks.\n",
              "          quickchartButtonEl.classList.add('colab-df-spinner');\n",
              "          try {\n",
              "            const charts = await google.colab.kernel.invokeFunction(\n",
              "                'suggestCharts', [key], {});\n",
              "          } catch (error) {\n",
              "            console.error('Error during call to suggestCharts:', error);\n",
              "          }\n",
              "          quickchartButtonEl.classList.remove('colab-df-spinner');\n",
              "          quickchartButtonEl.classList.add('colab-df-quickchart-complete');\n",
              "        }\n",
              "        (() => {\n",
              "          let quickchartButtonEl =\n",
              "            document.querySelector('#df-27d40331-9d51-4a2c-83f3-6d548f6a0f5a button');\n",
              "          quickchartButtonEl.style.display =\n",
              "            google.colab.kernel.accessAllowed ? 'block' : 'none';\n",
              "        })();\n",
              "      </script>\n",
              "    </div>\n",
              "\n",
              "    </div>\n",
              "  </div>\n"
            ],
            "application/vnd.google.colaboratory.intrinsic+json": {
              "type": "dataframe",
              "variable_name": "df",
              "summary": "{\n  \"name\": \"df\",\n  \"rows\": 8597,\n  \"fields\": [\n    {\n      \"column\": \"Date\",\n      \"properties\": {\n        \"dtype\": \"date\",\n        \"min\": \"1990-01-03 00:00:00\",\n        \"max\": \"2024-02-16 00:00:00\",\n        \"num_unique_values\": 8597,\n        \"samples\": [\n          \"2006-10-20 00:00:00\",\n          \"1990-11-16 00:00:00\",\n          \"2017-03-03 00:00:00\"\n        ],\n        \"semantic_type\": \"\",\n        \"description\": \"\"\n      }\n    },\n    {\n      \"column\": \"vix\",\n      \"properties\": {\n        \"dtype\": \"number\",\n        \"std\": 7.9027798274613215,\n        \"min\": 9.14,\n        \"max\": 82.69,\n        \"num_unique_values\": 2507,\n        \"samples\": [\n          31.67,\n          19.59,\n          29.25\n        ],\n        \"semantic_type\": \"\",\n        \"description\": \"\"\n      }\n    },\n    {\n      \"column\": \"sp500\",\n      \"properties\": {\n        \"dtype\": \"number\",\n        \"std\": 1106.241258677252,\n        \"min\": 295.459991,\n        \"max\": 5029.73,\n        \"num_unique_values\": 8380,\n        \"samples\": [\n          1129.030029,\n          4154.52,\n          1896.650024\n        ],\n        \"semantic_type\": \"\",\n        \"description\": \"\"\n      }\n    },\n    {\n      \"column\": \"sp500_volume\",\n      \"properties\": {\n        \"dtype\": \"number\",\n        \"std\": 1847305041.3644469,\n        \"min\": 14990000.0,\n        \"max\": 11456230000.0,\n        \"num_unique_values\": 8372,\n        \"samples\": [\n          4249470000.0,\n          339060000.0,\n          3706740000.0\n        ],\n        \"semantic_type\": \"\",\n        \"description\": \"\"\n      }\n    },\n    {\n      \"column\": \"djia\",\n      \"properties\": {\n        \"dtype\": \"number\",\n        \"std\": 9022.86486201584,\n        \"min\": 2365.1,\n        \"max\": 38797.9,\n        \"num_unique_values\": 8460,\n        \"samples\": [\n          19954.28,\n          19614.81,\n          3232.22\n        ],\n        \"semantic_type\": \"\",\n        \"description\": \"\"\n      }\n    },\n    {\n      \"column\": \"djia_volume\",\n      \"properties\": {\n        \"dtype\": \"number\",\n        \"std\": 133.67130549470323,\n        \"min\": 1.59,\n        \"max\": 922.68,\n        \"num_unique_values\": 7522,\n        \"samples\": [\n          228.29,\n          383.45,\n          135.47\n        ],\n        \"semantic_type\": \"\",\n        \"description\": \"\"\n      }\n    },\n    {\n      \"column\": \"hsi\",\n      \"properties\": {\n        \"dtype\": \"number\",\n        \"std\": 7350.096473734702,\n        \"min\": 2736.600098,\n        \"max\": 33154.121094,\n        \"num_unique_values\": 8109,\n        \"samples\": [\n          23261.080078,\n          27591.25,\n          27946.320313\n        ],\n        \"semantic_type\": \"\",\n        \"description\": \"\"\n      }\n    },\n    {\n      \"column\": \"ads\",\n      \"properties\": {\n        \"dtype\": \"number\",\n        \"std\": 1.6514918811296353,\n        \"min\": -26.4183,\n        \"max\": 9.48214,\n        \"num_unique_values\": 8572,\n        \"samples\": [\n          0.285867,\n          0.756208,\n          -0.444749\n        ],\n        \"semantic_type\": \"\",\n        \"description\": \"\"\n      }\n    },\n    {\n      \"column\": \"us3m\",\n      \"properties\": {\n        \"dtype\": \"number\",\n        \"std\": 2.296294136744813,\n        \"min\": 0.0,\n        \"max\": 8.26,\n        \"num_unique_values\": 735,\n        \"samples\": [\n          1.07,\n          8.03,\n          3.24\n        ],\n        \"semantic_type\": \"\",\n        \"description\": \"\"\n      }\n    },\n    {\n      \"column\": \"joblessness\",\n      \"properties\": {\n        \"dtype\": \"number\",\n        \"std\": 1,\n        \"min\": 1,\n        \"max\": 4,\n        \"num_unique_values\": 4,\n        \"samples\": [\n          2,\n          1,\n          3\n        ],\n        \"semantic_type\": \"\",\n        \"description\": \"\"\n      }\n    },\n    {\n      \"column\": \"epu\",\n      \"properties\": {\n        \"dtype\": \"number\",\n        \"std\": 41.57952995867996,\n        \"min\": 57.2026195960749,\n        \"max\": 350.459817392657,\n        \"num_unique_values\": 410,\n        \"samples\": [\n          92.321181427503,\n          86.3902682387801,\n          79.4469713474817\n        ],\n        \"semantic_type\": \"\",\n        \"description\": \"\"\n      }\n    },\n    {\n      \"column\": \"GPRD\",\n      \"properties\": {\n        \"dtype\": \"number\",\n        \"std\": 64.56820997637551,\n        \"min\": 9.49159812927246,\n        \"max\": 1045.60363769531,\n        \"num_unique_values\": 6371,\n        \"samples\": [\n          197.220123291016,\n          166.005661010742,\n          58.2354164123535\n        ],\n        \"semantic_type\": \"\",\n        \"description\": \"\"\n      }\n    },\n    {\n      \"column\": \"prev_day\",\n      \"properties\": {\n        \"dtype\": \"number\",\n        \"std\": 1105.7104293409664,\n        \"min\": 295.459991,\n        \"max\": 5029.73,\n        \"num_unique_values\": 8380,\n        \"samples\": [\n          1161.51001,\n          4154.87,\n          1878.47998\n        ],\n        \"semantic_type\": \"\",\n        \"description\": \"\"\n      }\n    }\n  ]\n}"
            }
          },
          "metadata": {},
          "execution_count": 182
        }
      ]
    },
    {
      "cell_type": "code",
      "source": [
        "df.columns"
      ],
      "metadata": {
        "colab": {
          "base_uri": "https://localhost:8080/"
        },
        "id": "a_LMZpvNH_xs",
        "outputId": "71e9050c-a0a6-4fb3-dad4-7651f807b668"
      },
      "execution_count": 183,
      "outputs": [
        {
          "output_type": "execute_result",
          "data": {
            "text/plain": [
              "Index(['Date', 'vix', 'sp500', 'sp500_volume', 'djia', 'djia_volume', 'hsi',\n",
              "       'ads', 'us3m', 'joblessness', 'epu', 'GPRD', 'prev_day'],\n",
              "      dtype='object')"
            ]
          },
          "metadata": {},
          "execution_count": 183
        }
      ]
    },
    {
      "cell_type": "markdown",
      "source": [
        "## Yahoo Finance Pricing Data Load"
      ],
      "metadata": {
        "id": "yJGyvWFOqJ1E"
      }
    },
    {
      "cell_type": "code",
      "source": [
        "\n",
        "# This is also available from my github repo: https://github.com/dkrapohl/UWF_DataScience_Capstone\n",
        "# Download ohlc data (match the Kaggle coverage)\n",
        "ohlc = yf.download(\"^GSPC\", start=\"1990-01-01\", end='2024-02-16', group_by=\"column\")\n",
        "ohlc.reset_index(inplace=True)  # Date becomes a column\n",
        "ohlc.columns = [c[0] if isinstance(c, tuple) else c for c in ohlc.columns]                         # Make Date a column\n",
        "\n",
        "# Rename to match your Kaggle naming style\n",
        "ohlc.rename(columns={\n",
        "    'Open':'sp500_open',\n",
        "    'High':'sp500_high',\n",
        "    'Low':'sp500_low',\n",
        "    'Close':'sp500_close',\n",
        "    'Adj Close':'sp500_adj_close',\n",
        "    'Volume':'sp500_ohlc_volume'\n",
        "}, inplace=True)\n",
        "\n",
        "print(ohlc.head())\n"
      ],
      "metadata": {
        "colab": {
          "base_uri": "https://localhost:8080/"
        },
        "id": "kdMqSnPvF7xk",
        "outputId": "bc808451-14ac-4cca-bee3-dbe7b3ac4e7a"
      },
      "execution_count": 184,
      "outputs": [
        {
          "output_type": "stream",
          "name": "stderr",
          "text": [
            "\r[*********************100%***********************]  1 of 1 completed"
          ]
        },
        {
          "output_type": "stream",
          "name": "stdout",
          "text": [
            "        Date  sp500_close  sp500_high   sp500_low  sp500_open  \\\n",
            "0 1990-01-02   359.690002  359.690002  351.980011  353.399994   \n",
            "1 1990-01-03   358.760010  360.589996  357.890015  359.690002   \n",
            "2 1990-01-04   355.670013  358.760010  352.890015  358.760010   \n",
            "3 1990-01-05   352.200012  355.670013  351.350006  355.670013   \n",
            "4 1990-01-08   353.790009  354.239990  350.540009  352.200012   \n",
            "\n",
            "   sp500_ohlc_volume  \n",
            "0          162070000  \n",
            "1          192330000  \n",
            "2          177000000  \n",
            "3          158530000  \n",
            "4          140110000  \n"
          ]
        },
        {
          "output_type": "stream",
          "name": "stderr",
          "text": [
            "\n"
          ]
        }
      ]
    },
    {
      "cell_type": "code",
      "source": [
        "ohlc.columns"
      ],
      "metadata": {
        "colab": {
          "base_uri": "https://localhost:8080/"
        },
        "id": "2gCkrF2RIDiK",
        "outputId": "2c5e52b3-a33d-47d6-b3bb-8930c3a8b30e"
      },
      "execution_count": 185,
      "outputs": [
        {
          "output_type": "execute_result",
          "data": {
            "text/plain": [
              "Index(['Date', 'sp500_close', 'sp500_high', 'sp500_low', 'sp500_open',\n",
              "       'sp500_ohlc_volume'],\n",
              "      dtype='object')"
            ]
          },
          "metadata": {},
          "execution_count": 185
        }
      ]
    },
    {
      "cell_type": "markdown",
      "source": [
        "Columns\n",
        "* Date: trading date\n",
        "* sp500_open: open price (USD)\n",
        "* sp500_high: high price for the day\n",
        "* sp500_low: low price for the day\n",
        "* sp500_close: closing price for the day\n",
        "* sp500_adj_close:\n",
        "* sp500_ohlc_volume: day trading volume\n"
      ],
      "metadata": {
        "id": "s2s5hwUvwudh"
      }
    },
    {
      "cell_type": "markdown",
      "source": [
        "I will add daily economic policy uncertainty index instead of the weekly value in the macroeconomic data"
      ],
      "metadata": {
        "id": "jL3NyNh386oU"
      }
    },
    {
      "cell_type": "markdown",
      "source": [
        "## Policy Uncertainty Data Load"
      ],
      "metadata": {
        "id": "AmLhy2VYqWwG"
      }
    },
    {
      "cell_type": "code",
      "source": [
        "\n",
        "# This is also available from my github repo: https://github.com/dkrapohl/UWF_DataScience_Capstone\n",
        "\n",
        "# Download and read CSV directly into a DataFrame\n",
        "# These data are daily and built from term counts in major newspapers\n",
        "#   specifically related to national policy uncertainty.\n",
        "# This is a function because I'll use this code to construct a daily predictor later\n",
        "def get_epu_df():\n",
        "  url = \"https://www.policyuncertainty.com/media/All_Daily_Policy_Data.csv\"\n",
        "  response = requests.get(url)\n",
        "  response.raise_for_status()   # ensure download succeeded\n",
        "\n",
        "  # Get into pandas df\n",
        "  df_epu = pd.read_csv(BytesIO(response.content), encoding=\"ISO-8859-1\")\n",
        "\n",
        "  # Take the first three columns (day, month, year) and make a date\n",
        "  df_epu['Date'] = pd.to_datetime(dict(year=df_epu.iloc[:,2],\n",
        "                                  month=df_epu.iloc[:,1],\n",
        "                                  day=df_epu.iloc[:,0]),\n",
        "                              errors='coerce')\n",
        "\n",
        "  # Keep only 'Date' and 'daily_policy_index'\n",
        "  # (the 4th column appears to be the daily policy index)\n",
        "  df_epu = df_epu[['Date', df_epu.columns[3]]].rename(columns={df_epu.columns[3]: 'daily_policy_index'})\n",
        "\n",
        "  # Convert daily_policy_index to numeric\n",
        "  df_epu['daily_policy_index'] = pd.to_numeric(df_epu['daily_policy_index'], errors='coerce')\n",
        "\n",
        "  # Drop rows with missing dates\n",
        "  df_epu = df_epu.dropna(subset=['Date'])\n",
        "\n",
        "  return df_epu\n",
        "\n",
        "# assign the downloaded epu data\n",
        "df_epu = get_epu_df()\n",
        "# Display the first few rows\n",
        "df_epu.tail()\n"
      ],
      "metadata": {
        "colab": {
          "base_uri": "https://localhost:8080/",
          "height": 206
        },
        "id": "WHqKDhG4AEBv",
        "outputId": "69f103d4-c173-4553-8a50-e4da2bc5dba1"
      },
      "execution_count": 186,
      "outputs": [
        {
          "output_type": "execute_result",
          "data": {
            "text/plain": [
              "            Date  daily_policy_index\n",
              "14905 2025-10-21              286.04\n",
              "14906 2025-10-22              493.41\n",
              "14907 2025-10-23              230.85\n",
              "14908 2025-10-24              328.53\n",
              "14909 2025-10-25              203.13"
            ],
            "text/html": [
              "\n",
              "  <div id=\"df-6aa2ceca-2148-4a7c-8d0e-fde3883e786c\" class=\"colab-df-container\">\n",
              "    <div>\n",
              "<style scoped>\n",
              "    .dataframe tbody tr th:only-of-type {\n",
              "        vertical-align: middle;\n",
              "    }\n",
              "\n",
              "    .dataframe tbody tr th {\n",
              "        vertical-align: top;\n",
              "    }\n",
              "\n",
              "    .dataframe thead th {\n",
              "        text-align: right;\n",
              "    }\n",
              "</style>\n",
              "<table border=\"1\" class=\"dataframe\">\n",
              "  <thead>\n",
              "    <tr style=\"text-align: right;\">\n",
              "      <th></th>\n",
              "      <th>Date</th>\n",
              "      <th>daily_policy_index</th>\n",
              "    </tr>\n",
              "  </thead>\n",
              "  <tbody>\n",
              "    <tr>\n",
              "      <th>14905</th>\n",
              "      <td>2025-10-21</td>\n",
              "      <td>286.04</td>\n",
              "    </tr>\n",
              "    <tr>\n",
              "      <th>14906</th>\n",
              "      <td>2025-10-22</td>\n",
              "      <td>493.41</td>\n",
              "    </tr>\n",
              "    <tr>\n",
              "      <th>14907</th>\n",
              "      <td>2025-10-23</td>\n",
              "      <td>230.85</td>\n",
              "    </tr>\n",
              "    <tr>\n",
              "      <th>14908</th>\n",
              "      <td>2025-10-24</td>\n",
              "      <td>328.53</td>\n",
              "    </tr>\n",
              "    <tr>\n",
              "      <th>14909</th>\n",
              "      <td>2025-10-25</td>\n",
              "      <td>203.13</td>\n",
              "    </tr>\n",
              "  </tbody>\n",
              "</table>\n",
              "</div>\n",
              "    <div class=\"colab-df-buttons\">\n",
              "\n",
              "  <div class=\"colab-df-container\">\n",
              "    <button class=\"colab-df-convert\" onclick=\"convertToInteractive('df-6aa2ceca-2148-4a7c-8d0e-fde3883e786c')\"\n",
              "            title=\"Convert this dataframe to an interactive table.\"\n",
              "            style=\"display:none;\">\n",
              "\n",
              "  <svg xmlns=\"http://www.w3.org/2000/svg\" height=\"24px\" viewBox=\"0 -960 960 960\">\n",
              "    <path d=\"M120-120v-720h720v720H120Zm60-500h600v-160H180v160Zm220 220h160v-160H400v160Zm0 220h160v-160H400v160ZM180-400h160v-160H180v160Zm440 0h160v-160H620v160ZM180-180h160v-160H180v160Zm440 0h160v-160H620v160Z\"/>\n",
              "  </svg>\n",
              "    </button>\n",
              "\n",
              "  <style>\n",
              "    .colab-df-container {\n",
              "      display:flex;\n",
              "      gap: 12px;\n",
              "    }\n",
              "\n",
              "    .colab-df-convert {\n",
              "      background-color: #E8F0FE;\n",
              "      border: none;\n",
              "      border-radius: 50%;\n",
              "      cursor: pointer;\n",
              "      display: none;\n",
              "      fill: #1967D2;\n",
              "      height: 32px;\n",
              "      padding: 0 0 0 0;\n",
              "      width: 32px;\n",
              "    }\n",
              "\n",
              "    .colab-df-convert:hover {\n",
              "      background-color: #E2EBFA;\n",
              "      box-shadow: 0px 1px 2px rgba(60, 64, 67, 0.3), 0px 1px 3px 1px rgba(60, 64, 67, 0.15);\n",
              "      fill: #174EA6;\n",
              "    }\n",
              "\n",
              "    .colab-df-buttons div {\n",
              "      margin-bottom: 4px;\n",
              "    }\n",
              "\n",
              "    [theme=dark] .colab-df-convert {\n",
              "      background-color: #3B4455;\n",
              "      fill: #D2E3FC;\n",
              "    }\n",
              "\n",
              "    [theme=dark] .colab-df-convert:hover {\n",
              "      background-color: #434B5C;\n",
              "      box-shadow: 0px 1px 3px 1px rgba(0, 0, 0, 0.15);\n",
              "      filter: drop-shadow(0px 1px 2px rgba(0, 0, 0, 0.3));\n",
              "      fill: #FFFFFF;\n",
              "    }\n",
              "  </style>\n",
              "\n",
              "    <script>\n",
              "      const buttonEl =\n",
              "        document.querySelector('#df-6aa2ceca-2148-4a7c-8d0e-fde3883e786c button.colab-df-convert');\n",
              "      buttonEl.style.display =\n",
              "        google.colab.kernel.accessAllowed ? 'block' : 'none';\n",
              "\n",
              "      async function convertToInteractive(key) {\n",
              "        const element = document.querySelector('#df-6aa2ceca-2148-4a7c-8d0e-fde3883e786c');\n",
              "        const dataTable =\n",
              "          await google.colab.kernel.invokeFunction('convertToInteractive',\n",
              "                                                    [key], {});\n",
              "        if (!dataTable) return;\n",
              "\n",
              "        const docLinkHtml = 'Like what you see? Visit the ' +\n",
              "          '<a target=\"_blank\" href=https://colab.research.google.com/notebooks/data_table.ipynb>data table notebook</a>'\n",
              "          + ' to learn more about interactive tables.';\n",
              "        element.innerHTML = '';\n",
              "        dataTable['output_type'] = 'display_data';\n",
              "        await google.colab.output.renderOutput(dataTable, element);\n",
              "        const docLink = document.createElement('div');\n",
              "        docLink.innerHTML = docLinkHtml;\n",
              "        element.appendChild(docLink);\n",
              "      }\n",
              "    </script>\n",
              "  </div>\n",
              "\n",
              "\n",
              "    <div id=\"df-6f0f6b08-cc83-483a-91ad-1ac25c9ad143\">\n",
              "      <button class=\"colab-df-quickchart\" onclick=\"quickchart('df-6f0f6b08-cc83-483a-91ad-1ac25c9ad143')\"\n",
              "                title=\"Suggest charts\"\n",
              "                style=\"display:none;\">\n",
              "\n",
              "<svg xmlns=\"http://www.w3.org/2000/svg\" height=\"24px\"viewBox=\"0 0 24 24\"\n",
              "     width=\"24px\">\n",
              "    <g>\n",
              "        <path d=\"M19 3H5c-1.1 0-2 .9-2 2v14c0 1.1.9 2 2 2h14c1.1 0 2-.9 2-2V5c0-1.1-.9-2-2-2zM9 17H7v-7h2v7zm4 0h-2V7h2v10zm4 0h-2v-4h2v4z\"/>\n",
              "    </g>\n",
              "</svg>\n",
              "      </button>\n",
              "\n",
              "<style>\n",
              "  .colab-df-quickchart {\n",
              "      --bg-color: #E8F0FE;\n",
              "      --fill-color: #1967D2;\n",
              "      --hover-bg-color: #E2EBFA;\n",
              "      --hover-fill-color: #174EA6;\n",
              "      --disabled-fill-color: #AAA;\n",
              "      --disabled-bg-color: #DDD;\n",
              "  }\n",
              "\n",
              "  [theme=dark] .colab-df-quickchart {\n",
              "      --bg-color: #3B4455;\n",
              "      --fill-color: #D2E3FC;\n",
              "      --hover-bg-color: #434B5C;\n",
              "      --hover-fill-color: #FFFFFF;\n",
              "      --disabled-bg-color: #3B4455;\n",
              "      --disabled-fill-color: #666;\n",
              "  }\n",
              "\n",
              "  .colab-df-quickchart {\n",
              "    background-color: var(--bg-color);\n",
              "    border: none;\n",
              "    border-radius: 50%;\n",
              "    cursor: pointer;\n",
              "    display: none;\n",
              "    fill: var(--fill-color);\n",
              "    height: 32px;\n",
              "    padding: 0;\n",
              "    width: 32px;\n",
              "  }\n",
              "\n",
              "  .colab-df-quickchart:hover {\n",
              "    background-color: var(--hover-bg-color);\n",
              "    box-shadow: 0 1px 2px rgba(60, 64, 67, 0.3), 0 1px 3px 1px rgba(60, 64, 67, 0.15);\n",
              "    fill: var(--button-hover-fill-color);\n",
              "  }\n",
              "\n",
              "  .colab-df-quickchart-complete:disabled,\n",
              "  .colab-df-quickchart-complete:disabled:hover {\n",
              "    background-color: var(--disabled-bg-color);\n",
              "    fill: var(--disabled-fill-color);\n",
              "    box-shadow: none;\n",
              "  }\n",
              "\n",
              "  .colab-df-spinner {\n",
              "    border: 2px solid var(--fill-color);\n",
              "    border-color: transparent;\n",
              "    border-bottom-color: var(--fill-color);\n",
              "    animation:\n",
              "      spin 1s steps(1) infinite;\n",
              "  }\n",
              "\n",
              "  @keyframes spin {\n",
              "    0% {\n",
              "      border-color: transparent;\n",
              "      border-bottom-color: var(--fill-color);\n",
              "      border-left-color: var(--fill-color);\n",
              "    }\n",
              "    20% {\n",
              "      border-color: transparent;\n",
              "      border-left-color: var(--fill-color);\n",
              "      border-top-color: var(--fill-color);\n",
              "    }\n",
              "    30% {\n",
              "      border-color: transparent;\n",
              "      border-left-color: var(--fill-color);\n",
              "      border-top-color: var(--fill-color);\n",
              "      border-right-color: var(--fill-color);\n",
              "    }\n",
              "    40% {\n",
              "      border-color: transparent;\n",
              "      border-right-color: var(--fill-color);\n",
              "      border-top-color: var(--fill-color);\n",
              "    }\n",
              "    60% {\n",
              "      border-color: transparent;\n",
              "      border-right-color: var(--fill-color);\n",
              "    }\n",
              "    80% {\n",
              "      border-color: transparent;\n",
              "      border-right-color: var(--fill-color);\n",
              "      border-bottom-color: var(--fill-color);\n",
              "    }\n",
              "    90% {\n",
              "      border-color: transparent;\n",
              "      border-bottom-color: var(--fill-color);\n",
              "    }\n",
              "  }\n",
              "</style>\n",
              "\n",
              "      <script>\n",
              "        async function quickchart(key) {\n",
              "          const quickchartButtonEl =\n",
              "            document.querySelector('#' + key + ' button');\n",
              "          quickchartButtonEl.disabled = true;  // To prevent multiple clicks.\n",
              "          quickchartButtonEl.classList.add('colab-df-spinner');\n",
              "          try {\n",
              "            const charts = await google.colab.kernel.invokeFunction(\n",
              "                'suggestCharts', [key], {});\n",
              "          } catch (error) {\n",
              "            console.error('Error during call to suggestCharts:', error);\n",
              "          }\n",
              "          quickchartButtonEl.classList.remove('colab-df-spinner');\n",
              "          quickchartButtonEl.classList.add('colab-df-quickchart-complete');\n",
              "        }\n",
              "        (() => {\n",
              "          let quickchartButtonEl =\n",
              "            document.querySelector('#df-6f0f6b08-cc83-483a-91ad-1ac25c9ad143 button');\n",
              "          quickchartButtonEl.style.display =\n",
              "            google.colab.kernel.accessAllowed ? 'block' : 'none';\n",
              "        })();\n",
              "      </script>\n",
              "    </div>\n",
              "\n",
              "    </div>\n",
              "  </div>\n"
            ],
            "application/vnd.google.colaboratory.intrinsic+json": {
              "type": "dataframe",
              "summary": "{\n  \"name\": \"df_epu\",\n  \"rows\": 5,\n  \"fields\": [\n    {\n      \"column\": \"Date\",\n      \"properties\": {\n        \"dtype\": \"date\",\n        \"min\": \"2025-10-21 00:00:00\",\n        \"max\": \"2025-10-25 00:00:00\",\n        \"num_unique_values\": 5,\n        \"samples\": [\n          \"2025-10-22 00:00:00\",\n          \"2025-10-25 00:00:00\",\n          \"2025-10-23 00:00:00\"\n        ],\n        \"semantic_type\": \"\",\n        \"description\": \"\"\n      }\n    },\n    {\n      \"column\": \"daily_policy_index\",\n      \"properties\": {\n        \"dtype\": \"number\",\n        \"std\": 114.26904839019183,\n        \"min\": 203.13,\n        \"max\": 493.41,\n        \"num_unique_values\": 5,\n        \"samples\": [\n          493.41,\n          203.13,\n          230.85\n        ],\n        \"semantic_type\": \"\",\n        \"description\": \"\"\n      }\n    }\n  ]\n}"
            }
          },
          "metadata": {},
          "execution_count": 186
        }
      ]
    },
    {
      "cell_type": "markdown",
      "source": [
        "Merge the pricing, macroeconomics, and economic policy daily"
      ],
      "metadata": {
        "id": "WWHhLdMoDOvv"
      }
    },
    {
      "cell_type": "code",
      "source": [
        "# Ensure all are datetime and sorted\n",
        "df['Date'] = pd.to_datetime(df['Date'])\n",
        "ohlc['Date'] = pd.to_datetime(ohlc['Date'])\n",
        "df_epu['Date'] = pd.to_datetime(df_epu['Date'])\n",
        "\n",
        "# Merge on Date\n",
        "merged = pd.merge(df, df_epu, on='Date', how='left')  # put economic policy into df\n",
        "merged = pd.merge(merged, ohlc, on='Date', how='left')    # and append pricing\n",
        "\n",
        "print(merged.head())\n"
      ],
      "metadata": {
        "colab": {
          "base_uri": "https://localhost:8080/"
        },
        "id": "4bi7KplMGadc",
        "outputId": "1c6a4d3a-7ad3-461b-8852-1c62ca705b2a"
      },
      "execution_count": 187,
      "outputs": [
        {
          "output_type": "stream",
          "name": "stdout",
          "text": [
            "        Date    vix       sp500  sp500_volume     djia  djia_volume  \\\n",
            "0 1990-01-03  18.19  358.760010   192330000.0  2809.73        23.62   \n",
            "1 1990-01-04  19.22  355.670013   177000000.0  2796.08        24.37   \n",
            "2 1990-01-05  20.11  352.200012   158530000.0  2773.25        20.29   \n",
            "3 1990-01-08  20.26  353.790009   140110000.0  2794.37        16.61   \n",
            "4 1990-01-09  22.20  349.619995   155210000.0  2766.00        15.80   \n",
            "\n",
            "           hsi       ads  us3m  joblessness         epu        GPRD  \\\n",
            "0  2858.699951 -0.229917  7.89            3  100.359178   75.408051   \n",
            "1  2868.000000 -0.246065  7.84            3  100.359178   56.085804   \n",
            "2  2839.899902 -0.260393  7.79            3  100.359178   63.847675   \n",
            "3  2816.000000 -0.291750  7.79            3  100.359178  102.841156   \n",
            "4  2822.000000 -0.297326  7.80            3  100.359178  138.435669   \n",
            "\n",
            "     prev_day  daily_policy_index  sp500_close  sp500_high   sp500_low  \\\n",
            "0  359.690002               59.10   358.760010  360.589996  357.890015   \n",
            "1  358.760010               76.38   355.670013  358.760010  352.890015   \n",
            "2  355.670013               57.82   352.200012  355.670013  351.350006   \n",
            "3  352.200012              126.54   353.790009  354.239990  350.540009   \n",
            "4  353.790009               99.32   349.619995  354.170013  349.609985   \n",
            "\n",
            "   sp500_open  sp500_ohlc_volume  \n",
            "0  359.690002        192330000.0  \n",
            "1  358.760010        177000000.0  \n",
            "2  355.670013        158530000.0  \n",
            "3  352.200012        140110000.0  \n",
            "4  353.829987        155210000.0  \n"
          ]
        }
      ]
    },
    {
      "cell_type": "code",
      "source": [
        "merged.columns"
      ],
      "metadata": {
        "colab": {
          "base_uri": "https://localhost:8080/"
        },
        "id": "E-EAXPYPMQL1",
        "outputId": "122b7edc-fd7c-4d3d-ec9d-98da4186cef7"
      },
      "execution_count": 188,
      "outputs": [
        {
          "output_type": "execute_result",
          "data": {
            "text/plain": [
              "Index(['Date', 'vix', 'sp500', 'sp500_volume', 'djia', 'djia_volume', 'hsi',\n",
              "       'ads', 'us3m', 'joblessness', 'epu', 'GPRD', 'prev_day',\n",
              "       'daily_policy_index', 'sp500_close', 'sp500_high', 'sp500_low',\n",
              "       'sp500_open', 'sp500_ohlc_volume'],\n",
              "      dtype='object')"
            ]
          },
          "metadata": {},
          "execution_count": 188
        }
      ]
    },
    {
      "cell_type": "markdown",
      "source": [
        "# Initial Data Augmentation\n",
        "\n",
        "We'll add returns, rolling values, and indicators"
      ],
      "metadata": {
        "id": "-Qo9FNYtq-IF"
      }
    },
    {
      "cell_type": "markdown",
      "source": [
        "## Add Return and Direction"
      ],
      "metadata": {
        "id": "-RHJ0ekmrNr3"
      }
    },
    {
      "cell_type": "code",
      "source": [
        "# make the response variables we'll likely build models over later\n",
        "# this is the 5 and 20 day returns\n",
        "merged['5d_return'] = merged['sp500_close'].shift(-5) - merged['sp500_close']   # get the return 5 days in the future\n",
        "merged['20d_return'] = merged['sp500_close'].shift(-20) - merged['sp500_close'] # get return 20 days in the future\n"
      ],
      "metadata": {
        "id": "SQwyzHSYwADB"
      },
      "execution_count": 189,
      "outputs": []
    },
    {
      "cell_type": "code",
      "source": [
        "# add 1, 5, 20 day price direction\n",
        "merged['1d_return'] = merged['sp500_close'].pct_change()  # (today - yesterday)/yesterday\n",
        "\n",
        "# Use returns (daily pct change) and scale\n",
        "merged['1d_return_pct'] = merged['1d_return'] * 100\n",
        "\n",
        "# 1-day direction: +1 if up, -1 if down\n",
        "merged['direction_1d'] = np.where(merged['1d_return'].shift(-1) >0, 1, -1)\n",
        "\n",
        "# 5-day direction: sum returns over next 5 days, then take sign\n",
        "merged['direction_5d'] = np.where(merged['5d_return'] >0, 1,-1)\n",
        "\n",
        "# 20-day direction: sum returns over next 20 days, then take sign\n",
        "merged['direction_20d'] = np.where(merged['20d_return'] >0, 1, -1)\n",
        "\n"
      ],
      "metadata": {
        "id": "22yU6PLETsEo"
      },
      "execution_count": 190,
      "outputs": []
    },
    {
      "cell_type": "markdown",
      "source": [
        "## Add Technical Indicators"
      ],
      "metadata": {
        "id": "AgLfZJcTrLFG"
      }
    },
    {
      "cell_type": "code",
      "source": [
        "# add technical indicators\n",
        "\n",
        "# -------------------------- MOMENTUM ---------------------------\n",
        "# MACD\n",
        "macd = ta.macd(merged['sp500_close'])\n",
        "merged['macd'] = macd['MACD_12_26_9']\n",
        "merged['macd_signal'] = macd['MACDs_12_26_9']\n",
        "\n",
        "# Rate of change (ROC))\n",
        "merged['roc'] = ta.momentum.roc(close=merged['sp500_close'])\n",
        "\n",
        "# relative strength (RSI)\n",
        "merged['rsi'] = ta.rsi(merged['sp500_close'], length=14)\n",
        "\n",
        "# Fast and slow stochastic\n",
        "df_stoch = ta.stoch(merged['sp500_high'],merged['sp500_low'],merged['sp500_close'], k=14, d=3)\n",
        "merged['stoch_k'] = df_stoch['STOCHk_14_3_3']\n",
        "merged['stoch_d'] = df_stoch['STOCHd_14_3_3']\n",
        "\n",
        "# Average Directional Movement (ADX)\n",
        "merged['adx'] = ta.adx(merged['sp500_high'], merged['sp500_low'], merged['sp500_close'], timeperiod=14)['ADX_14']\n",
        "\n",
        "# -------------------- Volume ------------------------------------\n",
        "# On-Balance Volume (OBV)\n",
        "merged['obv'] = ta.volume.obv(close=merged['sp500_close'], volume=merged['sp500_ohlc_volume'])\n",
        "\n",
        "# ------------------ Volatility ----------------------------------\n",
        "# Average True Range (ATR)\n",
        "merged['atr'] = ta.volatility.atr(high=merged['sp500_high'], low=merged['sp500_low'], close=merged['sp500_close'], window=14)\n",
        "\n",
        "# Bollinger Bands\n",
        "bb = ta.bbands(merged['sp500_close'], length=20)\n",
        "merged['bb_upper'] = bb['BBU_20_2.0_2.0']\n",
        "merged['bb_middle'] = bb['BBM_20_2.0_2.0']\n",
        "merged['bb_lower'] = bb['BBL_20_2.0_2.0']\n",
        "\n",
        "# ------------------- Moving averages ---------------------------\n",
        "# Exponential Moving Average (EMA)\n",
        "\n",
        "merged['ema_12'] = merged['sp500_close'].ewm(span=12, adjust=False).mean()\n",
        "merged['ema_26'] = merged['sp500_close'].ewm(span=26, adjust=False).mean()\n",
        "\n",
        "# Simple Moving Average (SMA)\n",
        "merged['sma_5'] = merged['sp500_close'].rolling(window=5).mean()\n",
        "merged['sma_20'] = merged['sp500_close'].rolling(window=20).mean()\n"
      ],
      "metadata": {
        "id": "ROpSKJcT6wJO"
      },
      "execution_count": 191,
      "outputs": []
    },
    {
      "cell_type": "code",
      "source": [
        "# make a 1 day lag like a VAR model\n",
        "merged[f'return_lag_1'] = merged['1d_return'].shift(1) # acf+pacf said 1 day lag is potenntially relevant\n",
        "\n",
        "# Add to potentially overcome clustering of volatility metrics\n",
        "merged['roll_std_5'] = merged['1d_return'].rolling(5).std()\n",
        "merged['roll_std_20'] = merged['1d_return'].rolling(20).std()"
      ],
      "metadata": {
        "id": "z96AVymy01LR"
      },
      "execution_count": 192,
      "outputs": []
    },
    {
      "cell_type": "code",
      "source": [
        "df=merged\n",
        "df.head(2)"
      ],
      "metadata": {
        "colab": {
          "base_uri": "https://localhost:8080/",
          "height": 196
        },
        "id": "ybrhLcDI1b1T",
        "outputId": "3e4f52e1-8b3d-4b31-b596-9ed1420d1a4b"
      },
      "execution_count": 193,
      "outputs": [
        {
          "output_type": "execute_result",
          "data": {
            "text/plain": [
              "        Date    vix       sp500  sp500_volume     djia  djia_volume  \\\n",
              "0 1990-01-03  18.19  358.760010   192330000.0  2809.73        23.62   \n",
              "1 1990-01-04  19.22  355.670013   177000000.0  2796.08        24.37   \n",
              "\n",
              "           hsi       ads  us3m  joblessness  ...  bb_upper  bb_middle  \\\n",
              "0  2858.699951 -0.229917  7.89            3  ...       NaN        NaN   \n",
              "1  2868.000000 -0.246065  7.84            3  ...       NaN        NaN   \n",
              "\n",
              "   bb_lower      ema_12      ema_26  sma_5  sma_20  return_lag_1  roll_std_5  \\\n",
              "0       NaN  358.760010  358.760010    NaN     NaN           NaN         NaN   \n",
              "1       NaN  358.284626  358.531121    NaN     NaN           NaN         NaN   \n",
              "\n",
              "   roll_std_20  \n",
              "0          NaN  \n",
              "1          NaN  \n",
              "\n",
              "[2 rows x 45 columns]"
            ],
            "text/html": [
              "\n",
              "  <div id=\"df-49cde199-bea6-4f7a-9ebd-38d753efe2da\" class=\"colab-df-container\">\n",
              "    <div>\n",
              "<style scoped>\n",
              "    .dataframe tbody tr th:only-of-type {\n",
              "        vertical-align: middle;\n",
              "    }\n",
              "\n",
              "    .dataframe tbody tr th {\n",
              "        vertical-align: top;\n",
              "    }\n",
              "\n",
              "    .dataframe thead th {\n",
              "        text-align: right;\n",
              "    }\n",
              "</style>\n",
              "<table border=\"1\" class=\"dataframe\">\n",
              "  <thead>\n",
              "    <tr style=\"text-align: right;\">\n",
              "      <th></th>\n",
              "      <th>Date</th>\n",
              "      <th>vix</th>\n",
              "      <th>sp500</th>\n",
              "      <th>sp500_volume</th>\n",
              "      <th>djia</th>\n",
              "      <th>djia_volume</th>\n",
              "      <th>hsi</th>\n",
              "      <th>ads</th>\n",
              "      <th>us3m</th>\n",
              "      <th>joblessness</th>\n",
              "      <th>...</th>\n",
              "      <th>bb_upper</th>\n",
              "      <th>bb_middle</th>\n",
              "      <th>bb_lower</th>\n",
              "      <th>ema_12</th>\n",
              "      <th>ema_26</th>\n",
              "      <th>sma_5</th>\n",
              "      <th>sma_20</th>\n",
              "      <th>return_lag_1</th>\n",
              "      <th>roll_std_5</th>\n",
              "      <th>roll_std_20</th>\n",
              "    </tr>\n",
              "  </thead>\n",
              "  <tbody>\n",
              "    <tr>\n",
              "      <th>0</th>\n",
              "      <td>1990-01-03</td>\n",
              "      <td>18.19</td>\n",
              "      <td>358.760010</td>\n",
              "      <td>192330000.0</td>\n",
              "      <td>2809.73</td>\n",
              "      <td>23.62</td>\n",
              "      <td>2858.699951</td>\n",
              "      <td>-0.229917</td>\n",
              "      <td>7.89</td>\n",
              "      <td>3</td>\n",
              "      <td>...</td>\n",
              "      <td>NaN</td>\n",
              "      <td>NaN</td>\n",
              "      <td>NaN</td>\n",
              "      <td>358.760010</td>\n",
              "      <td>358.760010</td>\n",
              "      <td>NaN</td>\n",
              "      <td>NaN</td>\n",
              "      <td>NaN</td>\n",
              "      <td>NaN</td>\n",
              "      <td>NaN</td>\n",
              "    </tr>\n",
              "    <tr>\n",
              "      <th>1</th>\n",
              "      <td>1990-01-04</td>\n",
              "      <td>19.22</td>\n",
              "      <td>355.670013</td>\n",
              "      <td>177000000.0</td>\n",
              "      <td>2796.08</td>\n",
              "      <td>24.37</td>\n",
              "      <td>2868.000000</td>\n",
              "      <td>-0.246065</td>\n",
              "      <td>7.84</td>\n",
              "      <td>3</td>\n",
              "      <td>...</td>\n",
              "      <td>NaN</td>\n",
              "      <td>NaN</td>\n",
              "      <td>NaN</td>\n",
              "      <td>358.284626</td>\n",
              "      <td>358.531121</td>\n",
              "      <td>NaN</td>\n",
              "      <td>NaN</td>\n",
              "      <td>NaN</td>\n",
              "      <td>NaN</td>\n",
              "      <td>NaN</td>\n",
              "    </tr>\n",
              "  </tbody>\n",
              "</table>\n",
              "<p>2 rows × 45 columns</p>\n",
              "</div>\n",
              "    <div class=\"colab-df-buttons\">\n",
              "\n",
              "  <div class=\"colab-df-container\">\n",
              "    <button class=\"colab-df-convert\" onclick=\"convertToInteractive('df-49cde199-bea6-4f7a-9ebd-38d753efe2da')\"\n",
              "            title=\"Convert this dataframe to an interactive table.\"\n",
              "            style=\"display:none;\">\n",
              "\n",
              "  <svg xmlns=\"http://www.w3.org/2000/svg\" height=\"24px\" viewBox=\"0 -960 960 960\">\n",
              "    <path d=\"M120-120v-720h720v720H120Zm60-500h600v-160H180v160Zm220 220h160v-160H400v160Zm0 220h160v-160H400v160ZM180-400h160v-160H180v160Zm440 0h160v-160H620v160ZM180-180h160v-160H180v160Zm440 0h160v-160H620v160Z\"/>\n",
              "  </svg>\n",
              "    </button>\n",
              "\n",
              "  <style>\n",
              "    .colab-df-container {\n",
              "      display:flex;\n",
              "      gap: 12px;\n",
              "    }\n",
              "\n",
              "    .colab-df-convert {\n",
              "      background-color: #E8F0FE;\n",
              "      border: none;\n",
              "      border-radius: 50%;\n",
              "      cursor: pointer;\n",
              "      display: none;\n",
              "      fill: #1967D2;\n",
              "      height: 32px;\n",
              "      padding: 0 0 0 0;\n",
              "      width: 32px;\n",
              "    }\n",
              "\n",
              "    .colab-df-convert:hover {\n",
              "      background-color: #E2EBFA;\n",
              "      box-shadow: 0px 1px 2px rgba(60, 64, 67, 0.3), 0px 1px 3px 1px rgba(60, 64, 67, 0.15);\n",
              "      fill: #174EA6;\n",
              "    }\n",
              "\n",
              "    .colab-df-buttons div {\n",
              "      margin-bottom: 4px;\n",
              "    }\n",
              "\n",
              "    [theme=dark] .colab-df-convert {\n",
              "      background-color: #3B4455;\n",
              "      fill: #D2E3FC;\n",
              "    }\n",
              "\n",
              "    [theme=dark] .colab-df-convert:hover {\n",
              "      background-color: #434B5C;\n",
              "      box-shadow: 0px 1px 3px 1px rgba(0, 0, 0, 0.15);\n",
              "      filter: drop-shadow(0px 1px 2px rgba(0, 0, 0, 0.3));\n",
              "      fill: #FFFFFF;\n",
              "    }\n",
              "  </style>\n",
              "\n",
              "    <script>\n",
              "      const buttonEl =\n",
              "        document.querySelector('#df-49cde199-bea6-4f7a-9ebd-38d753efe2da button.colab-df-convert');\n",
              "      buttonEl.style.display =\n",
              "        google.colab.kernel.accessAllowed ? 'block' : 'none';\n",
              "\n",
              "      async function convertToInteractive(key) {\n",
              "        const element = document.querySelector('#df-49cde199-bea6-4f7a-9ebd-38d753efe2da');\n",
              "        const dataTable =\n",
              "          await google.colab.kernel.invokeFunction('convertToInteractive',\n",
              "                                                    [key], {});\n",
              "        if (!dataTable) return;\n",
              "\n",
              "        const docLinkHtml = 'Like what you see? Visit the ' +\n",
              "          '<a target=\"_blank\" href=https://colab.research.google.com/notebooks/data_table.ipynb>data table notebook</a>'\n",
              "          + ' to learn more about interactive tables.';\n",
              "        element.innerHTML = '';\n",
              "        dataTable['output_type'] = 'display_data';\n",
              "        await google.colab.output.renderOutput(dataTable, element);\n",
              "        const docLink = document.createElement('div');\n",
              "        docLink.innerHTML = docLinkHtml;\n",
              "        element.appendChild(docLink);\n",
              "      }\n",
              "    </script>\n",
              "  </div>\n",
              "\n",
              "\n",
              "    <div id=\"df-13fc9609-50e8-4893-9502-ea6c23b4926b\">\n",
              "      <button class=\"colab-df-quickchart\" onclick=\"quickchart('df-13fc9609-50e8-4893-9502-ea6c23b4926b')\"\n",
              "                title=\"Suggest charts\"\n",
              "                style=\"display:none;\">\n",
              "\n",
              "<svg xmlns=\"http://www.w3.org/2000/svg\" height=\"24px\"viewBox=\"0 0 24 24\"\n",
              "     width=\"24px\">\n",
              "    <g>\n",
              "        <path d=\"M19 3H5c-1.1 0-2 .9-2 2v14c0 1.1.9 2 2 2h14c1.1 0 2-.9 2-2V5c0-1.1-.9-2-2-2zM9 17H7v-7h2v7zm4 0h-2V7h2v10zm4 0h-2v-4h2v4z\"/>\n",
              "    </g>\n",
              "</svg>\n",
              "      </button>\n",
              "\n",
              "<style>\n",
              "  .colab-df-quickchart {\n",
              "      --bg-color: #E8F0FE;\n",
              "      --fill-color: #1967D2;\n",
              "      --hover-bg-color: #E2EBFA;\n",
              "      --hover-fill-color: #174EA6;\n",
              "      --disabled-fill-color: #AAA;\n",
              "      --disabled-bg-color: #DDD;\n",
              "  }\n",
              "\n",
              "  [theme=dark] .colab-df-quickchart {\n",
              "      --bg-color: #3B4455;\n",
              "      --fill-color: #D2E3FC;\n",
              "      --hover-bg-color: #434B5C;\n",
              "      --hover-fill-color: #FFFFFF;\n",
              "      --disabled-bg-color: #3B4455;\n",
              "      --disabled-fill-color: #666;\n",
              "  }\n",
              "\n",
              "  .colab-df-quickchart {\n",
              "    background-color: var(--bg-color);\n",
              "    border: none;\n",
              "    border-radius: 50%;\n",
              "    cursor: pointer;\n",
              "    display: none;\n",
              "    fill: var(--fill-color);\n",
              "    height: 32px;\n",
              "    padding: 0;\n",
              "    width: 32px;\n",
              "  }\n",
              "\n",
              "  .colab-df-quickchart:hover {\n",
              "    background-color: var(--hover-bg-color);\n",
              "    box-shadow: 0 1px 2px rgba(60, 64, 67, 0.3), 0 1px 3px 1px rgba(60, 64, 67, 0.15);\n",
              "    fill: var(--button-hover-fill-color);\n",
              "  }\n",
              "\n",
              "  .colab-df-quickchart-complete:disabled,\n",
              "  .colab-df-quickchart-complete:disabled:hover {\n",
              "    background-color: var(--disabled-bg-color);\n",
              "    fill: var(--disabled-fill-color);\n",
              "    box-shadow: none;\n",
              "  }\n",
              "\n",
              "  .colab-df-spinner {\n",
              "    border: 2px solid var(--fill-color);\n",
              "    border-color: transparent;\n",
              "    border-bottom-color: var(--fill-color);\n",
              "    animation:\n",
              "      spin 1s steps(1) infinite;\n",
              "  }\n",
              "\n",
              "  @keyframes spin {\n",
              "    0% {\n",
              "      border-color: transparent;\n",
              "      border-bottom-color: var(--fill-color);\n",
              "      border-left-color: var(--fill-color);\n",
              "    }\n",
              "    20% {\n",
              "      border-color: transparent;\n",
              "      border-left-color: var(--fill-color);\n",
              "      border-top-color: var(--fill-color);\n",
              "    }\n",
              "    30% {\n",
              "      border-color: transparent;\n",
              "      border-left-color: var(--fill-color);\n",
              "      border-top-color: var(--fill-color);\n",
              "      border-right-color: var(--fill-color);\n",
              "    }\n",
              "    40% {\n",
              "      border-color: transparent;\n",
              "      border-right-color: var(--fill-color);\n",
              "      border-top-color: var(--fill-color);\n",
              "    }\n",
              "    60% {\n",
              "      border-color: transparent;\n",
              "      border-right-color: var(--fill-color);\n",
              "    }\n",
              "    80% {\n",
              "      border-color: transparent;\n",
              "      border-right-color: var(--fill-color);\n",
              "      border-bottom-color: var(--fill-color);\n",
              "    }\n",
              "    90% {\n",
              "      border-color: transparent;\n",
              "      border-bottom-color: var(--fill-color);\n",
              "    }\n",
              "  }\n",
              "</style>\n",
              "\n",
              "      <script>\n",
              "        async function quickchart(key) {\n",
              "          const quickchartButtonEl =\n",
              "            document.querySelector('#' + key + ' button');\n",
              "          quickchartButtonEl.disabled = true;  // To prevent multiple clicks.\n",
              "          quickchartButtonEl.classList.add('colab-df-spinner');\n",
              "          try {\n",
              "            const charts = await google.colab.kernel.invokeFunction(\n",
              "                'suggestCharts', [key], {});\n",
              "          } catch (error) {\n",
              "            console.error('Error during call to suggestCharts:', error);\n",
              "          }\n",
              "          quickchartButtonEl.classList.remove('colab-df-spinner');\n",
              "          quickchartButtonEl.classList.add('colab-df-quickchart-complete');\n",
              "        }\n",
              "        (() => {\n",
              "          let quickchartButtonEl =\n",
              "            document.querySelector('#df-13fc9609-50e8-4893-9502-ea6c23b4926b button');\n",
              "          quickchartButtonEl.style.display =\n",
              "            google.colab.kernel.accessAllowed ? 'block' : 'none';\n",
              "        })();\n",
              "      </script>\n",
              "    </div>\n",
              "\n",
              "    </div>\n",
              "  </div>\n"
            ],
            "application/vnd.google.colaboratory.intrinsic+json": {
              "type": "dataframe",
              "variable_name": "df"
            }
          },
          "metadata": {},
          "execution_count": 193
        }
      ]
    },
    {
      "cell_type": "markdown",
      "metadata": {
        "id": "4a50964e"
      },
      "source": [
        "# Exploratory Data Analysis\n",
        "\n",
        "Calculate and display descriptive statistics for the numerical columns in the DataFrame.\n"
      ]
    },
    {
      "cell_type": "code",
      "source": [
        "df.columns"
      ],
      "metadata": {
        "colab": {
          "base_uri": "https://localhost:8080/"
        },
        "id": "u45AX6zd4oM4",
        "outputId": "9f9d90d2-327d-4fc6-90e9-9fcd983f3beb"
      },
      "execution_count": 194,
      "outputs": [
        {
          "output_type": "execute_result",
          "data": {
            "text/plain": [
              "Index(['Date', 'vix', 'sp500', 'sp500_volume', 'djia', 'djia_volume', 'hsi',\n",
              "       'ads', 'us3m', 'joblessness', 'epu', 'GPRD', 'prev_day',\n",
              "       'daily_policy_index', 'sp500_close', 'sp500_high', 'sp500_low',\n",
              "       'sp500_open', 'sp500_ohlc_volume', '5d_return', '20d_return',\n",
              "       '1d_return', '1d_return_pct', 'direction_1d', 'direction_5d',\n",
              "       'direction_20d', 'macd', 'macd_signal', 'roc', 'rsi', 'stoch_k',\n",
              "       'stoch_d', 'adx', 'obv', 'atr', 'bb_upper', 'bb_middle', 'bb_lower',\n",
              "       'ema_12', 'ema_26', 'sma_5', 'sma_20', 'return_lag_1', 'roll_std_5',\n",
              "       'roll_std_20'],\n",
              "      dtype='object')"
            ]
          },
          "metadata": {},
          "execution_count": 194
        }
      ]
    },
    {
      "cell_type": "code",
      "metadata": {
        "colab": {
          "base_uri": "https://localhost:8080/",
          "height": 454
        },
        "id": "8014701d",
        "outputId": "262077dc-6dae-4c4b-8901-32f0017743ba"
      },
      "source": [
        "display(df.describe())"
      ],
      "execution_count": 195,
      "outputs": [
        {
          "output_type": "display_data",
          "data": {
            "text/plain": [
              "                                Date          vix        sp500  sp500_volume  \\\n",
              "count                           8597  8597.000000  8597.000000  8.597000e+03   \n",
              "mean   2007-01-19 10:42:31.866930432    19.560306  1596.652238  2.463780e+09   \n",
              "min              1990-01-03 00:00:00     9.140000   295.459991  1.499000e+07   \n",
              "25%              1998-07-06 00:00:00    13.850000   898.700012  6.467400e+08   \n",
              "50%              2007-01-22 00:00:00    17.730000  1270.199951  2.521000e+09   \n",
              "75%              2015-08-04 00:00:00    22.960000  2058.899902  3.834320e+09   \n",
              "max              2024-02-16 00:00:00    82.690000  5029.730000  1.145623e+10   \n",
              "std                              NaN     7.902780  1106.241259  1.847305e+09   \n",
              "\n",
              "               djia  djia_volume           hsi          ads         us3m  \\\n",
              "count   8597.000000  8597.000000   8597.000000  8597.000000  8597.000000   \n",
              "mean   13662.535273   183.166216  16763.460949    -0.158047     2.690266   \n",
              "min     2365.100000     1.590000   2736.600098   -26.418300     0.000000   \n",
              "25%     8038.570000    63.720000  10722.799805    -0.383563     0.180000   \n",
              "50%    10846.290000   177.830000  16803.759766    -0.045977     2.300000   \n",
              "75%    17635.390000   272.590000  22867.330078     0.247940     4.990000   \n",
              "max    38797.900000   922.680000  33154.121094     9.482140     8.260000   \n",
              "std     9022.864862   133.671305   7350.096474     1.651492     2.296294   \n",
              "\n",
              "       joblessness  ...     bb_upper    bb_middle     bb_lower       ema_12  \\\n",
              "count  8597.000000  ...  8577.000000  8577.000000  8577.000000  8597.000000   \n",
              "mean      2.492381  ...  1645.869650  1593.905336  1541.941021  1593.697174   \n",
              "min       1.000000  ...   317.280394   305.832503   294.092668   303.711152   \n",
              "25%       1.000000  ...   944.732461   899.656509   851.313198   896.524735   \n",
              "50%       2.000000  ...  1307.957361  1271.292505  1232.579933  1270.187378   \n",
              "75%       3.000000  ...  2113.382203  2055.047510  2001.876711  2055.814283   \n",
              "max       4.000000  ...  5064.318909  4934.692529  4807.993407  4971.622114   \n",
              "std       1.117501  ...  1137.417952  1099.814961  1063.639559  1102.827141   \n",
              "\n",
              "            ema_26        sma_5       sma_20  return_lag_1   roll_std_5  \\\n",
              "count  8597.000000  8592.000000  8577.000000   8595.000000  8592.000000   \n",
              "mean   1590.028270  1595.750917  1593.905336      0.000373     0.009273   \n",
              "min     308.216878   299.280005   305.832503     -0.119841     0.000530   \n",
              "25%     897.311229   896.887012   899.656509     -0.004487     0.005001   \n",
              "50%    1269.877013  1269.893994  1271.292505      0.000574     0.007567   \n",
              "75%    2049.403464  2058.355994  2055.047510      0.005717     0.011380   \n",
              "max    4906.537515  5006.393945  4934.692529      0.115800     0.094495   \n",
              "std    1098.839210  1104.408436  1099.814961      0.011431     0.007049   \n",
              "\n",
              "       roll_std_20  \n",
              "count  8577.000000  \n",
              "mean      0.009753  \n",
              "min       0.002072  \n",
              "25%       0.006037  \n",
              "50%       0.008275  \n",
              "75%       0.011692  \n",
              "max       0.061182  \n",
              "std       0.006116  \n",
              "\n",
              "[8 rows x 45 columns]"
            ],
            "text/html": [
              "\n",
              "  <div id=\"df-af97c7da-9a9e-4271-9c82-88df5329f2ef\" class=\"colab-df-container\">\n",
              "    <div>\n",
              "<style scoped>\n",
              "    .dataframe tbody tr th:only-of-type {\n",
              "        vertical-align: middle;\n",
              "    }\n",
              "\n",
              "    .dataframe tbody tr th {\n",
              "        vertical-align: top;\n",
              "    }\n",
              "\n",
              "    .dataframe thead th {\n",
              "        text-align: right;\n",
              "    }\n",
              "</style>\n",
              "<table border=\"1\" class=\"dataframe\">\n",
              "  <thead>\n",
              "    <tr style=\"text-align: right;\">\n",
              "      <th></th>\n",
              "      <th>Date</th>\n",
              "      <th>vix</th>\n",
              "      <th>sp500</th>\n",
              "      <th>sp500_volume</th>\n",
              "      <th>djia</th>\n",
              "      <th>djia_volume</th>\n",
              "      <th>hsi</th>\n",
              "      <th>ads</th>\n",
              "      <th>us3m</th>\n",
              "      <th>joblessness</th>\n",
              "      <th>...</th>\n",
              "      <th>bb_upper</th>\n",
              "      <th>bb_middle</th>\n",
              "      <th>bb_lower</th>\n",
              "      <th>ema_12</th>\n",
              "      <th>ema_26</th>\n",
              "      <th>sma_5</th>\n",
              "      <th>sma_20</th>\n",
              "      <th>return_lag_1</th>\n",
              "      <th>roll_std_5</th>\n",
              "      <th>roll_std_20</th>\n",
              "    </tr>\n",
              "  </thead>\n",
              "  <tbody>\n",
              "    <tr>\n",
              "      <th>count</th>\n",
              "      <td>8597</td>\n",
              "      <td>8597.000000</td>\n",
              "      <td>8597.000000</td>\n",
              "      <td>8.597000e+03</td>\n",
              "      <td>8597.000000</td>\n",
              "      <td>8597.000000</td>\n",
              "      <td>8597.000000</td>\n",
              "      <td>8597.000000</td>\n",
              "      <td>8597.000000</td>\n",
              "      <td>8597.000000</td>\n",
              "      <td>...</td>\n",
              "      <td>8577.000000</td>\n",
              "      <td>8577.000000</td>\n",
              "      <td>8577.000000</td>\n",
              "      <td>8597.000000</td>\n",
              "      <td>8597.000000</td>\n",
              "      <td>8592.000000</td>\n",
              "      <td>8577.000000</td>\n",
              "      <td>8595.000000</td>\n",
              "      <td>8592.000000</td>\n",
              "      <td>8577.000000</td>\n",
              "    </tr>\n",
              "    <tr>\n",
              "      <th>mean</th>\n",
              "      <td>2007-01-19 10:42:31.866930432</td>\n",
              "      <td>19.560306</td>\n",
              "      <td>1596.652238</td>\n",
              "      <td>2.463780e+09</td>\n",
              "      <td>13662.535273</td>\n",
              "      <td>183.166216</td>\n",
              "      <td>16763.460949</td>\n",
              "      <td>-0.158047</td>\n",
              "      <td>2.690266</td>\n",
              "      <td>2.492381</td>\n",
              "      <td>...</td>\n",
              "      <td>1645.869650</td>\n",
              "      <td>1593.905336</td>\n",
              "      <td>1541.941021</td>\n",
              "      <td>1593.697174</td>\n",
              "      <td>1590.028270</td>\n",
              "      <td>1595.750917</td>\n",
              "      <td>1593.905336</td>\n",
              "      <td>0.000373</td>\n",
              "      <td>0.009273</td>\n",
              "      <td>0.009753</td>\n",
              "    </tr>\n",
              "    <tr>\n",
              "      <th>min</th>\n",
              "      <td>1990-01-03 00:00:00</td>\n",
              "      <td>9.140000</td>\n",
              "      <td>295.459991</td>\n",
              "      <td>1.499000e+07</td>\n",
              "      <td>2365.100000</td>\n",
              "      <td>1.590000</td>\n",
              "      <td>2736.600098</td>\n",
              "      <td>-26.418300</td>\n",
              "      <td>0.000000</td>\n",
              "      <td>1.000000</td>\n",
              "      <td>...</td>\n",
              "      <td>317.280394</td>\n",
              "      <td>305.832503</td>\n",
              "      <td>294.092668</td>\n",
              "      <td>303.711152</td>\n",
              "      <td>308.216878</td>\n",
              "      <td>299.280005</td>\n",
              "      <td>305.832503</td>\n",
              "      <td>-0.119841</td>\n",
              "      <td>0.000530</td>\n",
              "      <td>0.002072</td>\n",
              "    </tr>\n",
              "    <tr>\n",
              "      <th>25%</th>\n",
              "      <td>1998-07-06 00:00:00</td>\n",
              "      <td>13.850000</td>\n",
              "      <td>898.700012</td>\n",
              "      <td>6.467400e+08</td>\n",
              "      <td>8038.570000</td>\n",
              "      <td>63.720000</td>\n",
              "      <td>10722.799805</td>\n",
              "      <td>-0.383563</td>\n",
              "      <td>0.180000</td>\n",
              "      <td>1.000000</td>\n",
              "      <td>...</td>\n",
              "      <td>944.732461</td>\n",
              "      <td>899.656509</td>\n",
              "      <td>851.313198</td>\n",
              "      <td>896.524735</td>\n",
              "      <td>897.311229</td>\n",
              "      <td>896.887012</td>\n",
              "      <td>899.656509</td>\n",
              "      <td>-0.004487</td>\n",
              "      <td>0.005001</td>\n",
              "      <td>0.006037</td>\n",
              "    </tr>\n",
              "    <tr>\n",
              "      <th>50%</th>\n",
              "      <td>2007-01-22 00:00:00</td>\n",
              "      <td>17.730000</td>\n",
              "      <td>1270.199951</td>\n",
              "      <td>2.521000e+09</td>\n",
              "      <td>10846.290000</td>\n",
              "      <td>177.830000</td>\n",
              "      <td>16803.759766</td>\n",
              "      <td>-0.045977</td>\n",
              "      <td>2.300000</td>\n",
              "      <td>2.000000</td>\n",
              "      <td>...</td>\n",
              "      <td>1307.957361</td>\n",
              "      <td>1271.292505</td>\n",
              "      <td>1232.579933</td>\n",
              "      <td>1270.187378</td>\n",
              "      <td>1269.877013</td>\n",
              "      <td>1269.893994</td>\n",
              "      <td>1271.292505</td>\n",
              "      <td>0.000574</td>\n",
              "      <td>0.007567</td>\n",
              "      <td>0.008275</td>\n",
              "    </tr>\n",
              "    <tr>\n",
              "      <th>75%</th>\n",
              "      <td>2015-08-04 00:00:00</td>\n",
              "      <td>22.960000</td>\n",
              "      <td>2058.899902</td>\n",
              "      <td>3.834320e+09</td>\n",
              "      <td>17635.390000</td>\n",
              "      <td>272.590000</td>\n",
              "      <td>22867.330078</td>\n",
              "      <td>0.247940</td>\n",
              "      <td>4.990000</td>\n",
              "      <td>3.000000</td>\n",
              "      <td>...</td>\n",
              "      <td>2113.382203</td>\n",
              "      <td>2055.047510</td>\n",
              "      <td>2001.876711</td>\n",
              "      <td>2055.814283</td>\n",
              "      <td>2049.403464</td>\n",
              "      <td>2058.355994</td>\n",
              "      <td>2055.047510</td>\n",
              "      <td>0.005717</td>\n",
              "      <td>0.011380</td>\n",
              "      <td>0.011692</td>\n",
              "    </tr>\n",
              "    <tr>\n",
              "      <th>max</th>\n",
              "      <td>2024-02-16 00:00:00</td>\n",
              "      <td>82.690000</td>\n",
              "      <td>5029.730000</td>\n",
              "      <td>1.145623e+10</td>\n",
              "      <td>38797.900000</td>\n",
              "      <td>922.680000</td>\n",
              "      <td>33154.121094</td>\n",
              "      <td>9.482140</td>\n",
              "      <td>8.260000</td>\n",
              "      <td>4.000000</td>\n",
              "      <td>...</td>\n",
              "      <td>5064.318909</td>\n",
              "      <td>4934.692529</td>\n",
              "      <td>4807.993407</td>\n",
              "      <td>4971.622114</td>\n",
              "      <td>4906.537515</td>\n",
              "      <td>5006.393945</td>\n",
              "      <td>4934.692529</td>\n",
              "      <td>0.115800</td>\n",
              "      <td>0.094495</td>\n",
              "      <td>0.061182</td>\n",
              "    </tr>\n",
              "    <tr>\n",
              "      <th>std</th>\n",
              "      <td>NaN</td>\n",
              "      <td>7.902780</td>\n",
              "      <td>1106.241259</td>\n",
              "      <td>1.847305e+09</td>\n",
              "      <td>9022.864862</td>\n",
              "      <td>133.671305</td>\n",
              "      <td>7350.096474</td>\n",
              "      <td>1.651492</td>\n",
              "      <td>2.296294</td>\n",
              "      <td>1.117501</td>\n",
              "      <td>...</td>\n",
              "      <td>1137.417952</td>\n",
              "      <td>1099.814961</td>\n",
              "      <td>1063.639559</td>\n",
              "      <td>1102.827141</td>\n",
              "      <td>1098.839210</td>\n",
              "      <td>1104.408436</td>\n",
              "      <td>1099.814961</td>\n",
              "      <td>0.011431</td>\n",
              "      <td>0.007049</td>\n",
              "      <td>0.006116</td>\n",
              "    </tr>\n",
              "  </tbody>\n",
              "</table>\n",
              "<p>8 rows × 45 columns</p>\n",
              "</div>\n",
              "    <div class=\"colab-df-buttons\">\n",
              "\n",
              "  <div class=\"colab-df-container\">\n",
              "    <button class=\"colab-df-convert\" onclick=\"convertToInteractive('df-af97c7da-9a9e-4271-9c82-88df5329f2ef')\"\n",
              "            title=\"Convert this dataframe to an interactive table.\"\n",
              "            style=\"display:none;\">\n",
              "\n",
              "  <svg xmlns=\"http://www.w3.org/2000/svg\" height=\"24px\" viewBox=\"0 -960 960 960\">\n",
              "    <path d=\"M120-120v-720h720v720H120Zm60-500h600v-160H180v160Zm220 220h160v-160H400v160Zm0 220h160v-160H400v160ZM180-400h160v-160H180v160Zm440 0h160v-160H620v160ZM180-180h160v-160H180v160Zm440 0h160v-160H620v160Z\"/>\n",
              "  </svg>\n",
              "    </button>\n",
              "\n",
              "  <style>\n",
              "    .colab-df-container {\n",
              "      display:flex;\n",
              "      gap: 12px;\n",
              "    }\n",
              "\n",
              "    .colab-df-convert {\n",
              "      background-color: #E8F0FE;\n",
              "      border: none;\n",
              "      border-radius: 50%;\n",
              "      cursor: pointer;\n",
              "      display: none;\n",
              "      fill: #1967D2;\n",
              "      height: 32px;\n",
              "      padding: 0 0 0 0;\n",
              "      width: 32px;\n",
              "    }\n",
              "\n",
              "    .colab-df-convert:hover {\n",
              "      background-color: #E2EBFA;\n",
              "      box-shadow: 0px 1px 2px rgba(60, 64, 67, 0.3), 0px 1px 3px 1px rgba(60, 64, 67, 0.15);\n",
              "      fill: #174EA6;\n",
              "    }\n",
              "\n",
              "    .colab-df-buttons div {\n",
              "      margin-bottom: 4px;\n",
              "    }\n",
              "\n",
              "    [theme=dark] .colab-df-convert {\n",
              "      background-color: #3B4455;\n",
              "      fill: #D2E3FC;\n",
              "    }\n",
              "\n",
              "    [theme=dark] .colab-df-convert:hover {\n",
              "      background-color: #434B5C;\n",
              "      box-shadow: 0px 1px 3px 1px rgba(0, 0, 0, 0.15);\n",
              "      filter: drop-shadow(0px 1px 2px rgba(0, 0, 0, 0.3));\n",
              "      fill: #FFFFFF;\n",
              "    }\n",
              "  </style>\n",
              "\n",
              "    <script>\n",
              "      const buttonEl =\n",
              "        document.querySelector('#df-af97c7da-9a9e-4271-9c82-88df5329f2ef button.colab-df-convert');\n",
              "      buttonEl.style.display =\n",
              "        google.colab.kernel.accessAllowed ? 'block' : 'none';\n",
              "\n",
              "      async function convertToInteractive(key) {\n",
              "        const element = document.querySelector('#df-af97c7da-9a9e-4271-9c82-88df5329f2ef');\n",
              "        const dataTable =\n",
              "          await google.colab.kernel.invokeFunction('convertToInteractive',\n",
              "                                                    [key], {});\n",
              "        if (!dataTable) return;\n",
              "\n",
              "        const docLinkHtml = 'Like what you see? Visit the ' +\n",
              "          '<a target=\"_blank\" href=https://colab.research.google.com/notebooks/data_table.ipynb>data table notebook</a>'\n",
              "          + ' to learn more about interactive tables.';\n",
              "        element.innerHTML = '';\n",
              "        dataTable['output_type'] = 'display_data';\n",
              "        await google.colab.output.renderOutput(dataTable, element);\n",
              "        const docLink = document.createElement('div');\n",
              "        docLink.innerHTML = docLinkHtml;\n",
              "        element.appendChild(docLink);\n",
              "      }\n",
              "    </script>\n",
              "  </div>\n",
              "\n",
              "\n",
              "    <div id=\"df-248a887e-c8c3-48cc-a0df-8836411356be\">\n",
              "      <button class=\"colab-df-quickchart\" onclick=\"quickchart('df-248a887e-c8c3-48cc-a0df-8836411356be')\"\n",
              "                title=\"Suggest charts\"\n",
              "                style=\"display:none;\">\n",
              "\n",
              "<svg xmlns=\"http://www.w3.org/2000/svg\" height=\"24px\"viewBox=\"0 0 24 24\"\n",
              "     width=\"24px\">\n",
              "    <g>\n",
              "        <path d=\"M19 3H5c-1.1 0-2 .9-2 2v14c0 1.1.9 2 2 2h14c1.1 0 2-.9 2-2V5c0-1.1-.9-2-2-2zM9 17H7v-7h2v7zm4 0h-2V7h2v10zm4 0h-2v-4h2v4z\"/>\n",
              "    </g>\n",
              "</svg>\n",
              "      </button>\n",
              "\n",
              "<style>\n",
              "  .colab-df-quickchart {\n",
              "      --bg-color: #E8F0FE;\n",
              "      --fill-color: #1967D2;\n",
              "      --hover-bg-color: #E2EBFA;\n",
              "      --hover-fill-color: #174EA6;\n",
              "      --disabled-fill-color: #AAA;\n",
              "      --disabled-bg-color: #DDD;\n",
              "  }\n",
              "\n",
              "  [theme=dark] .colab-df-quickchart {\n",
              "      --bg-color: #3B4455;\n",
              "      --fill-color: #D2E3FC;\n",
              "      --hover-bg-color: #434B5C;\n",
              "      --hover-fill-color: #FFFFFF;\n",
              "      --disabled-bg-color: #3B4455;\n",
              "      --disabled-fill-color: #666;\n",
              "  }\n",
              "\n",
              "  .colab-df-quickchart {\n",
              "    background-color: var(--bg-color);\n",
              "    border: none;\n",
              "    border-radius: 50%;\n",
              "    cursor: pointer;\n",
              "    display: none;\n",
              "    fill: var(--fill-color);\n",
              "    height: 32px;\n",
              "    padding: 0;\n",
              "    width: 32px;\n",
              "  }\n",
              "\n",
              "  .colab-df-quickchart:hover {\n",
              "    background-color: var(--hover-bg-color);\n",
              "    box-shadow: 0 1px 2px rgba(60, 64, 67, 0.3), 0 1px 3px 1px rgba(60, 64, 67, 0.15);\n",
              "    fill: var(--button-hover-fill-color);\n",
              "  }\n",
              "\n",
              "  .colab-df-quickchart-complete:disabled,\n",
              "  .colab-df-quickchart-complete:disabled:hover {\n",
              "    background-color: var(--disabled-bg-color);\n",
              "    fill: var(--disabled-fill-color);\n",
              "    box-shadow: none;\n",
              "  }\n",
              "\n",
              "  .colab-df-spinner {\n",
              "    border: 2px solid var(--fill-color);\n",
              "    border-color: transparent;\n",
              "    border-bottom-color: var(--fill-color);\n",
              "    animation:\n",
              "      spin 1s steps(1) infinite;\n",
              "  }\n",
              "\n",
              "  @keyframes spin {\n",
              "    0% {\n",
              "      border-color: transparent;\n",
              "      border-bottom-color: var(--fill-color);\n",
              "      border-left-color: var(--fill-color);\n",
              "    }\n",
              "    20% {\n",
              "      border-color: transparent;\n",
              "      border-left-color: var(--fill-color);\n",
              "      border-top-color: var(--fill-color);\n",
              "    }\n",
              "    30% {\n",
              "      border-color: transparent;\n",
              "      border-left-color: var(--fill-color);\n",
              "      border-top-color: var(--fill-color);\n",
              "      border-right-color: var(--fill-color);\n",
              "    }\n",
              "    40% {\n",
              "      border-color: transparent;\n",
              "      border-right-color: var(--fill-color);\n",
              "      border-top-color: var(--fill-color);\n",
              "    }\n",
              "    60% {\n",
              "      border-color: transparent;\n",
              "      border-right-color: var(--fill-color);\n",
              "    }\n",
              "    80% {\n",
              "      border-color: transparent;\n",
              "      border-right-color: var(--fill-color);\n",
              "      border-bottom-color: var(--fill-color);\n",
              "    }\n",
              "    90% {\n",
              "      border-color: transparent;\n",
              "      border-bottom-color: var(--fill-color);\n",
              "    }\n",
              "  }\n",
              "</style>\n",
              "\n",
              "      <script>\n",
              "        async function quickchart(key) {\n",
              "          const quickchartButtonEl =\n",
              "            document.querySelector('#' + key + ' button');\n",
              "          quickchartButtonEl.disabled = true;  // To prevent multiple clicks.\n",
              "          quickchartButtonEl.classList.add('colab-df-spinner');\n",
              "          try {\n",
              "            const charts = await google.colab.kernel.invokeFunction(\n",
              "                'suggestCharts', [key], {});\n",
              "          } catch (error) {\n",
              "            console.error('Error during call to suggestCharts:', error);\n",
              "          }\n",
              "          quickchartButtonEl.classList.remove('colab-df-spinner');\n",
              "          quickchartButtonEl.classList.add('colab-df-quickchart-complete');\n",
              "        }\n",
              "        (() => {\n",
              "          let quickchartButtonEl =\n",
              "            document.querySelector('#df-248a887e-c8c3-48cc-a0df-8836411356be button');\n",
              "          quickchartButtonEl.style.display =\n",
              "            google.colab.kernel.accessAllowed ? 'block' : 'none';\n",
              "        })();\n",
              "      </script>\n",
              "    </div>\n",
              "\n",
              "    </div>\n",
              "  </div>\n"
            ],
            "application/vnd.google.colaboratory.intrinsic+json": {
              "type": "dataframe"
            }
          },
          "metadata": {}
        }
      ]
    },
    {
      "cell_type": "markdown",
      "metadata": {
        "id": "0041a1cc"
      },
      "source": [
        "## Explore correlations\n",
        "\n",
        "Calculate and visualize the correlation matrix to understand the relationships between different features.\n"
      ]
    },
    {
      "cell_type": "code",
      "metadata": {
        "colab": {
          "base_uri": "https://localhost:8080/",
          "height": 1000
        },
        "id": "db4dfd59",
        "outputId": "1c8b4309-6032-40dd-b3e9-1593c4114b4c"
      },
      "source": [
        "# get the decile for each correlation to give 0-10 heat map/correlation matrix\n",
        "def assign_decile(x):\n",
        "    return np.searchsorted(deciles, x, side=\"right\") - 1\n",
        "\n",
        "\n",
        "# Compute correlation matrix (numeric only)\n",
        "corr_matrix = df.corr(numeric_only=True)\n",
        "\n",
        "# Flatten and compute deciles\n",
        "corr_values = corr_matrix.to_numpy().flatten()        # get the matrix to a numpy array\n",
        "mask = ~np.eye(corr_matrix.shape[0], dtype=bool)      # create the identify matrix\n",
        "deciles = np.percentile(corr_values[mask.flatten()], np.arange(0, 101, 10)) # get percentiles\n",
        "\n",
        "corr_decile = corr_matrix.applymap(assign_decile)     # get the deciles\n",
        "\n",
        "# make the heatmap of deciles\n",
        "plt.figure(figsize=(20, 18))  # make figure larger\n",
        "sns.heatmap(\n",
        "    corr_decile,\n",
        "    annot=True,\n",
        "    fmt=\"d\",\n",
        "    cmap=\"YlGnBu\",  # use yellow-green-blue since I'm colorblind\n",
        "    cbar=True,\n",
        "    linewidths=0.5, # add grid lines between cells\n",
        ")\n",
        "\n",
        "plt.title(\"Correlation Matrix (Decile Bins)\", fontsize=20)\n",
        "\n",
        "# Rotate x-axis labels for readability\n",
        "plt.xticks(rotation=90, fontsize=10)\n",
        "plt.yticks(rotation=0, fontsize=10)\n",
        "\n",
        "plt.tight_layout()\n",
        "plt.show()\n"
      ],
      "execution_count": 196,
      "outputs": [
        {
          "output_type": "display_data",
          "data": {
            "text/plain": [
              "<Figure size 2000x1800 with 2 Axes>"
            ],
            "image/png": "[encoded data removed]"
          },
          "metadata": {}
        }
      ]
    },
    {
      "cell_type": "markdown",
      "metadata": {
        "id": "c3862f3f"
      },
      "source": [
        "## Visualize target variable distribution\n",
        "\n",
        "Visualize the distribution of the target variables (1-day, 5-day, and 20-day directions) to understand the class balance.\n"
      ]
    },
    {
      "cell_type": "code",
      "metadata": {
        "colab": {
          "base_uri": "https://localhost:8080/",
          "height": 419
        },
        "id": "738d9c8e",
        "outputId": "f975d2e1-0ab4-41e4-c189-c1d5e8083422"
      },
      "source": [
        "fig, axes = plt.subplots(1, 3, figsize=(18, 6))\n",
        "\n",
        "sns.countplot(x='direction_1d', data=df, ax=axes[0])\n",
        "axes[0].set_title('Distribution of 1-Day Direction')\n",
        "\n",
        "sns.countplot(x='direction_5d', data=df, ax=axes[1])\n",
        "axes[1].set_title('Distribution of 5-Day Direction')\n",
        "\n",
        "sns.countplot(x='direction_20d', data=df, ax=axes[2])\n",
        "axes[2].set_title('Distribution of 20-Day Direction')\n",
        "\n",
        "plt.tight_layout()\n",
        "plt.show()"
      ],
      "execution_count": 197,
      "outputs": [
        {
          "output_type": "display_data",
          "data": {
            "text/plain": [
              "<Figure size 1800x600 with 3 Axes>"
            ],
            "image/png": "[encoded data removed]"
          },
          "metadata": {}
        }
      ]
    },
    {
      "cell_type": "markdown",
      "source": [
        "I'll record the 1, 5, and 20 day class imbalance"
      ],
      "metadata": {
        "id": "_7DP66iRQs1S"
      }
    },
    {
      "cell_type": "markdown",
      "source": [
        "Last round before we train, we've added rolling data so we'll do a mean imputer for the periods we don't have. We'll be missing 19 values in the 20-day rolling column, 5 rows in the 5-day rolling, and 1 value in the lagged return column. We'll impute those in place."
      ],
      "metadata": {
        "id": "iOJUVG5-LWgZ"
      }
    },
    {
      "cell_type": "code",
      "source": [
        "def print_missing_value_counts(df):\n",
        "  # Count NaNs in any column\n",
        "  print(df.isna().any(axis=1).sum())\n",
        "\n",
        "\n",
        "# Get the count of missing values. Should be ~25\n",
        "print_missing_value_counts(df)\n",
        "\n",
        "# Columns to impute\n",
        "cols_to_impute = ['return_lag_1', 'roll_std_5', 'roll_std_20']\n",
        "\n",
        "# Initialize imputer to replace missing with the mean\n",
        "imputer = SimpleImputer(strategy='mean')\n",
        "\n",
        "# Fit on the missing values and transform\n",
        "df[cols_to_impute] = imputer.fit_transform(df[cols_to_impute])\n",
        "\n",
        "# Verify we're not missing any more\n",
        "print_missing_value_counts(df)"
      ],
      "metadata": {
        "id": "W8-7oQkH5Efc",
        "colab": {
          "base_uri": "https://localhost:8080/"
        },
        "outputId": "b25fc0b9-faf4-4d40-a7cd-ddad45b2b646"
      },
      "execution_count": 198,
      "outputs": [
        {
          "output_type": "stream",
          "name": "stdout",
          "text": [
            "54\n",
            "54\n"
          ]
        }
      ]
    },
    {
      "cell_type": "code",
      "source": [
        "print_missing_value_counts(df)\n",
        "# drop rows with ANY NaN values\n",
        "df = df.dropna()\n",
        "\n",
        "# reset the index to clean up\n",
        "df = df.reset_index(drop=True)\n",
        "print_missing_value_counts(df)"
      ],
      "metadata": {
        "colab": {
          "base_uri": "https://localhost:8080/"
        },
        "id": "w2rBWJt276Ce",
        "outputId": "38807e84-b8a9-4b51-dce2-8c8d8b8a59cc"
      },
      "execution_count": 199,
      "outputs": [
        {
          "output_type": "stream",
          "name": "stdout",
          "text": [
            "54\n",
            "0\n"
          ]
        }
      ]
    },
    {
      "cell_type": "code",
      "source": [
        "# Prepare x and y for modeling\n",
        "# Separate features and target\n",
        "predictor_drop_columns = ['direction_1d', 'direction_5d', 'direction_20d',\n",
        "                     'Date', '1d_return', '1d_return_pct', 'return_lag_1',\n",
        "                     '5d_return', '20d_return',\n",
        "                     'sp500', 'sp500_close']\n",
        "df_input_features = df.drop(columns=predictor_drop_columns)   # predict the next day\n",
        "y_basic_target = df['direction_1d']\n",
        "\n"
      ],
      "metadata": {
        "id": "hmQ3V1sjNU1g"
      },
      "execution_count": 200,
      "outputs": []
    },
    {
      "cell_type": "markdown",
      "source": [
        "# Feature Reduction\n",
        "\n",
        "We'll define a basic model, use it to reduce features, do PCA,"
      ],
      "metadata": {
        "id": "K8tEeKAEtytJ"
      }
    },
    {
      "cell_type": "markdown",
      "source": [
        "## Define a modelling function\n",
        "I will reuse a modelling function throughout my analysis to see how different transforms like PCA and column removal based on VIF change the model quality score."
      ],
      "metadata": {
        "id": "JNyxiY1kgWWo"
      }
    },
    {
      "cell_type": "code",
      "source": [
        "# Function clean_params\n",
        "# Purpose:\n",
        "#   cleans the data type info from the params collection for printout\n",
        "# Parameters:\n",
        "#   params - dictionary of parameters in the random forest model\n",
        "# Output:\n",
        "#   dictionary with the data type names removed\n",
        "def clean_params(params):\n",
        "    \"\"\"Convert NumPy types in params to plain Python types for clean printing.\"\"\"\n",
        "    def convert(v):\n",
        "        if isinstance(v, (np.integer,)):\n",
        "            return int(v)\n",
        "        elif isinstance(v, (np.floating,)):\n",
        "            return float(v)\n",
        "        elif isinstance(v, (np.str_,)):\n",
        "            return str(v)\n",
        "        return v\n",
        "    return {k: convert(v) for k, v in params.items()}\n",
        "\n",
        "# Function do_train_rf\n",
        "# Purpose:\n",
        "#   Train a random forest model with random search for hyperparameter tuning\n",
        "#   Report on the out-of-bag score for each randomly trained model\n",
        "#   Preserve the best model for use\n",
        "# Parameters:\n",
        "#   X - the set of predictor features\n",
        "#   y - the target feature\n",
        "#   {n_models} - optional, number of models to train in the search\n",
        "# Output: trained random forest model using best hyperparameters\n",
        "\n",
        "def do_train_rf(X, y, n_models=5):\n",
        "  # Define random search space\n",
        "  param_space = {\n",
        "      'n_estimators': np.arange(100, 500, 50),\n",
        "      'max_depth': np.arange(3, 20),\n",
        "      'min_samples_split': np.arange(2, 20),\n",
        "      'min_samples_leaf': np.arange(1, 20),\n",
        "      'max_features': ['sqrt', 'log2']\n",
        "  }\n",
        "\n",
        "  best_score = -999999    # track our best OOB score\n",
        "  best_hyperparams = None # collect the best hyperparameters\n",
        "  best_rf_model = None    # keep the best for later \"best features\" review\n",
        "\n",
        "  for i in range(n_models):\n",
        "      # Randomly sample parameters\n",
        "      params = {\n",
        "          'n_estimators': np.random.choice(param_space['n_estimators']),\n",
        "          'max_depth': np.random.choice(param_space['max_depth']),\n",
        "          'min_samples_split': np.random.choice(param_space['min_samples_split']),\n",
        "          'min_samples_leaf': np.random.choice(param_space['min_samples_leaf']),\n",
        "          'max_features': np.random.choice(param_space['max_features']),\n",
        "          'bootstrap': True,\n",
        "          'oob_score': True,\n",
        "          'random_state': 17\n",
        "      }\n",
        "\n",
        "      # Train model\n",
        "      rf_model = RandomForestClassifier(**params)\n",
        "      rf_model.fit(X, y)\n",
        "\n",
        "      # Compute OOB accuracy and print for each round\n",
        "      oob_acc = rf_model.oob_score_\n",
        "      print(f\"Round {i+1}: OOB Accuracy = {oob_acc:.4f}, Params = {clean_params(params)}\")\n",
        "\n",
        "      # Track best\n",
        "      if oob_acc > best_score:\n",
        "          best_score = oob_acc\n",
        "          best_params = params\n",
        "          best_model = rf_model\n",
        "\n",
        "  # Print best OOB score and parameters\n",
        "\n",
        "  print(\"Best OOB Score:\", best_score)\n",
        "  print(\"Best Parameters:\", clean_params(best_params))\n",
        "\n",
        "  # return the best model\n",
        "  return best_model\n",
        "\n"
      ],
      "metadata": {
        "id": "cl__UZUUupsW"
      },
      "execution_count": 203,
      "outputs": []
    },
    {
      "cell_type": "markdown",
      "source": [
        "### Initial Training, Setup for Feature Reduction\n",
        "I will now train using a 50-round iteration to train an initial model. The outputs of this will be used to guage the first approximation of a good model and the feature importances will be used for further input feature reduction."
      ],
      "metadata": {
        "id": "YN1cJT8IlE4m"
      }
    },
    {
      "cell_type": "code",
      "source": [
        "\n",
        "# Call the reusable function asking for 50 iterations of search\n",
        "best_rf_model = do_train_rf(df_input_features, y_basic_target, n_models =50 )"
      ],
      "metadata": {
        "colab": {
          "base_uri": "https://localhost:8080/"
        },
        "id": "qz9X_UJwgtb5",
        "outputId": "6ff64e8f-2ae3-4420-9e71-37bff8016b1f"
      },
      "execution_count": 204,
      "outputs": [
        {
          "output_type": "stream",
          "name": "stdout",
          "text": [
            "Round 1: OOB Accuracy = 0.5344, Params = {'n_estimators': 350, 'max_depth': 8, 'min_samples_split': 19, 'min_samples_leaf': 3, 'max_features': 'sqrt', 'bootstrap': True, 'oob_score': True, 'random_state': 17}\n",
            "Round 2: OOB Accuracy = 0.5347, Params = {'n_estimators': 450, 'max_depth': 8, 'min_samples_split': 10, 'min_samples_leaf': 13, 'max_features': 'sqrt', 'bootstrap': True, 'oob_score': True, 'random_state': 17}\n",
            "Round 3: OOB Accuracy = 0.5285, Params = {'n_estimators': 300, 'max_depth': 9, 'min_samples_split': 13, 'min_samples_leaf': 2, 'max_features': 'sqrt', 'bootstrap': True, 'oob_score': True, 'random_state': 17}\n",
            "Round 4: OOB Accuracy = 0.5344, Params = {'n_estimators': 250, 'max_depth': 7, 'min_samples_split': 15, 'min_samples_leaf': 1, 'max_features': 'log2', 'bootstrap': True, 'oob_score': True, 'random_state': 17}\n",
            "Round 5: OOB Accuracy = 0.5326, Params = {'n_estimators': 250, 'max_depth': 6, 'min_samples_split': 9, 'min_samples_leaf': 1, 'max_features': 'log2', 'bootstrap': True, 'oob_score': True, 'random_state': 17}\n",
            "Round 6: OOB Accuracy = 0.5361, Params = {'n_estimators': 100, 'max_depth': 12, 'min_samples_split': 6, 'min_samples_leaf': 4, 'max_features': 'log2', 'bootstrap': True, 'oob_score': True, 'random_state': 17}\n",
            "Round 7: OOB Accuracy = 0.5351, Params = {'n_estimators': 350, 'max_depth': 14, 'min_samples_split': 16, 'min_samples_leaf': 8, 'max_features': 'sqrt', 'bootstrap': True, 'oob_score': True, 'random_state': 17}\n",
            "Round 8: OOB Accuracy = 0.5287, Params = {'n_estimators': 450, 'max_depth': 15, 'min_samples_split': 2, 'min_samples_leaf': 10, 'max_features': 'log2', 'bootstrap': True, 'oob_score': True, 'random_state': 17}\n",
            "Round 9: OOB Accuracy = 0.5306, Params = {'n_estimators': 300, 'max_depth': 6, 'min_samples_split': 12, 'min_samples_leaf': 15, 'max_features': 'log2', 'bootstrap': True, 'oob_score': True, 'random_state': 17}\n",
            "Round 10: OOB Accuracy = 0.5339, Params = {'n_estimators': 450, 'max_depth': 9, 'min_samples_split': 19, 'min_samples_leaf': 13, 'max_features': 'log2', 'bootstrap': True, 'oob_score': True, 'random_state': 17}\n",
            "Round 11: OOB Accuracy = 0.5303, Params = {'n_estimators': 350, 'max_depth': 12, 'min_samples_split': 6, 'min_samples_leaf': 7, 'max_features': 'sqrt', 'bootstrap': True, 'oob_score': True, 'random_state': 17}\n",
            "Round 12: OOB Accuracy = 0.5325, Params = {'n_estimators': 400, 'max_depth': 18, 'min_samples_split': 14, 'min_samples_leaf': 5, 'max_features': 'sqrt', 'bootstrap': True, 'oob_score': True, 'random_state': 17}\n",
            "Round 13: OOB Accuracy = 0.5277, Params = {'n_estimators': 300, 'max_depth': 19, 'min_samples_split': 2, 'min_samples_leaf': 13, 'max_features': 'sqrt', 'bootstrap': True, 'oob_score': True, 'random_state': 17}\n",
            "Round 14: OOB Accuracy = 0.5296, Params = {'n_estimators': 450, 'max_depth': 14, 'min_samples_split': 2, 'min_samples_leaf': 18, 'max_features': 'sqrt', 'bootstrap': True, 'oob_score': True, 'random_state': 17}\n",
            "Round 15: OOB Accuracy = 0.5270, Params = {'n_estimators': 100, 'max_depth': 16, 'min_samples_split': 18, 'min_samples_leaf': 10, 'max_features': 'sqrt', 'bootstrap': True, 'oob_score': True, 'random_state': 17}\n",
            "Round 16: OOB Accuracy = 0.5294, Params = {'n_estimators': 150, 'max_depth': 8, 'min_samples_split': 13, 'min_samples_leaf': 12, 'max_features': 'log2', 'bootstrap': True, 'oob_score': True, 'random_state': 17}\n",
            "Round 17: OOB Accuracy = 0.5291, Params = {'n_estimators': 400, 'max_depth': 14, 'min_samples_split': 3, 'min_samples_leaf': 7, 'max_features': 'sqrt', 'bootstrap': True, 'oob_score': True, 'random_state': 17}\n",
            "Round 18: OOB Accuracy = 0.5243, Params = {'n_estimators': 200, 'max_depth': 19, 'min_samples_split': 5, 'min_samples_leaf': 7, 'max_features': 'log2', 'bootstrap': True, 'oob_score': True, 'random_state': 17}\n",
            "Round 19: OOB Accuracy = 0.5361, Params = {'n_estimators': 100, 'max_depth': 9, 'min_samples_split': 19, 'min_samples_leaf': 18, 'max_features': 'log2', 'bootstrap': True, 'oob_score': True, 'random_state': 17}\n",
            "Round 20: OOB Accuracy = 0.5298, Params = {'n_estimators': 250, 'max_depth': 12, 'min_samples_split': 19, 'min_samples_leaf': 4, 'max_features': 'log2', 'bootstrap': True, 'oob_score': True, 'random_state': 17}\n",
            "Round 21: OOB Accuracy = 0.5325, Params = {'n_estimators': 350, 'max_depth': 3, 'min_samples_split': 10, 'min_samples_leaf': 16, 'max_features': 'sqrt', 'bootstrap': True, 'oob_score': True, 'random_state': 17}\n",
            "Round 22: OOB Accuracy = 0.5298, Params = {'n_estimators': 450, 'max_depth': 14, 'min_samples_split': 3, 'min_samples_leaf': 13, 'max_features': 'log2', 'bootstrap': True, 'oob_score': True, 'random_state': 17}\n",
            "Round 23: OOB Accuracy = 0.5344, Params = {'n_estimators': 200, 'max_depth': 6, 'min_samples_split': 11, 'min_samples_leaf': 18, 'max_features': 'sqrt', 'bootstrap': True, 'oob_score': True, 'random_state': 17}\n",
            "Round 24: OOB Accuracy = 0.5314, Params = {'n_estimators': 200, 'max_depth': 10, 'min_samples_split': 12, 'min_samples_leaf': 12, 'max_features': 'log2', 'bootstrap': True, 'oob_score': True, 'random_state': 17}\n",
            "Round 25: OOB Accuracy = 0.5334, Params = {'n_estimators': 150, 'max_depth': 6, 'min_samples_split': 12, 'min_samples_leaf': 16, 'max_features': 'sqrt', 'bootstrap': True, 'oob_score': True, 'random_state': 17}\n",
            "Round 26: OOB Accuracy = 0.5356, Params = {'n_estimators': 250, 'max_depth': 6, 'min_samples_split': 11, 'min_samples_leaf': 9, 'max_features': 'sqrt', 'bootstrap': True, 'oob_score': True, 'random_state': 17}\n",
            "Round 27: OOB Accuracy = 0.5286, Params = {'n_estimators': 100, 'max_depth': 10, 'min_samples_split': 17, 'min_samples_leaf': 12, 'max_features': 'sqrt', 'bootstrap': True, 'oob_score': True, 'random_state': 17}\n",
            "Round 28: OOB Accuracy = 0.5282, Params = {'n_estimators': 400, 'max_depth': 18, 'min_samples_split': 17, 'min_samples_leaf': 4, 'max_features': 'log2', 'bootstrap': True, 'oob_score': True, 'random_state': 17}\n",
            "Round 29: OOB Accuracy = 0.5318, Params = {'n_estimators': 350, 'max_depth': 11, 'min_samples_split': 16, 'min_samples_leaf': 9, 'max_features': 'sqrt', 'bootstrap': True, 'oob_score': True, 'random_state': 17}\n",
            "Round 30: OOB Accuracy = 0.5327, Params = {'n_estimators': 400, 'max_depth': 5, 'min_samples_split': 5, 'min_samples_leaf': 13, 'max_features': 'log2', 'bootstrap': True, 'oob_score': True, 'random_state': 17}\n",
            "Round 31: OOB Accuracy = 0.5327, Params = {'n_estimators': 300, 'max_depth': 13, 'min_samples_split': 3, 'min_samples_leaf': 1, 'max_features': 'sqrt', 'bootstrap': True, 'oob_score': True, 'random_state': 17}\n",
            "Round 32: OOB Accuracy = 0.5305, Params = {'n_estimators': 250, 'max_depth': 6, 'min_samples_split': 16, 'min_samples_leaf': 15, 'max_features': 'sqrt', 'bootstrap': True, 'oob_score': True, 'random_state': 17}\n",
            "Round 33: OOB Accuracy = 0.5290, Params = {'n_estimators': 150, 'max_depth': 14, 'min_samples_split': 14, 'min_samples_leaf': 4, 'max_features': 'log2', 'bootstrap': True, 'oob_score': True, 'random_state': 17}\n",
            "Round 34: OOB Accuracy = 0.5303, Params = {'n_estimators': 150, 'max_depth': 19, 'min_samples_split': 9, 'min_samples_leaf': 4, 'max_features': 'sqrt', 'bootstrap': True, 'oob_score': True, 'random_state': 17}\n",
            "Round 35: OOB Accuracy = 0.5339, Params = {'n_estimators': 450, 'max_depth': 3, 'min_samples_split': 16, 'min_samples_leaf': 3, 'max_features': 'log2', 'bootstrap': True, 'oob_score': True, 'random_state': 17}\n",
            "Round 36: OOB Accuracy = 0.5318, Params = {'n_estimators': 450, 'max_depth': 4, 'min_samples_split': 6, 'min_samples_leaf': 2, 'max_features': 'log2', 'bootstrap': True, 'oob_score': True, 'random_state': 17}\n",
            "Round 37: OOB Accuracy = 0.5276, Params = {'n_estimators': 100, 'max_depth': 16, 'min_samples_split': 14, 'min_samples_leaf': 15, 'max_features': 'log2', 'bootstrap': True, 'oob_score': True, 'random_state': 17}\n",
            "Round 38: OOB Accuracy = 0.5266, Params = {'n_estimators': 100, 'max_depth': 17, 'min_samples_split': 12, 'min_samples_leaf': 10, 'max_features': 'sqrt', 'bootstrap': True, 'oob_score': True, 'random_state': 17}\n",
            "Round 39: OOB Accuracy = 0.5363, Params = {'n_estimators': 200, 'max_depth': 8, 'min_samples_split': 8, 'min_samples_leaf': 9, 'max_features': 'log2', 'bootstrap': True, 'oob_score': True, 'random_state': 17}\n",
            "Round 40: OOB Accuracy = 0.5313, Params = {'n_estimators': 400, 'max_depth': 14, 'min_samples_split': 8, 'min_samples_leaf': 5, 'max_features': 'log2', 'bootstrap': True, 'oob_score': True, 'random_state': 17}\n",
            "Round 41: OOB Accuracy = 0.5285, Params = {'n_estimators': 300, 'max_depth': 11, 'min_samples_split': 8, 'min_samples_leaf': 9, 'max_features': 'sqrt', 'bootstrap': True, 'oob_score': True, 'random_state': 17}\n",
            "Round 42: OOB Accuracy = 0.5314, Params = {'n_estimators': 400, 'max_depth': 7, 'min_samples_split': 4, 'min_samples_leaf': 1, 'max_features': 'log2', 'bootstrap': True, 'oob_score': True, 'random_state': 17}\n",
            "Round 43: OOB Accuracy = 0.5188, Params = {'n_estimators': 100, 'max_depth': 19, 'min_samples_split': 18, 'min_samples_leaf': 11, 'max_features': 'log2', 'bootstrap': True, 'oob_score': True, 'random_state': 17}\n",
            "Round 44: OOB Accuracy = 0.5347, Params = {'n_estimators': 300, 'max_depth': 8, 'min_samples_split': 5, 'min_samples_leaf': 11, 'max_features': 'sqrt', 'bootstrap': True, 'oob_score': True, 'random_state': 17}\n",
            "Round 45: OOB Accuracy = 0.5285, Params = {'n_estimators': 150, 'max_depth': 15, 'min_samples_split': 5, 'min_samples_leaf': 5, 'max_features': 'log2', 'bootstrap': True, 'oob_score': True, 'random_state': 17}\n",
            "Round 46: OOB Accuracy = 0.5331, Params = {'n_estimators': 400, 'max_depth': 7, 'min_samples_split': 17, 'min_samples_leaf': 4, 'max_features': 'log2', 'bootstrap': True, 'oob_score': True, 'random_state': 17}\n",
            "Round 47: OOB Accuracy = 0.5320, Params = {'n_estimators': 400, 'max_depth': 11, 'min_samples_split': 11, 'min_samples_leaf': 14, 'max_features': 'log2', 'bootstrap': True, 'oob_score': True, 'random_state': 17}\n",
            "Round 48: OOB Accuracy = 0.5330, Params = {'n_estimators': 100, 'max_depth': 9, 'min_samples_split': 8, 'min_samples_leaf': 13, 'max_features': 'log2', 'bootstrap': True, 'oob_score': True, 'random_state': 17}\n",
            "Round 49: OOB Accuracy = 0.5349, Params = {'n_estimators': 350, 'max_depth': 13, 'min_samples_split': 2, 'min_samples_leaf': 4, 'max_features': 'sqrt', 'bootstrap': True, 'oob_score': True, 'random_state': 17}\n",
            "Round 50: OOB Accuracy = 0.5266, Params = {'n_estimators': 200, 'max_depth': 18, 'min_samples_split': 8, 'min_samples_leaf': 11, 'max_features': 'log2', 'bootstrap': True, 'oob_score': True, 'random_state': 17}\n",
            "Best OOB Score: 0.5363455460611026\n",
            "Best Parameters: {'n_estimators': 200, 'max_depth': 8, 'min_samples_split': 8, 'min_samples_leaf': 9, 'max_features': 'log2', 'bootstrap': True, 'oob_score': True, 'random_state': 17}\n"
          ]
        }
      ]
    },
    {
      "cell_type": "markdown",
      "source": [
        "These scores were better than average. I'll compute the Variance Inflation Factor (VIF) to see if there is any standout multicollinearity in the features."
      ],
      "metadata": {
        "id": "fkzDQlsbbgUG"
      }
    },
    {
      "cell_type": "markdown",
      "source": [
        "## Test of Multicollinearity\n",
        "\n",
        "We'll use VIF to test for multicollinearity among columnes"
      ],
      "metadata": {
        "id": "HwsOxYoNuBhn"
      }
    },
    {
      "cell_type": "code",
      "source": [
        "# Compute VIF for each feature\n",
        "vif_data = pd.DataFrame()\n",
        "vif_data['feature'] = df_input_features.columns    # get column list\n",
        "\n",
        "# For each factor, compute the VIF\n",
        "vif_data['VIF'] = [variance_inflation_factor(df_input_features.values, i) for i in range(df_input_features.shape[1])]\n",
        "\n",
        "# Sort by VIF descending. I want the most collinear first\n",
        "vif_data = vif_data.sort_values('VIF', ascending=False)\n",
        "\n",
        "print(vif_data)"
      ],
      "metadata": {
        "colab": {
          "base_uri": "https://localhost:8080/"
        },
        "id": "UKk3rXcBbsRs",
        "outputId": "24be52e2-51f1-4c15-9ed6-57e4e1f8b310"
      },
      "execution_count": 205,
      "outputs": [
        {
          "output_type": "stream",
          "name": "stdout",
          "text": [
            "               feature           VIF\n",
            "31              sma_20           inf\n",
            "26           bb_middle           inf\n",
            "25            bb_upper  9.007199e+15\n",
            "27            bb_lower  4.503600e+15\n",
            "28              ema_12  1.003767e+10\n",
            "29              ema_26  9.972884e+09\n",
            "16                macd  3.868889e+06\n",
            "30               sma_5  9.512782e+04\n",
            "14          sp500_open  4.752832e+04\n",
            "12          sp500_high  2.960573e+04\n",
            "10            prev_day  2.450342e+04\n",
            "13           sp500_low  2.105281e+04\n",
            "15   sp500_ohlc_volume  1.954786e+03\n",
            "1         sp500_volume  1.948412e+03\n",
            "17         macd_signal  4.579301e+02\n",
            "2                 djia  2.589267e+02\n",
            "23                 obv  5.921885e+01\n",
            "20             stoch_k  2.185651e+01\n",
            "21             stoch_d  1.952435e+01\n",
            "24                 atr  1.899201e+01\n",
            "33         roll_std_20  1.103992e+01\n",
            "0                  vix  7.635791e+00\n",
            "4                  hsi  5.759746e+00\n",
            "3          djia_volume  5.092741e+00\n",
            "32          roll_std_5  4.488857e+00\n",
            "8                  epu  3.965475e+00\n",
            "18                 roc  3.775957e+00\n",
            "19                 rsi  3.644300e+00\n",
            "6                 us3m  2.507318e+00\n",
            "7          joblessness  2.407259e+00\n",
            "11  daily_policy_index  1.849590e+00\n",
            "5                  ads  1.610008e+00\n",
            "22                 adx  1.335957e+00\n",
            "9                 GPRD  1.180139e+00\n"
          ]
        }
      ]
    },
    {
      "cell_type": "markdown",
      "source": [
        "I'll drop anything with VIF higher than 10 to remove highly collinear columns"
      ],
      "metadata": {
        "id": "mJmfdmCIc5uB"
      }
    },
    {
      "cell_type": "code",
      "source": [
        "# I'm setting the VIF threshold here. Typical values are 5 or 10.\n",
        "vif_threshold = 10\n",
        "\n",
        "# Prep\n",
        "vif_data = pd.DataFrame()         # new df to receive vif\n",
        "vif_data['feature'] = df_input_features.columns   # get the feature names for print later\n",
        "\n",
        "# Compute VIF for each feature\n",
        "vif_data['VIF'] = [variance_inflation_factor(df_input_features.values, i) for i in range(df_input_features.shape[1])]\n",
        "vif_data = vif_data.sort_values('VIF', ascending=False)   # Sort the df\n",
        "\n",
        "# List features to drop\n",
        "features_to_drop = vif_data[vif_data['VIF'] > vif_threshold]['feature'].tolist()\n",
        "\n",
        "print(\"High multicollinearity (VIF > {}):\".format(vif_threshold))\n",
        "print(features_to_drop)"
      ],
      "metadata": {
        "colab": {
          "base_uri": "https://localhost:8080/"
        },
        "id": "8h8L7jmJc4kV",
        "outputId": "5c3ef56c-dff4-482c-f819-491475f751a5"
      },
      "execution_count": 206,
      "outputs": [
        {
          "output_type": "stream",
          "name": "stdout",
          "text": [
            "High multicollinearity (VIF > 10):\n",
            "['sma_20', 'bb_middle', 'bb_upper', 'bb_lower', 'ema_12', 'ema_26', 'macd', 'sma_5', 'sp500_open', 'sp500_high', 'prev_day', 'sp500_low', 'sp500_ohlc_volume', 'sp500_volume', 'macd_signal', 'djia', 'obv', 'stoch_k', 'stoch_d', 'atr', 'roll_std_20']\n"
          ]
        }
      ]
    },
    {
      "cell_type": "markdown",
      "source": [
        "Drop the features discovered in multicollinearity test"
      ],
      "metadata": {
        "id": "20nHYR3mhCQM"
      }
    },
    {
      "cell_type": "code",
      "source": [
        "# now drop them\n",
        "df_no_multicollinearity = df_input_features.drop(columns=features_to_drop)\n",
        "\n",
        "# Train a model now without those features and measure\n",
        "best_rf_model = do_train_rf(df_no_multicollinearity, y_basic_target, n_models=10)"
      ],
      "metadata": {
        "colab": {
          "base_uri": "https://localhost:8080/"
        },
        "id": "tusowdaiebpP",
        "outputId": "a5201201-2bb6-49df-9e8f-f17f883af0b2"
      },
      "execution_count": 207,
      "outputs": [
        {
          "output_type": "stream",
          "name": "stdout",
          "text": [
            "Round 1: OOB Accuracy = 0.5322, Params = {'n_estimators': 250, 'max_depth': 9, 'min_samples_split': 16, 'min_samples_leaf': 10, 'max_features': 'sqrt', 'bootstrap': True, 'oob_score': True, 'random_state': 17}\n",
            "Round 2: OOB Accuracy = 0.5259, Params = {'n_estimators': 350, 'max_depth': 19, 'min_samples_split': 17, 'min_samples_leaf': 19, 'max_features': 'log2', 'bootstrap': True, 'oob_score': True, 'random_state': 17}\n",
            "Round 3: OOB Accuracy = 0.5280, Params = {'n_estimators': 450, 'max_depth': 12, 'min_samples_split': 15, 'min_samples_leaf': 17, 'max_features': 'sqrt', 'bootstrap': True, 'oob_score': True, 'random_state': 17}\n",
            "Round 4: OOB Accuracy = 0.5280, Params = {'n_estimators': 300, 'max_depth': 10, 'min_samples_split': 6, 'min_samples_leaf': 18, 'max_features': 'sqrt', 'bootstrap': True, 'oob_score': True, 'random_state': 17}\n",
            "Round 5: OOB Accuracy = 0.5289, Params = {'n_estimators': 300, 'max_depth': 13, 'min_samples_split': 4, 'min_samples_leaf': 12, 'max_features': 'sqrt', 'bootstrap': True, 'oob_score': True, 'random_state': 17}\n",
            "Round 6: OOB Accuracy = 0.5200, Params = {'n_estimators': 150, 'max_depth': 10, 'min_samples_split': 19, 'min_samples_leaf': 15, 'max_features': 'log2', 'bootstrap': True, 'oob_score': True, 'random_state': 17}\n",
            "Round 7: OOB Accuracy = 0.5335, Params = {'n_estimators': 450, 'max_depth': 6, 'min_samples_split': 3, 'min_samples_leaf': 11, 'max_features': 'log2', 'bootstrap': True, 'oob_score': True, 'random_state': 17}\n",
            "Round 8: OOB Accuracy = 0.5303, Params = {'n_estimators': 250, 'max_depth': 7, 'min_samples_split': 11, 'min_samples_leaf': 10, 'max_features': 'sqrt', 'bootstrap': True, 'oob_score': True, 'random_state': 17}\n",
            "Round 9: OOB Accuracy = 0.5278, Params = {'n_estimators': 450, 'max_depth': 9, 'min_samples_split': 3, 'min_samples_leaf': 7, 'max_features': 'sqrt', 'bootstrap': True, 'oob_score': True, 'random_state': 17}\n",
            "Round 10: OOB Accuracy = 0.5303, Params = {'n_estimators': 200, 'max_depth': 6, 'min_samples_split': 12, 'min_samples_leaf': 8, 'max_features': 'sqrt', 'bootstrap': True, 'oob_score': True, 'random_state': 17}\n",
            "Best OOB Score: 0.5335362284911623\n",
            "Best Parameters: {'n_estimators': 450, 'max_depth': 6, 'min_samples_split': 3, 'min_samples_leaf': 11, 'max_features': 'log2', 'bootstrap': True, 'oob_score': True, 'random_state': 17}\n"
          ]
        }
      ]
    },
    {
      "cell_type": "markdown",
      "source": [
        "My scores have not improved through multicollinear feature removal. Try PCA to see if that helps."
      ],
      "metadata": {
        "id": "W4gjyPnLJRlY"
      }
    },
    {
      "cell_type": "markdown",
      "source": [
        "## Do PCA\n",
        "\n",
        "After feature reduction based on VIF we'll also do PCA"
      ],
      "metadata": {
        "id": "aYXhwW08uNwa"
      }
    },
    {
      "cell_type": "code",
      "source": [
        "\n",
        "# Going to do PCA to analyze features\n",
        "# Scale the features first\n",
        "scaler = StandardScaler()\n",
        "X_scaled = scaler.fit_transform(df_no_multicollinearity)\n",
        "\n",
        "# Apply PCA\n",
        "pca = PCA(n_components=None, random_state=17)\n",
        "X_pca = pca.fit_transform(X_scaled)\n",
        "\n",
        "# Create a cumulative plot of the explained_variance_ratio_ values from PCA\n",
        "explained_var_ratio = pca.explained_variance_ratio_\n",
        "plt.figure(figsize=(12, 6))\n",
        "plt.plot(range(1, len(explained_var_ratio)+1), np.cumsum(explained_var_ratio), marker='x')\n",
        "plt.xlabel('Number of Components')\n",
        "plt.ylabel('Cumulative Explained Variance')\n",
        "plt.title('PCA with Cumulative Explained Variance')\n",
        "plt.grid(True)\n",
        "plt.show()\n",
        "\n",
        "# Create a plot fo the most important features\n",
        "importances = best_rf_model.feature_importances_\n",
        "feature_importance_df = pd.DataFrame({\n",
        "    'feature': df_no_multicollinearity.columns,\n",
        "    'importance': importances\n",
        "}).sort_values('importance', ascending=False)\n",
        "\n",
        "plt.figure(figsize=(12, 6))\n",
        "sns.barplot(x='importance', y='feature', data=feature_importance_df)\n",
        "plt.title('RF Model Important Features')\n",
        "plt.show()\n",
        "\n",
        "# I'll get the number of features that add up to 90% of the variability\n",
        "#   then I'll use those to set the reduced feature set later after PCA\n",
        "# Have to add 1 to ensure we capture 90 and never choose zero features\n",
        "ideal_number_features = (np.cumsum(explained_var_ratio) >= 0.90).argmax() + 1\n"
      ],
      "metadata": {
        "colab": {
          "base_uri": "https://localhost:8080/",
          "height": 1000
        },
        "id": "N2rWwLfTJoJO",
        "outputId": "8ad65993-5429-482f-fd32-e5afa4bbfcff"
      },
      "execution_count": 208,
      "outputs": [
        {
          "output_type": "display_data",
          "data": {
            "text/plain": [
              "<Figure size 1200x600 with 1 Axes>"
            ],
            "image/png": "[encoded data removed]"
          },
          "metadata": {}
        },
        {
          "output_type": "display_data",
          "data": {
            "text/plain": [
              "<Figure size 1200x600 with 1 Axes>"
            ],
            "image/png": "[encoded data removed]"
          },
          "metadata": {}
        }
      ]
    },
    {
      "cell_type": "markdown",
      "source": [
        "I will now make a set with only the features that collectively explain >90% of the model variance."
      ],
      "metadata": {
        "id": "WYNiu_RvRLBl"
      }
    },
    {
      "cell_type": "code",
      "source": [
        "\n",
        "# We previously set ideal number of features in a variable in PCA.\n",
        "# Use it now\n",
        "\n",
        "# Now get the list of features I will keep\n",
        "# Get feature importances and their names\n",
        "feature_importances = best_rf_model.feature_importances_  # importance values\n",
        "feature_names = best_rf_model.feature_names_in_           # feature names\n",
        "\n",
        "# Sort features by importance descending\n",
        "sorted_importance = np.argsort(feature_importances)[::-1]\n",
        "\n",
        "# Limit to ideal_number_features\n",
        "top_features = sorted_importance[:ideal_number_features]\n",
        "\n",
        "# Get feature names into list\n",
        "features_to_preserve = feature_names[top_features]\n",
        "\n",
        "print(f\"Features to preserve: {features_to_preserve}\")\n",
        "\n",
        "# Make reduced set of features and train new model\n",
        "X_feature_reduced = df_input_features[features_to_preserve]\n",
        "\n",
        "# reuse our RF model training function\n",
        "rf_model = do_train_rf(X_feature_reduced, y_basic_target, n_models=5)"
      ],
      "metadata": {
        "colab": {
          "base_uri": "https://localhost:8080/"
        },
        "id": "YE7Dp7irSEP_",
        "outputId": "5338d621-789f-4054-d372-b03bb3805334"
      },
      "execution_count": 209,
      "outputs": [
        {
          "output_type": "stream",
          "name": "stdout",
          "text": [
            "Features to preserve: ['ads' 'roc' 'rsi' 'djia_volume' 'adx' 'vix' 'daily_policy_index' 'hsi'\n",
            " 'roll_std_5']\n",
            "Round 1: OOB Accuracy = 0.5333, Params = {'n_estimators': 400, 'max_depth': 7, 'min_samples_split': 10, 'min_samples_leaf': 12, 'max_features': 'log2', 'bootstrap': True, 'oob_score': True, 'random_state': 17}\n",
            "Round 2: OOB Accuracy = 0.5332, Params = {'n_estimators': 150, 'max_depth': 5, 'min_samples_split': 6, 'min_samples_leaf': 18, 'max_features': 'sqrt', 'bootstrap': True, 'oob_score': True, 'random_state': 17}\n",
            "Round 3: OOB Accuracy = 0.5305, Params = {'n_estimators': 200, 'max_depth': 10, 'min_samples_split': 3, 'min_samples_leaf': 14, 'max_features': 'sqrt', 'bootstrap': True, 'oob_score': True, 'random_state': 17}\n",
            "Round 4: OOB Accuracy = 0.5315, Params = {'n_estimators': 450, 'max_depth': 3, 'min_samples_split': 17, 'min_samples_leaf': 13, 'max_features': 'log2', 'bootstrap': True, 'oob_score': True, 'random_state': 17}\n",
            "Round 5: OOB Accuracy = 0.5274, Params = {'n_estimators': 450, 'max_depth': 12, 'min_samples_split': 11, 'min_samples_leaf': 14, 'max_features': 'log2', 'bootstrap': True, 'oob_score': True, 'random_state': 17}\n",
            "Best OOB Score: 0.5333021186936673\n",
            "Best Parameters: {'n_estimators': 400, 'max_depth': 7, 'min_samples_split': 10, 'min_samples_leaf': 12, 'max_features': 'log2', 'bootstrap': True, 'oob_score': True, 'random_state': 17}\n"
          ]
        }
      ]
    },
    {
      "cell_type": "markdown",
      "source": [
        "## Test Post-Feature Reduction"
      ],
      "metadata": {
        "id": "Icua1w-CuY9e"
      }
    },
    {
      "cell_type": "code",
      "source": [
        "# I'll do the 20-day first to see the most-likely high quality model\n",
        "y_basic_target = df['direction_20d']\n",
        "rf_model = do_train_rf(X_feature_reduced, y_basic_target, n_models=5)\n",
        "\n",
        "# We'll do the 5 day now and use that for the rest of our analysis\n",
        "y_basic_target = df['direction_5d']\n",
        "# we're doing the 5 day. we need to remove the 5d rolling std from the measures\n",
        "X_feature_reduced = X_feature_reduced.drop(columns=['roll_std_5'], errors='ignore')\n",
        "rf_model = do_train_rf(X_feature_reduced, y_basic_target, n_models=5)\n",
        "len(X_feature_reduced)"
      ],
      "metadata": {
        "colab": {
          "base_uri": "https://localhost:8080/"
        },
        "id": "dKxo5rOqqalU",
        "outputId": "86b25211-2267-4854-edd1-d268bb237acc"
      },
      "execution_count": 210,
      "outputs": [
        {
          "output_type": "stream",
          "name": "stdout",
          "text": [
            "Round 1: OOB Accuracy = 0.7503, Params = {'n_estimators': 250, 'max_depth': 12, 'min_samples_split': 11, 'min_samples_leaf': 12, 'max_features': 'sqrt', 'bootstrap': True, 'oob_score': True, 'random_state': 17}\n",
            "Round 2: OOB Accuracy = 0.8262, Params = {'n_estimators': 400, 'max_depth': 19, 'min_samples_split': 3, 'min_samples_leaf': 4, 'max_features': 'sqrt', 'bootstrap': True, 'oob_score': True, 'random_state': 17}\n",
            "Round 3: OOB Accuracy = 0.7133, Params = {'n_estimators': 350, 'max_depth': 9, 'min_samples_split': 17, 'min_samples_leaf': 12, 'max_features': 'sqrt', 'bootstrap': True, 'oob_score': True, 'random_state': 17}\n",
            "Round 4: OOB Accuracy = 0.7616, Params = {'n_estimators': 200, 'max_depth': 18, 'min_samples_split': 4, 'min_samples_leaf': 17, 'max_features': 'log2', 'bootstrap': True, 'oob_score': True, 'random_state': 17}\n",
            "Round 5: OOB Accuracy = 0.6454, Params = {'n_estimators': 300, 'max_depth': 4, 'min_samples_split': 3, 'min_samples_leaf': 6, 'max_features': 'sqrt', 'bootstrap': True, 'oob_score': True, 'random_state': 17}\n",
            "Best OOB Score: 0.8261734753599438\n",
            "Best Parameters: {'n_estimators': 400, 'max_depth': 19, 'min_samples_split': 3, 'min_samples_leaf': 4, 'max_features': 'sqrt', 'bootstrap': True, 'oob_score': True, 'random_state': 17}\n",
            "Round 1: OOB Accuracy = 0.6346, Params = {'n_estimators': 400, 'max_depth': 10, 'min_samples_split': 4, 'min_samples_leaf': 13, 'max_features': 'log2', 'bootstrap': True, 'oob_score': True, 'random_state': 17}\n",
            "Round 2: OOB Accuracy = 0.6573, Params = {'n_estimators': 100, 'max_depth': 14, 'min_samples_split': 18, 'min_samples_leaf': 6, 'max_features': 'sqrt', 'bootstrap': True, 'oob_score': True, 'random_state': 17}\n",
            "Round 3: OOB Accuracy = 0.6273, Params = {'n_estimators': 450, 'max_depth': 11, 'min_samples_split': 10, 'min_samples_leaf': 17, 'max_features': 'sqrt', 'bootstrap': True, 'oob_score': True, 'random_state': 17}\n",
            "Round 4: OOB Accuracy = 0.6288, Params = {'n_estimators': 100, 'max_depth': 10, 'min_samples_split': 17, 'min_samples_leaf': 2, 'max_features': 'sqrt', 'bootstrap': True, 'oob_score': True, 'random_state': 17}\n",
            "Round 5: OOB Accuracy = 0.6184, Params = {'n_estimators': 100, 'max_depth': 10, 'min_samples_split': 13, 'min_samples_leaf': 12, 'max_features': 'sqrt', 'bootstrap': True, 'oob_score': True, 'random_state': 17}\n",
            "Best OOB Score: 0.6572632564672831\n",
            "Best Parameters: {'n_estimators': 100, 'max_depth': 14, 'min_samples_split': 18, 'min_samples_leaf': 6, 'max_features': 'sqrt', 'bootstrap': True, 'oob_score': True, 'random_state': 17}\n"
          ]
        },
        {
          "output_type": "execute_result",
          "data": {
            "text/plain": [
              "8543"
            ]
          },
          "metadata": {},
          "execution_count": 210
        }
      ]
    },
    {
      "cell_type": "markdown",
      "source": [
        "The 20-day prediction scores higher than the 5-day, which is in line with the research references I reviewed. The 1-day is not much better than chance, which is also in line with the references."
      ],
      "metadata": {
        "id": "drcf1aO6hTBk"
      }
    },
    {
      "cell_type": "markdown",
      "source": [
        "## Final Clean up"
      ],
      "metadata": {
        "id": "ifO2VLVMqi8O"
      }
    },
    {
      "cell_type": "markdown",
      "source": [
        "Clean up any remaining missing dates. Delete instead of imputing."
      ],
      "metadata": {
        "id": "tXIXS4ebwmAY"
      }
    },
    {
      "cell_type": "code",
      "source": [
        "\n",
        "print_missing_value_counts(df)\n",
        "\n",
        "# drop rows with ANY NaN values\n",
        "df = df.dropna()\n",
        "\n",
        "# reset the index to clean up\n",
        "df = df.reset_index(drop=True)\n",
        "\n",
        "# verify\n",
        "print_missing_value_counts(df)"
      ],
      "metadata": {
        "colab": {
          "base_uri": "https://localhost:8080/"
        },
        "id": "V9OjuU77wtvJ",
        "outputId": "0cac5016-7403-4720-e6b9-2892b6480bd9"
      },
      "execution_count": 211,
      "outputs": [
        {
          "output_type": "stream",
          "name": "stdout",
          "text": [
            "0\n",
            "0\n"
          ]
        }
      ]
    },
    {
      "cell_type": "markdown",
      "source": [
        "# Time Series Analysis and Augmentation\n",
        "\n",
        "We'll explore time series optimal lags and add factors to the dataset based on them. I will then determine if these are significant contributors to the model in predicting the 5-day direction of the market."
      ],
      "metadata": {
        "id": "JNVg1FRtrYHb"
      }
    },
    {
      "cell_type": "markdown",
      "source": [
        "## Basic time series to select lags"
      ],
      "metadata": {
        "id": "ghMSmBboll5e"
      }
    },
    {
      "cell_type": "markdown",
      "source": [
        "### Test stationarity"
      ],
      "metadata": {
        "id": "yr7fh0cbXWj1"
      }
    },
    {
      "cell_type": "code",
      "source": [
        "# Drop missing values\n",
        "close_no_na = df['sp500_close'].dropna()\n",
        "\n",
        "# Remove trend to get stationarity (first difference)\n",
        "close_first_diff = close_no_na.diff().dropna()\n",
        "\n",
        "# do ADF test for stationarity\n",
        "adf_result = adfuller(close_first_diff)\n",
        "print('ADF Statistic:', adf_result[0])\n",
        "print('p-value:', adf_result[1])\n",
        "for key, value in adf_result[4].items():\n",
        "    print(f'Critical Value ({key}): {value}')\n",
        "\n",
        "if adf_result[1] < 0.05:\n",
        "    print(\"Series is likely stationary\")\n",
        "else:\n",
        "    print(\"Series is likely non-stationary\")"
      ],
      "metadata": {
        "colab": {
          "base_uri": "https://localhost:8080/"
        },
        "id": "zckgOAGchnbf",
        "outputId": "dc34fbb9-2559-4eae-fad5-fcd9cb91e15b"
      },
      "execution_count": 212,
      "outputs": [
        {
          "output_type": "stream",
          "name": "stdout",
          "text": [
            "ADF Statistic: -16.31201152904845\n",
            "p-value: 3.189170501613244e-29\n",
            "Critical Value (1%): -3.4311191093193036\n",
            "Critical Value (5%): -2.8618798939892236\n",
            "Critical Value (10%): -2.5669509206674084\n",
            "Series is likely stationary\n"
          ]
        }
      ]
    },
    {
      "cell_type": "markdown",
      "source": [
        "## Train OLS Model and plot the ACF/PACF\n",
        "\n",
        "We'll train a basic Ordinary Least Squares model and view the ACF/PACF to determine optimal lags visually."
      ],
      "metadata": {
        "id": "EZsCrCbMXfLa"
      }
    },
    {
      "cell_type": "code",
      "source": [
        "# fit basic regression (OLS)\n",
        "X = sm.add_constant(np.ones(len(close_first_diff)))\n",
        "ols_model = sm.OLS(close_first_diff.values, X).fit()\n",
        "squared_resid = ols_model.resid**2  # need squared residuals for ACF/PACF\n",
        "\n",
        "# Plot ACF and PACF of squared residuals\n",
        "plt.figure(figsize=(12,4))\n",
        "plt.subplot(1,2,1)\n",
        "plot_acf(squared_resid, lags=40, ax=plt.gca())\n",
        "plt.title('ACF of Squared Residuals')\n",
        "\n",
        "plt.subplot(1,2,2)\n",
        "plot_pacf(squared_resid, lags=40, ax=plt.gca())\n",
        "plt.title('PACF of Squared Residuals')\n",
        "plt.show()"
      ],
      "metadata": {
        "colab": {
          "base_uri": "https://localhost:8080/",
          "height": 391
        },
        "id": "vKBrDpMZl6Se",
        "outputId": "87fa4af6-392b-4f55-f3f8-b277bf0da05f"
      },
      "execution_count": 213,
      "outputs": [
        {
          "output_type": "display_data",
          "data": {
            "text/plain": [
              "<Figure size 1200x400 with 2 Axes>"
            ],
            "image/png": "[encoded data removed]"
          },
          "metadata": {}
        }
      ]
    },
    {
      "cell_type": "markdown",
      "source": [
        "## AIC/BIC Measures of Best Model\n",
        "\n",
        "Both measure optimal models but BIC penalizes for complexity."
      ],
      "metadata": {
        "id": "dB4f__WIrxeA"
      }
    },
    {
      "cell_type": "code",
      "source": [
        "\n",
        "# ARCH lag selection\n",
        "max_lag = 20\n",
        "aic_list, bic_list = [], []\n",
        "\n",
        "for p in range(1, max_lag + 1):\n",
        "    am = arch_model(close_first_diff, vol='ARCH', p=p, o=0, q=0, dist='normal', rescale=True)\n",
        "    res = am.fit(disp='off')\n",
        "    aic_list.append(res.aic)\n",
        "    bic_list.append(res.bic)\n",
        "\n",
        "# Compile results\n",
        "arch_lag_selection = pd.DataFrame({\n",
        "    'lag': range(1, max_lag + 1),\n",
        "    'AIC': aic_list,\n",
        "    'BIC': bic_list\n",
        "})\n",
        "\n",
        "# Display table\n",
        "print(arch_lag_selection)\n",
        "\n",
        "# Optimal lag\n",
        "optimal_lag_aic = arch_lag_selection.loc[arch_lag_selection['AIC'].idxmin(), 'lag']\n",
        "optimal_lag_bic = arch_lag_selection.loc[arch_lag_selection['BIC'].idxmin(), 'lag']\n",
        "print(f\"Best ARCH lag (AIC): {optimal_lag_aic}\")\n",
        "print(f\"Best ARCH lag (BIC): {optimal_lag_bic}\")"
      ],
      "metadata": {
        "colab": {
          "base_uri": "https://localhost:8080/"
        },
        "id": "UoznzMjIis17",
        "outputId": "fe0f11d4-5c46-45bd-c04b-15d413aae99d"
      },
      "execution_count": 214,
      "outputs": [
        {
          "output_type": "stream",
          "name": "stderr",
          "text": [
            "/tmp/ipython-input-1132820473.py:7: ConvergenceWarning: The optimizer returned code 8. The message is:\n",
            "Positive directional derivative for linesearch\n",
            "See scipy.optimize.fmin_slsqp for code meaning.\n",
            "\n",
            "  res = am.fit(disp='off')\n",
            "/tmp/ipython-input-1132820473.py:7: ConvergenceWarning: The optimizer returned code 8. The message is:\n",
            "Positive directional derivative for linesearch\n",
            "See scipy.optimize.fmin_slsqp for code meaning.\n",
            "\n",
            "  res = am.fit(disp='off')\n",
            "/tmp/ipython-input-1132820473.py:7: ConvergenceWarning: The optimizer returned code 8. The message is:\n",
            "Positive directional derivative for linesearch\n",
            "See scipy.optimize.fmin_slsqp for code meaning.\n",
            "\n",
            "  res = am.fit(disp='off')\n"
          ]
        },
        {
          "output_type": "stream",
          "name": "stdout",
          "text": [
            "    lag           AIC           BIC\n",
            "0     1  72982.910162  73004.068413\n",
            "1     2  70478.665590  70506.876592\n",
            "2     3  69154.888388  69190.152140\n",
            "3     4  68353.638583  68395.955086\n",
            "4     5  67840.403880  67889.773133\n",
            "5     6  67595.862417  67652.284421\n",
            "6     7  67368.064742  67431.539496\n",
            "7     8  67100.550802  67171.078306\n",
            "8     9  66901.996984  66979.577239\n",
            "9    10  66811.976884  66896.609890\n",
            "10   11  66735.130303  66826.816059\n",
            "11   12  66709.261717  66808.000224\n",
            "12   13  66673.779205  66779.570461\n",
            "13   14  66640.987815  66753.831823\n",
            "14   15  66626.232660  66746.129418\n",
            "15   16  66570.275404  66697.224912\n",
            "16   17  66534.367256  66668.369514\n",
            "17   18  66524.613832  66665.668841\n",
            "18   19  66479.156036  66627.263795\n",
            "19   20  66469.313268  66624.473778\n",
            "Best ARCH lag (AIC): 20\n",
            "Best ARCH lag (BIC): 20\n"
          ]
        }
      ]
    },
    {
      "cell_type": "markdown",
      "source": [
        "ARCH model specified lag at max lag, which is too high. Move would move to GARCH(1,1) but we'll just use the EMA and SMA indicators already in the features."
      ],
      "metadata": {
        "id": "LNgxwvNoo6nE"
      }
    },
    {
      "cell_type": "markdown",
      "source": [
        "## Add Columns Based on Time Series\n",
        "\n",
        "The time series indicated an effect at 1-day lag that diminished quickly after this."
      ],
      "metadata": {
        "id": "qXN3UUwRsDze"
      }
    },
    {
      "cell_type": "code",
      "source": [
        "# make a 1 day lag like a VAR model\n",
        "df[f'return_lag_1'] = df['1d_return'].shift(1) # acf+pacf said 1 day lag is potenntially relevant\n",
        "\n",
        "# Add to potentially overcome clustering of volatility metrics\n",
        "df['roll_std_5'] = df['1d_return'].rolling(5).std()\n",
        "df['roll_std_20'] = df['1d_return'].rolling(20).std()\n"
      ],
      "metadata": {
        "id": "7sFikhq0gFgS"
      },
      "execution_count": 215,
      "outputs": []
    },
    {
      "cell_type": "code",
      "source": [
        "df.columns"
      ],
      "metadata": {
        "colab": {
          "base_uri": "https://localhost:8080/"
        },
        "id": "t9wIR_SvnRhO",
        "outputId": "804cd214-fe14-45de-f51d-aba15b195c98"
      },
      "execution_count": 216,
      "outputs": [
        {
          "output_type": "execute_result",
          "data": {
            "text/plain": [
              "Index(['Date', 'vix', 'sp500', 'sp500_volume', 'djia', 'djia_volume', 'hsi',\n",
              "       'ads', 'us3m', 'joblessness', 'epu', 'GPRD', 'prev_day',\n",
              "       'daily_policy_index', 'sp500_close', 'sp500_high', 'sp500_low',\n",
              "       'sp500_open', 'sp500_ohlc_volume', '5d_return', '20d_return',\n",
              "       '1d_return', '1d_return_pct', 'direction_1d', 'direction_5d',\n",
              "       'direction_20d', 'macd', 'macd_signal', 'roc', 'rsi', 'stoch_k',\n",
              "       'stoch_d', 'adx', 'obv', 'atr', 'bb_upper', 'bb_middle', 'bb_lower',\n",
              "       'ema_12', 'ema_26', 'sma_5', 'sma_20', 'return_lag_1', 'roll_std_5',\n",
              "       'roll_std_20'],\n",
              "      dtype='object')"
            ]
          },
          "metadata": {},
          "execution_count": 216
        }
      ]
    },
    {
      "cell_type": "markdown",
      "source": [
        "AIC and BIC indicate the lag of 1 is most useful but the values drop off quickly potentially indicating volatility is making ARCH model lag less useful. We have already selected a feature for the return at lag=1. This feature was not determined to be a significant predictor in the test model, PCA, or multicollinearity studies."
      ],
      "metadata": {
        "id": "DZkiTgXslyKI"
      }
    },
    {
      "cell_type": "markdown",
      "source": [
        "# Class balancing\n",
        "Our 1, 5, and 20 day up and down indicator bar charts above indicated that we have more samples in the \"up\" direction with the imbalance increasing over time. I will improve the 5-day with SMOTE to resample and rebalance the classes then train and test a new  model."
      ],
      "metadata": {
        "id": "N-ftKuliRZEq"
      }
    },
    {
      "cell_type": "code",
      "source": [
        "smote = SMOTE(random_state=17)                        # init\n",
        "\n",
        "# at this point x and y are the 5-day direction with the input feature 5 day rolling std removed\n",
        "X_balanced, y_balanced = smote.fit_resample(X_feature_reduced, y_basic_target)\n",
        "\n",
        "rf_model = do_train_rf(X_balanced, y_balanced, n_models=5)"
      ],
      "metadata": {
        "colab": {
          "base_uri": "https://localhost:8080/"
        },
        "id": "l_syJtExReLx",
        "outputId": "2b8f0204-e842-44f5-830c-e592e04b3e1f"
      },
      "execution_count": 217,
      "outputs": [
        {
          "output_type": "stream",
          "name": "stdout",
          "text": [
            "Round 1: OOB Accuracy = 0.6973, Params = {'n_estimators': 200, 'max_depth': 14, 'min_samples_split': 3, 'min_samples_leaf': 6, 'max_features': 'sqrt', 'bootstrap': True, 'oob_score': True, 'random_state': 17}\n",
            "Round 2: OOB Accuracy = 0.6694, Params = {'n_estimators': 250, 'max_depth': 11, 'min_samples_split': 17, 'min_samples_leaf': 4, 'max_features': 'sqrt', 'bootstrap': True, 'oob_score': True, 'random_state': 17}\n",
            "Round 3: OOB Accuracy = 0.7159, Params = {'n_estimators': 150, 'max_depth': 19, 'min_samples_split': 14, 'min_samples_leaf': 6, 'max_features': 'sqrt', 'bootstrap': True, 'oob_score': True, 'random_state': 17}\n",
            "Round 4: OOB Accuracy = 0.6782, Params = {'n_estimators': 400, 'max_depth': 17, 'min_samples_split': 9, 'min_samples_leaf': 18, 'max_features': 'sqrt', 'bootstrap': True, 'oob_score': True, 'random_state': 17}\n",
            "Round 5: OOB Accuracy = 0.6722, Params = {'n_estimators': 400, 'max_depth': 10, 'min_samples_split': 14, 'min_samples_leaf': 8, 'max_features': 'log2', 'bootstrap': True, 'oob_score': True, 'random_state': 17}\n",
            "Best OOB Score: 0.7159114001219264\n",
            "Best Parameters: {'n_estimators': 150, 'max_depth': 19, 'min_samples_split': 14, 'min_samples_leaf': 6, 'max_features': 'sqrt', 'bootstrap': True, 'oob_score': True, 'random_state': 17}\n"
          ]
        }
      ]
    },
    {
      "cell_type": "markdown",
      "source": [
        "The 5-day class counts for the S&P500 being up or down"
      ],
      "metadata": {
        "id": "dAl85WYOX9of"
      }
    },
    {
      "cell_type": "code",
      "source": [
        "\n",
        "counts = Counter(y_basic_target)\n",
        "print(\"Class counts for 20-day pricing being up or down\")\n",
        "print(f\"Up (1): {counts.get(1, 0)} | Down (-1): {counts.get(-1, 0)}\")"
      ],
      "metadata": {
        "colab": {
          "base_uri": "https://localhost:8080/"
        },
        "id": "uGEbMBayW6pU",
        "outputId": "a36b3bd2-4ec4-4533-cc86-73579ae5597d"
      },
      "execution_count": 218,
      "outputs": [
        {
          "output_type": "stream",
          "name": "stdout",
          "text": [
            "Class counts for 20-day pricing being up or down\n",
            "Up (1): 4921 | Down (-1): 3622\n"
          ]
        }
      ]
    },
    {
      "cell_type": "markdown",
      "source": [
        "The same class counts after rebalancing:"
      ],
      "metadata": {
        "id": "ptffVxFyid8D"
      }
    },
    {
      "cell_type": "code",
      "source": [
        "X_balanced, y_balanced = smote.fit_resample(X_balanced, y_balanced)\n",
        "counts = Counter(y_balanced)\n",
        "print(f\"Up (1): {counts.get(1, 0)} | Down (-1): {counts.get(-1, 0)}\")"
      ],
      "metadata": {
        "colab": {
          "base_uri": "https://localhost:8080/"
        },
        "id": "U-mKa1U_iiT7",
        "outputId": "e2dd1ba9-eacb-4dac-a933-338cf0fd9948"
      },
      "execution_count": 219,
      "outputs": [
        {
          "output_type": "stream",
          "name": "stdout",
          "text": [
            "Up (1): 4921 | Down (-1): 4921\n"
          ]
        }
      ]
    },
    {
      "cell_type": "markdown",
      "source": [
        "### Final Model Build"
      ],
      "metadata": {
        "id": "X7aVt0oVntA-"
      }
    },
    {
      "cell_type": "code",
      "source": [
        "# train the final model with 50 trees\n",
        "rf_model = do_train_rf(X_balanced, y_balanced, n_models=50)\n"
      ],
      "metadata": {
        "colab": {
          "base_uri": "https://localhost:8080/"
        },
        "id": "Oi218IiGnvgd",
        "outputId": "06639ca7-47f4-4290-9e7f-2d6b4d25583c"
      },
      "execution_count": 220,
      "outputs": [
        {
          "output_type": "stream",
          "name": "stdout",
          "text": [
            "Round 1: OOB Accuracy = 0.5723, Params = {'n_estimators': 100, 'max_depth': 4, 'min_samples_split': 10, 'min_samples_leaf': 9, 'max_features': 'sqrt', 'bootstrap': True, 'oob_score': True, 'random_state': 17}\n",
            "Round 2: OOB Accuracy = 0.6897, Params = {'n_estimators': 300, 'max_depth': 13, 'min_samples_split': 16, 'min_samples_leaf': 7, 'max_features': 'sqrt', 'bootstrap': True, 'oob_score': True, 'random_state': 17}\n",
            "Round 3: OOB Accuracy = 0.6446, Params = {'n_estimators': 250, 'max_depth': 8, 'min_samples_split': 12, 'min_samples_leaf': 4, 'max_features': 'log2', 'bootstrap': True, 'oob_score': True, 'random_state': 17}\n",
            "Round 4: OOB Accuracy = 0.7199, Params = {'n_estimators': 200, 'max_depth': 16, 'min_samples_split': 15, 'min_samples_leaf': 6, 'max_features': 'log2', 'bootstrap': True, 'oob_score': True, 'random_state': 17}\n",
            "Round 5: OOB Accuracy = 0.5690, Params = {'n_estimators': 150, 'max_depth': 4, 'min_samples_split': 8, 'min_samples_leaf': 15, 'max_features': 'sqrt', 'bootstrap': True, 'oob_score': True, 'random_state': 17}\n",
            "Round 6: OOB Accuracy = 0.6724, Params = {'n_estimators': 250, 'max_depth': 11, 'min_samples_split': 9, 'min_samples_leaf': 13, 'max_features': 'log2', 'bootstrap': True, 'oob_score': True, 'random_state': 17}\n",
            "Round 7: OOB Accuracy = 0.5916, Params = {'n_estimators': 200, 'max_depth': 5, 'min_samples_split': 6, 'min_samples_leaf': 14, 'max_features': 'log2', 'bootstrap': True, 'oob_score': True, 'random_state': 17}\n",
            "Round 8: OOB Accuracy = 0.6872, Params = {'n_estimators': 450, 'max_depth': 17, 'min_samples_split': 13, 'min_samples_leaf': 15, 'max_features': 'sqrt', 'bootstrap': True, 'oob_score': True, 'random_state': 17}\n",
            "Round 9: OOB Accuracy = 0.6505, Params = {'n_estimators': 450, 'max_depth': 9, 'min_samples_split': 5, 'min_samples_leaf': 13, 'max_features': 'log2', 'bootstrap': True, 'oob_score': True, 'random_state': 17}\n",
            "Round 10: OOB Accuracy = 0.6924, Params = {'n_estimators': 300, 'max_depth': 18, 'min_samples_split': 19, 'min_samples_leaf': 13, 'max_features': 'sqrt', 'bootstrap': True, 'oob_score': True, 'random_state': 17}\n",
            "Round 11: OOB Accuracy = 0.6834, Params = {'n_estimators': 250, 'max_depth': 11, 'min_samples_split': 16, 'min_samples_leaf': 2, 'max_features': 'log2', 'bootstrap': True, 'oob_score': True, 'random_state': 17}\n",
            "Round 12: OOB Accuracy = 0.6566, Params = {'n_estimators': 450, 'max_depth': 10, 'min_samples_split': 18, 'min_samples_leaf': 11, 'max_features': 'sqrt', 'bootstrap': True, 'oob_score': True, 'random_state': 17}\n",
            "Round 13: OOB Accuracy = 0.7477, Params = {'n_estimators': 350, 'max_depth': 18, 'min_samples_split': 9, 'min_samples_leaf': 2, 'max_features': 'log2', 'bootstrap': True, 'oob_score': True, 'random_state': 17}\n",
            "Round 14: OOB Accuracy = 0.6944, Params = {'n_estimators': 250, 'max_depth': 18, 'min_samples_split': 13, 'min_samples_leaf': 12, 'max_features': 'sqrt', 'bootstrap': True, 'oob_score': True, 'random_state': 17}\n",
            "Round 15: OOB Accuracy = 0.6712, Params = {'n_estimators': 300, 'max_depth': 12, 'min_samples_split': 18, 'min_samples_leaf': 13, 'max_features': 'sqrt', 'bootstrap': True, 'oob_score': True, 'random_state': 17}\n",
            "Round 16: OOB Accuracy = 0.6918, Params = {'n_estimators': 250, 'max_depth': 12, 'min_samples_split': 14, 'min_samples_leaf': 4, 'max_features': 'log2', 'bootstrap': True, 'oob_score': True, 'random_state': 17}\n",
            "Round 17: OOB Accuracy = 0.6737, Params = {'n_estimators': 350, 'max_depth': 15, 'min_samples_split': 17, 'min_samples_leaf': 19, 'max_features': 'sqrt', 'bootstrap': True, 'oob_score': True, 'random_state': 17}\n",
            "Round 18: OOB Accuracy = 0.6722, Params = {'n_estimators': 350, 'max_depth': 12, 'min_samples_split': 13, 'min_samples_leaf': 19, 'max_features': 'log2', 'bootstrap': True, 'oob_score': True, 'random_state': 17}\n",
            "Round 19: OOB Accuracy = 0.6807, Params = {'n_estimators': 100, 'max_depth': 15, 'min_samples_split': 18, 'min_samples_leaf': 12, 'max_features': 'sqrt', 'bootstrap': True, 'oob_score': True, 'random_state': 17}\n",
            "Round 20: OOB Accuracy = 0.5973, Params = {'n_estimators': 200, 'max_depth': 5, 'min_samples_split': 12, 'min_samples_leaf': 5, 'max_features': 'log2', 'bootstrap': True, 'oob_score': True, 'random_state': 17}\n",
            "Round 21: OOB Accuracy = 0.5948, Params = {'n_estimators': 300, 'max_depth': 5, 'min_samples_split': 13, 'min_samples_leaf': 10, 'max_features': 'log2', 'bootstrap': True, 'oob_score': True, 'random_state': 17}\n",
            "Round 22: OOB Accuracy = 0.7069, Params = {'n_estimators': 350, 'max_depth': 15, 'min_samples_split': 5, 'min_samples_leaf': 10, 'max_features': 'log2', 'bootstrap': True, 'oob_score': True, 'random_state': 17}\n",
            "Round 23: OOB Accuracy = 0.5906, Params = {'n_estimators': 200, 'max_depth': 5, 'min_samples_split': 3, 'min_samples_leaf': 9, 'max_features': 'sqrt', 'bootstrap': True, 'oob_score': True, 'random_state': 17}\n",
            "Round 24: OOB Accuracy = 0.6004, Params = {'n_estimators': 100, 'max_depth': 6, 'min_samples_split': 14, 'min_samples_leaf': 2, 'max_features': 'sqrt', 'bootstrap': True, 'oob_score': True, 'random_state': 17}\n",
            "Round 25: OOB Accuracy = 0.5729, Params = {'n_estimators': 250, 'max_depth': 4, 'min_samples_split': 10, 'min_samples_leaf': 15, 'max_features': 'sqrt', 'bootstrap': True, 'oob_score': True, 'random_state': 17}\n",
            "Round 26: OOB Accuracy = 0.6155, Params = {'n_estimators': 100, 'max_depth': 7, 'min_samples_split': 13, 'min_samples_leaf': 9, 'max_features': 'sqrt', 'bootstrap': True, 'oob_score': True, 'random_state': 17}\n",
            "Round 27: OOB Accuracy = 0.6965, Params = {'n_estimators': 250, 'max_depth': 16, 'min_samples_split': 7, 'min_samples_leaf': 14, 'max_features': 'log2', 'bootstrap': True, 'oob_score': True, 'random_state': 17}\n",
            "Round 28: OOB Accuracy = 0.7016, Params = {'n_estimators': 450, 'max_depth': 16, 'min_samples_split': 5, 'min_samples_leaf': 10, 'max_features': 'sqrt', 'bootstrap': True, 'oob_score': True, 'random_state': 17}\n",
            "Round 29: OOB Accuracy = 0.6609, Params = {'n_estimators': 250, 'max_depth': 9, 'min_samples_split': 2, 'min_samples_leaf': 3, 'max_features': 'log2', 'bootstrap': True, 'oob_score': True, 'random_state': 17}\n",
            "Round 30: OOB Accuracy = 0.6469, Params = {'n_estimators': 200, 'max_depth': 8, 'min_samples_split': 12, 'min_samples_leaf': 2, 'max_features': 'log2', 'bootstrap': True, 'oob_score': True, 'random_state': 17}\n",
            "Round 31: OOB Accuracy = 0.7159, Params = {'n_estimators': 350, 'max_depth': 17, 'min_samples_split': 19, 'min_samples_leaf': 2, 'max_features': 'sqrt', 'bootstrap': True, 'oob_score': True, 'random_state': 17}\n",
            "Round 32: OOB Accuracy = 0.5720, Params = {'n_estimators': 200, 'max_depth': 4, 'min_samples_split': 9, 'min_samples_leaf': 11, 'max_features': 'sqrt', 'bootstrap': True, 'oob_score': True, 'random_state': 17}\n",
            "Round 33: OOB Accuracy = 0.6430, Params = {'n_estimators': 100, 'max_depth': 9, 'min_samples_split': 11, 'min_samples_leaf': 10, 'max_features': 'log2', 'bootstrap': True, 'oob_score': True, 'random_state': 17}\n",
            "Round 34: OOB Accuracy = 0.6770, Params = {'n_estimators': 300, 'max_depth': 11, 'min_samples_split': 7, 'min_samples_leaf': 9, 'max_features': 'log2', 'bootstrap': True, 'oob_score': True, 'random_state': 17}\n",
            "Round 35: OOB Accuracy = 0.6757, Params = {'n_estimators': 300, 'max_depth': 11, 'min_samples_split': 12, 'min_samples_leaf': 5, 'max_features': 'sqrt', 'bootstrap': True, 'oob_score': True, 'random_state': 17}\n",
            "Round 36: OOB Accuracy = 0.7013, Params = {'n_estimators': 200, 'max_depth': 14, 'min_samples_split': 8, 'min_samples_leaf': 9, 'max_features': 'log2', 'bootstrap': True, 'oob_score': True, 'random_state': 17}\n",
            "Round 37: OOB Accuracy = 0.7356, Params = {'n_estimators': 200, 'max_depth': 19, 'min_samples_split': 17, 'min_samples_leaf': 1, 'max_features': 'log2', 'bootstrap': True, 'oob_score': True, 'random_state': 17}\n",
            "Round 38: OOB Accuracy = 0.5919, Params = {'n_estimators': 350, 'max_depth': 5, 'min_samples_split': 17, 'min_samples_leaf': 12, 'max_features': 'sqrt', 'bootstrap': True, 'oob_score': True, 'random_state': 17}\n",
            "Round 39: OOB Accuracy = 0.6752, Params = {'n_estimators': 100, 'max_depth': 13, 'min_samples_split': 17, 'min_samples_leaf': 8, 'max_features': 'sqrt', 'bootstrap': True, 'oob_score': True, 'random_state': 17}\n",
            "Round 40: OOB Accuracy = 0.6788, Params = {'n_estimators': 100, 'max_depth': 12, 'min_samples_split': 12, 'min_samples_leaf': 7, 'max_features': 'log2', 'bootstrap': True, 'oob_score': True, 'random_state': 17}\n",
            "Round 41: OOB Accuracy = 0.6492, Params = {'n_estimators': 450, 'max_depth': 9, 'min_samples_split': 10, 'min_samples_leaf': 10, 'max_features': 'sqrt', 'bootstrap': True, 'oob_score': True, 'random_state': 17}\n",
            "Round 42: OOB Accuracy = 0.6440, Params = {'n_estimators': 250, 'max_depth': 8, 'min_samples_split': 14, 'min_samples_leaf': 4, 'max_features': 'log2', 'bootstrap': True, 'oob_score': True, 'random_state': 17}\n",
            "Round 43: OOB Accuracy = 0.5970, Params = {'n_estimators': 350, 'max_depth': 5, 'min_samples_split': 19, 'min_samples_leaf': 4, 'max_features': 'log2', 'bootstrap': True, 'oob_score': True, 'random_state': 17}\n",
            "Round 44: OOB Accuracy = 0.6907, Params = {'n_estimators': 250, 'max_depth': 19, 'min_samples_split': 9, 'min_samples_leaf': 17, 'max_features': 'log2', 'bootstrap': True, 'oob_score': True, 'random_state': 17}\n",
            "Round 45: OOB Accuracy = 0.6395, Params = {'n_estimators': 350, 'max_depth': 8, 'min_samples_split': 18, 'min_samples_leaf': 14, 'max_features': 'log2', 'bootstrap': True, 'oob_score': True, 'random_state': 17}\n",
            "Round 46: OOB Accuracy = 0.6956, Params = {'n_estimators': 350, 'max_depth': 18, 'min_samples_split': 16, 'min_samples_leaf': 12, 'max_features': 'sqrt', 'bootstrap': True, 'oob_score': True, 'random_state': 17}\n",
            "Round 47: OOB Accuracy = 0.6318, Params = {'n_estimators': 250, 'max_depth': 8, 'min_samples_split': 19, 'min_samples_leaf': 9, 'max_features': 'sqrt', 'bootstrap': True, 'oob_score': True, 'random_state': 17}\n",
            "Round 48: OOB Accuracy = 0.5954, Params = {'n_estimators': 450, 'max_depth': 5, 'min_samples_split': 4, 'min_samples_leaf': 15, 'max_features': 'log2', 'bootstrap': True, 'oob_score': True, 'random_state': 17}\n",
            "Round 49: OOB Accuracy = 0.6474, Params = {'n_estimators': 250, 'max_depth': 10, 'min_samples_split': 19, 'min_samples_leaf': 19, 'max_features': 'sqrt', 'bootstrap': True, 'oob_score': True, 'random_state': 17}\n",
            "Round 50: OOB Accuracy = 0.7069, Params = {'n_estimators': 400, 'max_depth': 13, 'min_samples_split': 14, 'min_samples_leaf': 5, 'max_features': 'log2', 'bootstrap': True, 'oob_score': True, 'random_state': 17}\n",
            "Best OOB Score: 0.7477138792928266\n",
            "Best Parameters: {'n_estimators': 350, 'max_depth': 18, 'min_samples_split': 9, 'min_samples_leaf': 2, 'max_features': 'log2', 'bootstrap': True, 'oob_score': True, 'random_state': 17}\n"
          ]
        }
      ]
    },
    {
      "cell_type": "markdown",
      "source": [
        "# Prediction\n",
        "Code a method that will be used to predict the class 5 days in the future and the probability of that prediction. This seems to make the most of the prediction power of the models. The 1-day is better than chance, but just a bit. The 20-day is far enough in the future and the class weighting so far in favor of the positive/up direction that it is likely less useful than the 5 day. The 5-day direction model is ~75% accuracy and the 20-day model is ~85%. The lower accuracy is likely acceptable for short-term market direction trading."
      ],
      "metadata": {
        "id": "Uwz-T0eDYp56"
      }
    },
    {
      "cell_type": "markdown",
      "source": [
        "## Prediction Dataframe Requirements\n",
        "We only need a subset of variables to do prediction. The columns must match the model."
      ],
      "metadata": {
        "id": "q4nAcj9JaxYc"
      }
    },
    {
      "cell_type": "code",
      "source": [
        "X_balanced.columns"
      ],
      "metadata": {
        "colab": {
          "base_uri": "https://localhost:8080/"
        },
        "id": "6lsJnfFMa9Di",
        "outputId": "73bd34a7-47d4-4e5e-e262-89ea1c62923a"
      },
      "execution_count": 221,
      "outputs": [
        {
          "output_type": "execute_result",
          "data": {
            "text/plain": [
              "Index(['ads', 'roc', 'rsi', 'djia_volume', 'adx', 'vix', 'daily_policy_index',\n",
              "       'hsi'],\n",
              "      dtype='object')"
            ]
          },
          "metadata": {},
          "execution_count": 221
        }
      ]
    },
    {
      "cell_type": "code",
      "source": [
        "\n",
        "# Function do_predict\n",
        "# Purpose:\n",
        "#   use the best trained model to do prediction\n",
        "# Parameters:\n",
        "#   model - model to use for prediction\n",
        "#   df_input_features - dataframe with features to use to predict the outcome for input data\n",
        "def do_predict(model, df_input_features):\n",
        "  y_pred = model.predict(df_input_features)        # class\n",
        "  y_prob = model.predict_proba(df_input_features)  # probability\n",
        "  return y_pred, y_prob"
      ],
      "metadata": {
        "id": "GIgj49f_Yyu3"
      },
      "execution_count": 222,
      "outputs": []
    },
    {
      "cell_type": "code",
      "source": [
        "# Get your feature names from the balanced dataset\n",
        "balanced_cols = X_balanced.columns.tolist()\n",
        "\n",
        "# Select those columns + direction_5d + Date from the full dataframe\n",
        "cols_to_get = ['Date'] + balanced_cols +  ['sp500_close']\n",
        "len(df)\n",
        "# Extract those columns\n",
        "df_predict = df[cols_to_get]\n",
        "len(df_predict)\n",
        "\n",
        "# Prepare X for prediction (drop Date and target)\n",
        "X_recent = df_predict[balanced_cols]\n",
        "len(X_recent)\n",
        "# Predict next 20-day direction\n",
        "preds = rf_model.predict(X_recent)\n",
        "\n",
        "# Combine results\n",
        "df_predict['Pred_dir_5d'] = preds\n",
        "#print(df_predict[['Date', 'direction_5d', 'Pred_dir_5d', '5d_return', 'sp500_close']])\n",
        "\n",
        "\n"
      ],
      "metadata": {
        "id": "xj6eqBNcjJGA"
      },
      "execution_count": 223,
      "outputs": []
    },
    {
      "cell_type": "code",
      "source": [
        "print(df_predict.columns)\n",
        "len( df_predict)"
      ],
      "metadata": {
        "colab": {
          "base_uri": "https://localhost:8080/"
        },
        "id": "gPYcz7-tBaZJ",
        "outputId": "f20ec1b5-5cdd-4fba-bd08-a4398d442234"
      },
      "execution_count": 224,
      "outputs": [
        {
          "output_type": "stream",
          "name": "stdout",
          "text": [
            "Index(['Date', 'ads', 'roc', 'rsi', 'djia_volume', 'adx', 'vix',\n",
            "       'daily_policy_index', 'hsi', 'sp500_close', 'Pred_dir_5d'],\n",
            "      dtype='object')\n"
          ]
        },
        {
          "output_type": "execute_result",
          "data": {
            "text/plain": [
              "8543"
            ]
          },
          "metadata": {},
          "execution_count": 224
        }
      ]
    },
    {
      "cell_type": "markdown",
      "source": [
        "# Model Profit Simulation\n",
        "\n",
        "This compares two scenarios, the first being the use of this model with a fraction of the balance invested in each round of purchase, and the second being a buy at the beginning of the dataset and selling at the end.\n",
        "\n",
        "In both cases the initial portfolio balance is $10,000. The fraction to invest is 50% and can be varied."
      ],
      "metadata": {
        "id": "tbkP-KjvveOv"
      }
    },
    {
      "cell_type": "code",
      "source": [
        "# --- Parameters ---\n",
        "starting_balance = 10000.0\n",
        "fraction_to_invest = 0.5  # 50% of current cash used per buy, can be 0.0 to 1.0\n",
        "\n",
        "cash = starting_balance\n",
        "position = 0\n",
        "portfolio_values = []\n",
        "active = False\n",
        "\n",
        "for i in range(len(df_predict)):\n",
        "    price = df_predict.loc[i, 'sp500_close']\n",
        "    pred_curr = df_predict.loc[i, 'Pred_dir_5d']\n",
        "    pred_prev = df_predict.loc[i-1, 'Pred_dir_5d'] if i > 0 else 0\n",
        "\n",
        "    # Wait for first buy\n",
        "    if not active:                  # handle the startup state\n",
        "        if pred_curr == 1:          # if we should buy\n",
        "            active = True           # we are now in a \"buy\" state\n",
        "            # Buy fraction of cash\n",
        "            invest_amount = cash * fraction_to_invest # set how much to invest\n",
        "            position = invest_amount / price          # set how many shares we can get\n",
        "            cash -= invest_amount                     # reduce the portfolio balance\n",
        "        portfolio_values.append(cash + position * price)  # set the current balance\n",
        "        continue\n",
        "\n",
        "    # Buy signal: -1 -> 1\n",
        "    if pred_prev == -1 and pred_curr == 1:            # moved from no buy to buy signal\n",
        "        invest_amount = cash * fraction_to_invest     # set the investment amount\n",
        "        if invest_amount > 0:                         # if we have money\n",
        "            position += invest_amount / price         # set number of shares\n",
        "            cash -= invest_amount                     # reduce the portfolio\n",
        "\n",
        "    # Sell signal: 1 -> -1                            # moved from buy to sell\n",
        "    elif pred_prev == 1 and pred_curr == -1 and position > 0: # if we're in and should sell\n",
        "        # Sell all held shares\n",
        "        cash += position * price                      # calculate new balance\n",
        "        position = 0\n",
        "\n",
        "    portfolio_values.append(cash + position * price)  # append the balance\n",
        "\n",
        "df_predict['portfolio_value'] = portfolio_values\n",
        "\n",
        "# --- Summary ---\n",
        "final_value = df_predict['portfolio_value'].iloc[-1]          # ending value\n",
        "total_return = (final_value - starting_balance) / starting_balance * 100  # portfolio return\n",
        "\n",
        "# Buy and hold meaning buy at the start of the dataset period and sell at the end\n",
        "buy_and_hold_value = starting_balance / df_predict['sp500_close'].iloc[0] * df_predict['sp500_close'].iloc[-1]\n",
        "buy_and_hold_return = (buy_and_hold_value - starting_balance) / starting_balance * 100\n",
        "\n",
        "print(f\"Final portfolio value: ${final_value:,.2f}, return: {total_return:.2f}%\")\n",
        "print(f\"Buy and hold value: ${buy_and_hold_value:,.2f}, return: {buy_and_hold_return:.2f}%\")\n"
      ],
      "metadata": {
        "colab": {
          "base_uri": "https://localhost:8080/"
        },
        "id": "Q8CuxNM0A3QM",
        "outputId": "c791c5dd-70e7-4d3d-913d-c8ea99c6b360"
      },
      "execution_count": 225,
      "outputs": [
        {
          "output_type": "stream",
          "name": "stdout",
          "text": [
            "Final portfolio value: $20,554,073.22, return: 205440.73%\n",
            "Buy and hold value: $145,764.81, return: 1357.65%\n"
          ]
        }
      ]
    },
    {
      "cell_type": "markdown",
      "source": [
        "# Post-processing Use\n",
        "\n",
        "The following section would make up parts of the online service that could be used to serve this model in a web application. We will save a model to disk, load it back from disk, and predict today's direction signal.\n",
        "\n",
        "I will use Pickle to make a binary compressed version of the model for speed of reading and writing and to make the model small on disk. The model won't be large anyway but it's good practice.\n",
        "\n",
        "Change the disk save/load locations to change how to persist the serialized model."
      ],
      "metadata": {
        "id": "YNEDvftp3Gtz"
      }
    },
    {
      "cell_type": "markdown",
      "source": [
        "## Post-Processing Imports"
      ],
      "metadata": {
        "id": "7xIDiHmD4Jxu"
      }
    },
    {
      "cell_type": "code",
      "source": [
        "import pickle"
      ],
      "metadata": {
        "id": "Nft-gcSU4MTh"
      },
      "execution_count": 226,
      "outputs": []
    },
    {
      "cell_type": "markdown",
      "source": [
        "## Save Model\n",
        "\n",
        "Serialize the model for version control, adding to containerized web services, and backup. Note that in Colab this is a temporary file but other environments may be able to persist the data locally."
      ],
      "metadata": {
        "id": "pTj_-zTc3S3m"
      }
    },
    {
      "cell_type": "code",
      "source": [
        "# Serialize the file by pickling it to disk\n",
        "file_name = \"trained_random_forest.pkl\"\n",
        "try:\n",
        "  with open(file_name, 'wb') as __file:\n",
        "      pickle.dump(rf_model, __file)\n",
        "      print(f\"File saved locally as {file_name}\")\n",
        "except Exception as e:\n",
        "  print(e)\n"
      ],
      "metadata": {
        "colab": {
          "base_uri": "https://localhost:8080/"
        },
        "id": "O6lVEgmd3zew",
        "outputId": "2eb23193-22df-462b-80c5-7df62958a2dd"
      },
      "execution_count": 227,
      "outputs": [
        {
          "output_type": "stream",
          "name": "stdout",
          "text": [
            "File saved locally as trained_random_forest.pkl\n"
          ]
        }
      ]
    },
    {
      "cell_type": "code",
      "source": [
        "print(df_predict.columns)"
      ],
      "metadata": {
        "colab": {
          "base_uri": "https://localhost:8080/"
        },
        "id": "n_KXZeXjktgK",
        "outputId": "c276da81-355b-4a37-c115-308b7ca7686f"
      },
      "execution_count": 228,
      "outputs": [
        {
          "output_type": "stream",
          "name": "stdout",
          "text": [
            "Index(['Date', 'ads', 'roc', 'rsi', 'djia_volume', 'adx', 'vix',\n",
            "       'daily_policy_index', 'hsi', 'sp500_close', 'Pred_dir_5d',\n",
            "       'portfolio_value'],\n",
            "      dtype='object')\n"
          ]
        }
      ]
    },
    {
      "cell_type": "markdown",
      "source": [
        "## Load Trained Model\n",
        "\n",
        "This would be part of a containerized production service in which a model would be added behind a Flask REST service to do the prediction. This portion would load the model into memory for use within the REST API code."
      ],
      "metadata": {
        "id": "eybSpeFF3XRK"
      }
    },
    {
      "cell_type": "code",
      "source": [
        "# Read the model back from disk and it's ready for use\n",
        "file_name = \"trained_random_forest.pkl\"\n",
        "try:\n",
        "  with open(file_name, 'rb') as __file:\n",
        "    rf_model = pickle.load(__file)\n",
        "    print(f\"File read from local {file_name}\")\n",
        "except Exception as e:\n",
        "  print(e)"
      ],
      "metadata": {
        "colab": {
          "base_uri": "https://localhost:8080/"
        },
        "id": "d5NAe5Lm5QyG",
        "outputId": "df88a2aa-4835-4491-c8b6-3a2c328175dc"
      },
      "execution_count": 229,
      "outputs": [
        {
          "output_type": "stream",
          "name": "stdout",
          "text": [
            "File read from local trained_random_forest.pkl\n"
          ]
        }
      ]
    },
    {
      "cell_type": "markdown",
      "source": [
        "## Predict signal for today\n",
        "\n",
        "To predict for today we need get the VIX, S&P, Dow Jones, Hang Seng from Yahoo; ADS from the Philadelphia Fed; and the EPU from policyuncertainty.com\n",
        "\n",
        "We'll call the URLs or APIs, construct a row for today, and determine whether or not we should be in the market today based on the 5-day prediction."
      ],
      "metadata": {
        "id": "Pn7ExlNYWnb_"
      }
    },
    {
      "cell_type": "markdown",
      "source": [
        "### Collect Data"
      ],
      "metadata": {
        "id": "K1A6GMvQxF-2"
      }
    },
    {
      "cell_type": "markdown",
      "source": [
        "Get the Yahoo values"
      ],
      "metadata": {
        "id": "iaeZNH26ohKn"
      }
    },
    {
      "cell_type": "code",
      "source": [
        "# We require 15 days of data to be able to construct the indicators from the pricing\n",
        "\n",
        "# --- Parameters ---\n",
        "tickers = {\n",
        "    'VIX': '^VIX',\n",
        "    'SP500': '^GSPC',\n",
        "    'DJIA': '^DJI',\n",
        "    'HSI': '^HSI'\n",
        "}\n",
        "\n",
        "# Need 15 dates to get both roc and rsi but we'll only use the last row\n",
        "dates = pd.date_range(end=datetime.now(), periods=15).to_pydatetime().tolist()\n",
        "\n",
        "# Container for all rows\n",
        "rows = []\n",
        "\n",
        "for target_date in dates:\n",
        "    start_date = (target_date - timedelta(days=3)).strftime('%Y-%m-%d')\n",
        "    end_date = (target_date + timedelta(days=3)).strftime('%Y-%m-%d')\n",
        "\n",
        "    data = {'Date': target_date.strftime('%Y-%m-%d')}\n",
        "    for name, ticker in tickers.items():\n",
        "        df = yf.download(ticker, start=start_date, end=end_date, progress=False)\n",
        "        if not df.empty:\n",
        "            # Find the row closest to the target_date (use last available)\n",
        "            ticker_date = df.index[-1]\n",
        "            data[f'{name}_Close'] = float(df['Close'].iloc[-1])\n",
        "            data[f'{name}_High'] = float(df['High'].iloc[-1])\n",
        "            data[f'{name}_Low'] = float(df['Low'].iloc[-1])\n",
        "            data[f'{name}_Volume'] = float(df['Volume'].iloc[-1]) if 'Volume' in df.columns else 0.0\n",
        "        else:\n",
        "            # Fill missing ticker data with NaNs\n",
        "            data[f'{name}_Close'] = None\n",
        "            data[f'{name}_High'] = None\n",
        "            data[f'{name}_Low'] = None\n",
        "            data[f'{name}_Volume'] = None\n",
        "    rows.append(data)\n",
        "\n",
        "# Combine all rows\n",
        "df_all = pd.DataFrame(rows)\n",
        "\n",
        "# Rename columns for consistency\n",
        "df_all = df_all.rename(columns={\n",
        "    'VIX_Close': 'vix',\n",
        "    'SP500_Close': 'sp500_close',\n",
        "    'SP500_High': 'sp500_high',\n",
        "    'SP500_Low': 'sp500_low',\n",
        "    'DJIA_Close': 'djia_close',\n",
        "    'DJIA_High': 'djia_high',\n",
        "    'DJIA_Volume': 'djia_volume',\n",
        "    'HSI_Close': 'hsi'\n",
        "})\n",
        "\n",
        "# Add indicators (computed across the series)\n",
        "df_all['roc'] = ta.momentum.roc(close=df_all['sp500_close'])\n",
        "df_all['rsi'] = ta.rsi(df_all['sp500_close'], length=14)\n",
        "df_all['adx'] = ta.adx(df_all['sp500_high'], df_all['sp500_low'], df_all['sp500_close'], timeperiod=14)['ADX_14']\n",
        "\n",
        "\n",
        "print(df_all)\n"
      ],
      "metadata": {
        "colab": {
          "base_uri": "https://localhost:8080/"
        },
        "id": "pwETufroaauC",
        "outputId": "9263b5df-40af-4965-849d-3802805dde32"
      },
      "execution_count": 230,
      "outputs": [
        {
          "output_type": "stream",
          "name": "stdout",
          "text": [
            "          Date        vix   VIX_High    VIX_Low  VIX_Volume  sp500_close  \\\n",
            "0   2025-10-12  20.809999  22.940001  19.180000         0.0  6644.310059   \n",
            "1   2025-10-13  20.639999  22.440001  19.110001         0.0  6671.060059   \n",
            "2   2025-10-14  25.309999  25.430000  19.850000         0.0  6629.069824   \n",
            "3   2025-10-15  20.780001  28.990000  20.730000         0.0  6664.009766   \n",
            "4   2025-10-16  20.780001  28.990000  20.730000         0.0  6664.009766   \n",
            "5   2025-10-17  20.780001  28.990000  20.730000         0.0  6664.009766   \n",
            "6   2025-10-18  18.230000  21.020000  18.230000         0.0  6735.129883   \n",
            "7   2025-10-19  17.870001  18.889999  17.400000         0.0  6735.350098   \n",
            "8   2025-10-20  18.600000  21.010000  17.730000         0.0  6699.399902   \n",
            "9   2025-10-21  17.299999  19.350000  17.080000         0.0  6738.439941   \n",
            "10  2025-10-22  16.370001  17.219999  16.020000         0.0  6791.689941   \n",
            "11  2025-10-23  16.370001  17.219999  16.020000         0.0  6791.689941   \n",
            "12  2025-10-24  16.370001  17.219999  16.020000         0.0  6791.689941   \n",
            "13  2025-10-25  16.370001  17.219999  16.020000         0.0  6791.689941   \n",
            "14  2025-10-26  16.370001  17.219999  16.020000         0.0  6791.689941   \n",
            "\n",
            "     sp500_high    sp500_low  SP500_Volume    djia_close     djia_high  \\\n",
            "0   6680.700195  6555.069824  5.666920e+09  46270.460938  46522.671875   \n",
            "1   6724.120117  6612.109863  5.633060e+09  46253.308594  46693.339844   \n",
            "2   6709.339844  6593.990234  6.048180e+09  45952.238281  46422.339844   \n",
            "3   6678.879883  6603.759766  5.358120e+09  46190.609375  46327.070312   \n",
            "4   6678.879883  6603.759766  5.358120e+09  46190.609375  46327.070312   \n",
            "5   6678.879883  6603.759766  5.358120e+09  46190.609375  46327.070312   \n",
            "6   6744.350098  6690.049805  4.672170e+09  46706.578125  46759.269531   \n",
            "7   6752.160156  6722.029785  5.245020e+09  46924.738281  47125.660156   \n",
            "8   6741.750000  6655.689941  5.710010e+09  46590.410156  46941.558594   \n",
            "9   6749.529785  6700.140137  5.565750e+09  46734.609375  46802.148438   \n",
            "10  6807.109863  6772.069824  5.058220e+09  47207.121094  47326.730469   \n",
            "11  6807.109863  6772.069824  5.058220e+09  47207.121094  47326.730469   \n",
            "12  6807.109863  6772.069824  5.058220e+09  47207.121094  47326.730469   \n",
            "13  6807.109863  6772.069824  5.058220e+09  47207.121094  47326.730469   \n",
            "14  6807.109863  6772.069824  5.058220e+09  47207.121094  47326.730469   \n",
            "\n",
            "        DJIA_Low  djia_volume           hsi      HSI_High       HSI_Low  \\\n",
            "0   45452.031250  515330000.0  25441.349609  26102.679688  25331.640625   \n",
            "1   46027.230469  488700000.0  25910.599609  25982.210938  25593.449219   \n",
            "2   45781.179688  481610000.0  25888.509766  26062.800781  25687.320312   \n",
            "3   45862.371094  492870000.0  25247.099609  25859.820312  25145.339844   \n",
            "4   45862.371094  492870000.0  25247.099609  25859.820312  25145.339844   \n",
            "5   45862.371094  492870000.0  25247.099609  25859.820312  25145.339844   \n",
            "6   46312.878906  444010000.0  25858.830078  25912.769531  25710.609375   \n",
            "7   46688.250000  430490000.0  26027.550781  26367.349609  26017.720703   \n",
            "8   46461.519531  458450000.0  25781.769531  25947.880859  25653.750000   \n",
            "9   46490.058594  407570000.0  25967.980469  26080.839844  25591.660156   \n",
            "10  46811.511719  403500000.0  26160.150391  26239.960938  26063.990234   \n",
            "11  46811.511719  403500000.0  26160.150391  26239.960938  26063.990234   \n",
            "12  46811.511719  403500000.0  26160.150391  26239.960938  26063.990234   \n",
            "13  46811.511719  403500000.0  26160.150391  26239.960938  26063.990234   \n",
            "14  46811.511719  403500000.0  26160.150391  26239.960938  26063.990234   \n",
            "\n",
            "      HSI_Volume       roc         rsi        adx  \n",
            "0   4.753200e+09       NaN         NaN        NaN  \n",
            "1   3.503900e+09       NaN  100.000000        NaN  \n",
            "2   3.380900e+09       NaN   89.226097        NaN  \n",
            "3   4.008400e+09       NaN   90.174686        NaN  \n",
            "4   4.008400e+09       NaN   90.174686        NaN  \n",
            "5   4.008400e+09       NaN   90.174686        NaN  \n",
            "6   2.901600e+09       NaN   91.971705        NaN  \n",
            "7   3.065000e+09       NaN   91.976598        NaN  \n",
            "8   2.830300e+09       NaN   83.074594        NaN  \n",
            "9   3.104000e+09       NaN   84.795568        NaN  \n",
            "10  2.592100e+09  2.218137   86.771373        NaN  \n",
            "11  2.592100e+09  1.808257   86.771373        NaN  \n",
            "12  2.592100e+09  2.453136   86.771373        NaN  \n",
            "13  2.592100e+09  1.915966   86.771373  73.056703  \n",
            "14  2.592100e+09  1.915966   86.771373  73.056703  \n"
          ]
        }
      ]
    },
    {
      "cell_type": "markdown",
      "source": [
        "Next we get the current business climate info from the Philadelphia Fed"
      ],
      "metadata": {
        "id": "UXGeelh3ouLk"
      }
    },
    {
      "cell_type": "code",
      "source": [
        "\n",
        "\n",
        "# --- Get ADS index from the Philadelphia Fed ---\n",
        "ads_url = \"https://www.philadelphiafed.org/-/media/FRBP/Assets/Surveys-And-Data/ads/ADS_Index_Most_Current_Vintage.xlsx?la=en&sc_lang=en&hash=C8661B0DEA6B9436ECDCBEFC187B7997\"\n",
        "\n",
        "ads_df = pd.read_excel(ads_url, header=None)\n",
        "\n",
        "# Clean: remove header rows and non-numeric entries in column B\n",
        "ads_df = ads_df[pd.to_numeric(ads_df[1], errors='coerce').notna()]\n",
        "\n",
        "# Extract the most recent non-null value from column B\n",
        "latest_ads_value = ads_df[1].dropna().iloc[-1]\n",
        "\n",
        "# --- Assign to the last row of df_all ---\n",
        "df_all.loc[df_all.index[-1], 'ads'] = latest_ads_value\n",
        "\n",
        "print(df_all.tail(3))\n"
      ],
      "metadata": {
        "colab": {
          "base_uri": "https://localhost:8080/"
        },
        "id": "YR2QqF_hiFrE",
        "outputId": "e82b7b8b-eb7d-40da-e4f4-d042847681fc"
      },
      "execution_count": 231,
      "outputs": [
        {
          "output_type": "stream",
          "name": "stdout",
          "text": [
            "          Date        vix   VIX_High  VIX_Low  VIX_Volume  sp500_close  \\\n",
            "12  2025-10-24  16.370001  17.219999    16.02         0.0  6791.689941   \n",
            "13  2025-10-25  16.370001  17.219999    16.02         0.0  6791.689941   \n",
            "14  2025-10-26  16.370001  17.219999    16.02         0.0  6791.689941   \n",
            "\n",
            "     sp500_high    sp500_low  SP500_Volume    djia_close  ...      DJIA_Low  \\\n",
            "12  6807.109863  6772.069824  5.058220e+09  47207.121094  ...  46811.511719   \n",
            "13  6807.109863  6772.069824  5.058220e+09  47207.121094  ...  46811.511719   \n",
            "14  6807.109863  6772.069824  5.058220e+09  47207.121094  ...  46811.511719   \n",
            "\n",
            "    djia_volume           hsi      HSI_High       HSI_Low    HSI_Volume  \\\n",
            "12  403500000.0  26160.150391  26239.960938  26063.990234  2.592100e+09   \n",
            "13  403500000.0  26160.150391  26239.960938  26063.990234  2.592100e+09   \n",
            "14  403500000.0  26160.150391  26239.960938  26063.990234  2.592100e+09   \n",
            "\n",
            "         roc        rsi        adx       ads  \n",
            "12  2.453136  86.771373        NaN       NaN  \n",
            "13  1.915966  86.771373  73.056703       NaN  \n",
            "14  1.915966  86.771373  73.056703  0.023866  \n",
            "\n",
            "[3 rows x 21 columns]\n"
          ]
        }
      ]
    },
    {
      "cell_type": "markdown",
      "source": [
        "Finally we get the latest economic policy uncertainty"
      ],
      "metadata": {
        "id": "5ma1HrHjo1qR"
      }
    },
    {
      "cell_type": "code",
      "source": [
        "df_epu = get_epu_df()\n",
        "df_epu.tail()\n",
        "# Extract the most recent non-null value from column B\n",
        "latest_epu_value = df_epu['daily_policy_index'].dropna().iloc[-1]\n",
        "\n",
        "# --- Assign to the last row of df_all. It's called epu in that dataframe ---\n",
        "df_all.loc[df_all.index[-1], 'daily_policy_index'] = latest_epu_value\n",
        "df_all.loc[df_all.index[-1], 'epu'] = latest_epu_value\n",
        "df_all.tail()"
      ],
      "metadata": {
        "colab": {
          "base_uri": "https://localhost:8080/",
          "height": 342
        },
        "id": "mw4YiuLbjkLl",
        "outputId": "8c5f3fdd-fd11-4570-f718-7e7a4811ce00"
      },
      "execution_count": 232,
      "outputs": [
        {
          "output_type": "execute_result",
          "data": {
            "text/plain": [
              "          Date        vix   VIX_High  VIX_Low  VIX_Volume  sp500_close  \\\n",
              "10  2025-10-22  16.370001  17.219999    16.02         0.0  6791.689941   \n",
              "11  2025-10-23  16.370001  17.219999    16.02         0.0  6791.689941   \n",
              "12  2025-10-24  16.370001  17.219999    16.02         0.0  6791.689941   \n",
              "13  2025-10-25  16.370001  17.219999    16.02         0.0  6791.689941   \n",
              "14  2025-10-26  16.370001  17.219999    16.02         0.0  6791.689941   \n",
              "\n",
              "     sp500_high    sp500_low  SP500_Volume    djia_close  ...           hsi  \\\n",
              "10  6807.109863  6772.069824  5.058220e+09  47207.121094  ...  26160.150391   \n",
              "11  6807.109863  6772.069824  5.058220e+09  47207.121094  ...  26160.150391   \n",
              "12  6807.109863  6772.069824  5.058220e+09  47207.121094  ...  26160.150391   \n",
              "13  6807.109863  6772.069824  5.058220e+09  47207.121094  ...  26160.150391   \n",
              "14  6807.109863  6772.069824  5.058220e+09  47207.121094  ...  26160.150391   \n",
              "\n",
              "        HSI_High       HSI_Low    HSI_Volume       roc        rsi        adx  \\\n",
              "10  26239.960938  26063.990234  2.592100e+09  2.218137  86.771373        NaN   \n",
              "11  26239.960938  26063.990234  2.592100e+09  1.808257  86.771373        NaN   \n",
              "12  26239.960938  26063.990234  2.592100e+09  2.453136  86.771373        NaN   \n",
              "13  26239.960938  26063.990234  2.592100e+09  1.915966  86.771373  73.056703   \n",
              "14  26239.960938  26063.990234  2.592100e+09  1.915966  86.771373  73.056703   \n",
              "\n",
              "         ads  daily_policy_index     epu  \n",
              "10       NaN                 NaN     NaN  \n",
              "11       NaN                 NaN     NaN  \n",
              "12       NaN                 NaN     NaN  \n",
              "13       NaN                 NaN     NaN  \n",
              "14  0.023866              203.13  203.13  \n",
              "\n",
              "[5 rows x 23 columns]"
            ],
            "text/html": [
              "\n",
              "  <div id=\"df-3ba46a1f-23db-4993-a693-583d8f28808e\" class=\"colab-df-container\">\n",
              "    <div>\n",
              "<style scoped>\n",
              "    .dataframe tbody tr th:only-of-type {\n",
              "        vertical-align: middle;\n",
              "    }\n",
              "\n",
              "    .dataframe tbody tr th {\n",
              "        vertical-align: top;\n",
              "    }\n",
              "\n",
              "    .dataframe thead th {\n",
              "        text-align: right;\n",
              "    }\n",
              "</style>\n",
              "<table border=\"1\" class=\"dataframe\">\n",
              "  <thead>\n",
              "    <tr style=\"text-align: right;\">\n",
              "      <th></th>\n",
              "      <th>Date</th>\n",
              "      <th>vix</th>\n",
              "      <th>VIX_High</th>\n",
              "      <th>VIX_Low</th>\n",
              "      <th>VIX_Volume</th>\n",
              "      <th>sp500_close</th>\n",
              "      <th>sp500_high</th>\n",
              "      <th>sp500_low</th>\n",
              "      <th>SP500_Volume</th>\n",
              "      <th>djia_close</th>\n",
              "      <th>...</th>\n",
              "      <th>hsi</th>\n",
              "      <th>HSI_High</th>\n",
              "      <th>HSI_Low</th>\n",
              "      <th>HSI_Volume</th>\n",
              "      <th>roc</th>\n",
              "      <th>rsi</th>\n",
              "      <th>adx</th>\n",
              "      <th>ads</th>\n",
              "      <th>daily_policy_index</th>\n",
              "      <th>epu</th>\n",
              "    </tr>\n",
              "  </thead>\n",
              "  <tbody>\n",
              "    <tr>\n",
              "      <th>10</th>\n",
              "      <td>2025-10-22</td>\n",
              "      <td>16.370001</td>\n",
              "      <td>17.219999</td>\n",
              "      <td>16.02</td>\n",
              "      <td>0.0</td>\n",
              "      <td>6791.689941</td>\n",
              "      <td>6807.109863</td>\n",
              "      <td>6772.069824</td>\n",
              "      <td>5.058220e+09</td>\n",
              "      <td>47207.121094</td>\n",
              "      <td>...</td>\n",
              "      <td>26160.150391</td>\n",
              "      <td>26239.960938</td>\n",
              "      <td>26063.990234</td>\n",
              "      <td>2.592100e+09</td>\n",
              "      <td>2.218137</td>\n",
              "      <td>86.771373</td>\n",
              "      <td>NaN</td>\n",
              "      <td>NaN</td>\n",
              "      <td>NaN</td>\n",
              "      <td>NaN</td>\n",
              "    </tr>\n",
              "    <tr>\n",
              "      <th>11</th>\n",
              "      <td>2025-10-23</td>\n",
              "      <td>16.370001</td>\n",
              "      <td>17.219999</td>\n",
              "      <td>16.02</td>\n",
              "      <td>0.0</td>\n",
              "      <td>6791.689941</td>\n",
              "      <td>6807.109863</td>\n",
              "      <td>6772.069824</td>\n",
              "      <td>5.058220e+09</td>\n",
              "      <td>47207.121094</td>\n",
              "      <td>...</td>\n",
              "      <td>26160.150391</td>\n",
              "      <td>26239.960938</td>\n",
              "      <td>26063.990234</td>\n",
              "      <td>2.592100e+09</td>\n",
              "      <td>1.808257</td>\n",
              "      <td>86.771373</td>\n",
              "      <td>NaN</td>\n",
              "      <td>NaN</td>\n",
              "      <td>NaN</td>\n",
              "      <td>NaN</td>\n",
              "    </tr>\n",
              "    <tr>\n",
              "      <th>12</th>\n",
              "      <td>2025-10-24</td>\n",
              "      <td>16.370001</td>\n",
              "      <td>17.219999</td>\n",
              "      <td>16.02</td>\n",
              "      <td>0.0</td>\n",
              "      <td>6791.689941</td>\n",
              "      <td>6807.109863</td>\n",
              "      <td>6772.069824</td>\n",
              "      <td>5.058220e+09</td>\n",
              "      <td>47207.121094</td>\n",
              "      <td>...</td>\n",
              "      <td>26160.150391</td>\n",
              "      <td>26239.960938</td>\n",
              "      <td>26063.990234</td>\n",
              "      <td>2.592100e+09</td>\n",
              "      <td>2.453136</td>\n",
              "      <td>86.771373</td>\n",
              "      <td>NaN</td>\n",
              "      <td>NaN</td>\n",
              "      <td>NaN</td>\n",
              "      <td>NaN</td>\n",
              "    </tr>\n",
              "    <tr>\n",
              "      <th>13</th>\n",
              "      <td>2025-10-25</td>\n",
              "      <td>16.370001</td>\n",
              "      <td>17.219999</td>\n",
              "      <td>16.02</td>\n",
              "      <td>0.0</td>\n",
              "      <td>6791.689941</td>\n",
              "      <td>6807.109863</td>\n",
              "      <td>6772.069824</td>\n",
              "      <td>5.058220e+09</td>\n",
              "      <td>47207.121094</td>\n",
              "      <td>...</td>\n",
              "      <td>26160.150391</td>\n",
              "      <td>26239.960938</td>\n",
              "      <td>26063.990234</td>\n",
              "      <td>2.592100e+09</td>\n",
              "      <td>1.915966</td>\n",
              "      <td>86.771373</td>\n",
              "      <td>73.056703</td>\n",
              "      <td>NaN</td>\n",
              "      <td>NaN</td>\n",
              "      <td>NaN</td>\n",
              "    </tr>\n",
              "    <tr>\n",
              "      <th>14</th>\n",
              "      <td>2025-10-26</td>\n",
              "      <td>16.370001</td>\n",
              "      <td>17.219999</td>\n",
              "      <td>16.02</td>\n",
              "      <td>0.0</td>\n",
              "      <td>6791.689941</td>\n",
              "      <td>6807.109863</td>\n",
              "      <td>6772.069824</td>\n",
              "      <td>5.058220e+09</td>\n",
              "      <td>47207.121094</td>\n",
              "      <td>...</td>\n",
              "      <td>26160.150391</td>\n",
              "      <td>26239.960938</td>\n",
              "      <td>26063.990234</td>\n",
              "      <td>2.592100e+09</td>\n",
              "      <td>1.915966</td>\n",
              "      <td>86.771373</td>\n",
              "      <td>73.056703</td>\n",
              "      <td>0.023866</td>\n",
              "      <td>203.13</td>\n",
              "      <td>203.13</td>\n",
              "    </tr>\n",
              "  </tbody>\n",
              "</table>\n",
              "<p>5 rows × 23 columns</p>\n",
              "</div>\n",
              "    <div class=\"colab-df-buttons\">\n",
              "\n",
              "  <div class=\"colab-df-container\">\n",
              "    <button class=\"colab-df-convert\" onclick=\"convertToInteractive('df-3ba46a1f-23db-4993-a693-583d8f28808e')\"\n",
              "            title=\"Convert this dataframe to an interactive table.\"\n",
              "            style=\"display:none;\">\n",
              "\n",
              "  <svg xmlns=\"http://www.w3.org/2000/svg\" height=\"24px\" viewBox=\"0 -960 960 960\">\n",
              "    <path d=\"M120-120v-720h720v720H120Zm60-500h600v-160H180v160Zm220 220h160v-160H400v160Zm0 220h160v-160H400v160ZM180-400h160v-160H180v160Zm440 0h160v-160H620v160ZM180-180h160v-160H180v160Zm440 0h160v-160H620v160Z\"/>\n",
              "  </svg>\n",
              "    </button>\n",
              "\n",
              "  <style>\n",
              "    .colab-df-container {\n",
              "      display:flex;\n",
              "      gap: 12px;\n",
              "    }\n",
              "\n",
              "    .colab-df-convert {\n",
              "      background-color: #E8F0FE;\n",
              "      border: none;\n",
              "      border-radius: 50%;\n",
              "      cursor: pointer;\n",
              "      display: none;\n",
              "      fill: #1967D2;\n",
              "      height: 32px;\n",
              "      padding: 0 0 0 0;\n",
              "      width: 32px;\n",
              "    }\n",
              "\n",
              "    .colab-df-convert:hover {\n",
              "      background-color: #E2EBFA;\n",
              "      box-shadow: 0px 1px 2px rgba(60, 64, 67, 0.3), 0px 1px 3px 1px rgba(60, 64, 67, 0.15);\n",
              "      fill: #174EA6;\n",
              "    }\n",
              "\n",
              "    .colab-df-buttons div {\n",
              "      margin-bottom: 4px;\n",
              "    }\n",
              "\n",
              "    [theme=dark] .colab-df-convert {\n",
              "      background-color: #3B4455;\n",
              "      fill: #D2E3FC;\n",
              "    }\n",
              "\n",
              "    [theme=dark] .colab-df-convert:hover {\n",
              "      background-color: #434B5C;\n",
              "      box-shadow: 0px 1px 3px 1px rgba(0, 0, 0, 0.15);\n",
              "      filter: drop-shadow(0px 1px 2px rgba(0, 0, 0, 0.3));\n",
              "      fill: #FFFFFF;\n",
              "    }\n",
              "  </style>\n",
              "\n",
              "    <script>\n",
              "      const buttonEl =\n",
              "        document.querySelector('#df-3ba46a1f-23db-4993-a693-583d8f28808e button.colab-df-convert');\n",
              "      buttonEl.style.display =\n",
              "        google.colab.kernel.accessAllowed ? 'block' : 'none';\n",
              "\n",
              "      async function convertToInteractive(key) {\n",
              "        const element = document.querySelector('#df-3ba46a1f-23db-4993-a693-583d8f28808e');\n",
              "        const dataTable =\n",
              "          await google.colab.kernel.invokeFunction('convertToInteractive',\n",
              "                                                    [key], {});\n",
              "        if (!dataTable) return;\n",
              "\n",
              "        const docLinkHtml = 'Like what you see? Visit the ' +\n",
              "          '<a target=\"_blank\" href=https://colab.research.google.com/notebooks/data_table.ipynb>data table notebook</a>'\n",
              "          + ' to learn more about interactive tables.';\n",
              "        element.innerHTML = '';\n",
              "        dataTable['output_type'] = 'display_data';\n",
              "        await google.colab.output.renderOutput(dataTable, element);\n",
              "        const docLink = document.createElement('div');\n",
              "        docLink.innerHTML = docLinkHtml;\n",
              "        element.appendChild(docLink);\n",
              "      }\n",
              "    </script>\n",
              "  </div>\n",
              "\n",
              "\n",
              "    <div id=\"df-05e4ded6-032a-4af3-959b-ff89cbeb6ac6\">\n",
              "      <button class=\"colab-df-quickchart\" onclick=\"quickchart('df-05e4ded6-032a-4af3-959b-ff89cbeb6ac6')\"\n",
              "                title=\"Suggest charts\"\n",
              "                style=\"display:none;\">\n",
              "\n",
              "<svg xmlns=\"http://www.w3.org/2000/svg\" height=\"24px\"viewBox=\"0 0 24 24\"\n",
              "     width=\"24px\">\n",
              "    <g>\n",
              "        <path d=\"M19 3H5c-1.1 0-2 .9-2 2v14c0 1.1.9 2 2 2h14c1.1 0 2-.9 2-2V5c0-1.1-.9-2-2-2zM9 17H7v-7h2v7zm4 0h-2V7h2v10zm4 0h-2v-4h2v4z\"/>\n",
              "    </g>\n",
              "</svg>\n",
              "      </button>\n",
              "\n",
              "<style>\n",
              "  .colab-df-quickchart {\n",
              "      --bg-color: #E8F0FE;\n",
              "      --fill-color: #1967D2;\n",
              "      --hover-bg-color: #E2EBFA;\n",
              "      --hover-fill-color: #174EA6;\n",
              "      --disabled-fill-color: #AAA;\n",
              "      --disabled-bg-color: #DDD;\n",
              "  }\n",
              "\n",
              "  [theme=dark] .colab-df-quickchart {\n",
              "      --bg-color: #3B4455;\n",
              "      --fill-color: #D2E3FC;\n",
              "      --hover-bg-color: #434B5C;\n",
              "      --hover-fill-color: #FFFFFF;\n",
              "      --disabled-bg-color: #3B4455;\n",
              "      --disabled-fill-color: #666;\n",
              "  }\n",
              "\n",
              "  .colab-df-quickchart {\n",
              "    background-color: var(--bg-color);\n",
              "    border: none;\n",
              "    border-radius: 50%;\n",
              "    cursor: pointer;\n",
              "    display: none;\n",
              "    fill: var(--fill-color);\n",
              "    height: 32px;\n",
              "    padding: 0;\n",
              "    width: 32px;\n",
              "  }\n",
              "\n",
              "  .colab-df-quickchart:hover {\n",
              "    background-color: var(--hover-bg-color);\n",
              "    box-shadow: 0 1px 2px rgba(60, 64, 67, 0.3), 0 1px 3px 1px rgba(60, 64, 67, 0.15);\n",
              "    fill: var(--button-hover-fill-color);\n",
              "  }\n",
              "\n",
              "  .colab-df-quickchart-complete:disabled,\n",
              "  .colab-df-quickchart-complete:disabled:hover {\n",
              "    background-color: var(--disabled-bg-color);\n",
              "    fill: var(--disabled-fill-color);\n",
              "    box-shadow: none;\n",
              "  }\n",
              "\n",
              "  .colab-df-spinner {\n",
              "    border: 2px solid var(--fill-color);\n",
              "    border-color: transparent;\n",
              "    border-bottom-color: var(--fill-color);\n",
              "    animation:\n",
              "      spin 1s steps(1) infinite;\n",
              "  }\n",
              "\n",
              "  @keyframes spin {\n",
              "    0% {\n",
              "      border-color: transparent;\n",
              "      border-bottom-color: var(--fill-color);\n",
              "      border-left-color: var(--fill-color);\n",
              "    }\n",
              "    20% {\n",
              "      border-color: transparent;\n",
              "      border-left-color: var(--fill-color);\n",
              "      border-top-color: var(--fill-color);\n",
              "    }\n",
              "    30% {\n",
              "      border-color: transparent;\n",
              "      border-left-color: var(--fill-color);\n",
              "      border-top-color: var(--fill-color);\n",
              "      border-right-color: var(--fill-color);\n",
              "    }\n",
              "    40% {\n",
              "      border-color: transparent;\n",
              "      border-right-color: var(--fill-color);\n",
              "      border-top-color: var(--fill-color);\n",
              "    }\n",
              "    60% {\n",
              "      border-color: transparent;\n",
              "      border-right-color: var(--fill-color);\n",
              "    }\n",
              "    80% {\n",
              "      border-color: transparent;\n",
              "      border-right-color: var(--fill-color);\n",
              "      border-bottom-color: var(--fill-color);\n",
              "    }\n",
              "    90% {\n",
              "      border-color: transparent;\n",
              "      border-bottom-color: var(--fill-color);\n",
              "    }\n",
              "  }\n",
              "</style>\n",
              "\n",
              "      <script>\n",
              "        async function quickchart(key) {\n",
              "          const quickchartButtonEl =\n",
              "            document.querySelector('#' + key + ' button');\n",
              "          quickchartButtonEl.disabled = true;  // To prevent multiple clicks.\n",
              "          quickchartButtonEl.classList.add('colab-df-spinner');\n",
              "          try {\n",
              "            const charts = await google.colab.kernel.invokeFunction(\n",
              "                'suggestCharts', [key], {});\n",
              "          } catch (error) {\n",
              "            console.error('Error during call to suggestCharts:', error);\n",
              "          }\n",
              "          quickchartButtonEl.classList.remove('colab-df-spinner');\n",
              "          quickchartButtonEl.classList.add('colab-df-quickchart-complete');\n",
              "        }\n",
              "        (() => {\n",
              "          let quickchartButtonEl =\n",
              "            document.querySelector('#df-05e4ded6-032a-4af3-959b-ff89cbeb6ac6 button');\n",
              "          quickchartButtonEl.style.display =\n",
              "            google.colab.kernel.accessAllowed ? 'block' : 'none';\n",
              "        })();\n",
              "      </script>\n",
              "    </div>\n",
              "\n",
              "    </div>\n",
              "  </div>\n"
            ],
            "application/vnd.google.colaboratory.intrinsic+json": {
              "type": "dataframe"
            }
          },
          "metadata": {},
          "execution_count": 232
        }
      ]
    },
    {
      "cell_type": "markdown",
      "source": [
        "Construct a dataframe that looks like our model so we can predict today's position."
      ],
      "metadata": {
        "id": "NepWKMuro7Vr"
      }
    },
    {
      "cell_type": "markdown",
      "source": [
        "### Build Input and Give Recommendation"
      ],
      "metadata": {
        "id": "U18DoSgdxNIw"
      }
    },
    {
      "cell_type": "code",
      "source": [
        "today_inputs = df_all.tail(1)[[\n",
        "    'roc', 'ads', 'rsi', 'adx',\n",
        "    'djia_volume', 'daily_policy_index',\n",
        "    'vix', 'hsi'\n",
        "]].reset_index(drop=True)\n",
        "\n",
        "print(today_inputs)\n",
        "\n"
      ],
      "metadata": {
        "colab": {
          "base_uri": "https://localhost:8080/"
        },
        "id": "M9KQc7bAkxg3",
        "outputId": "99b31882-9137-47e9-edec-53dc8306a27b"
      },
      "execution_count": 235,
      "outputs": [
        {
          "output_type": "stream",
          "name": "stdout",
          "text": [
            "        roc       ads        rsi        adx  djia_volume  daily_policy_index  \\\n",
            "0  1.915966  0.023866  86.771373  73.056703  403500000.0              203.13   \n",
            "\n",
            "         vix           hsi  \n",
            "0  16.370001  26160.150391  \n"
          ]
        }
      ]
    },
    {
      "cell_type": "markdown",
      "source": [
        "Sanity check of model features vs what we've constructed. They must be in the same order."
      ],
      "metadata": {
        "id": "nhxie_T9j3lH"
      }
    },
    {
      "cell_type": "code",
      "source": [
        "# model features\n",
        "print(\"The columns must be exactly:\")\n",
        "print(rf_model.feature_names_in_)\n",
        "\n",
        "print(\"\")\n",
        "print(\"Input columns actually are:\")\n",
        "print(today_inputs.columns)\n",
        "\n",
        "print(\"Reordering...\")\n",
        "model_order = rf_model.feature_names_in_\n",
        "\n",
        "# Reassign the DataFrame with the new column order\n",
        "today_inputs = today_inputs[model_order]\n",
        "\n",
        "print(\"\")\n",
        "print(\"Input columns now are:\")\n",
        "print(today_inputs.columns)"
      ],
      "metadata": {
        "colab": {
          "base_uri": "https://localhost:8080/"
        },
        "id": "q4HgKXZyjyzv",
        "outputId": "720a81a3-feb8-4953-a325-20638cfd3e1f"
      },
      "execution_count": 236,
      "outputs": [
        {
          "output_type": "stream",
          "name": "stdout",
          "text": [
            "The columns must be exactly:\n",
            "['ads' 'roc' 'rsi' 'djia_volume' 'adx' 'vix' 'daily_policy_index' 'hsi']\n",
            "\n",
            "Input columns actually are:\n",
            "Index(['roc', 'ads', 'rsi', 'adx', 'djia_volume', 'daily_policy_index', 'vix',\n",
            "       'hsi'],\n",
            "      dtype='object')\n",
            "Reordering...\n",
            "\n",
            "Input columns now are:\n",
            "Index(['ads', 'roc', 'rsi', 'djia_volume', 'adx', 'vix', 'daily_policy_index',\n",
            "       'hsi'],\n",
            "      dtype='object')\n"
          ]
        }
      ]
    },
    {
      "cell_type": "code",
      "source": [
        "# Predict whether we should be buying or selling (establish/maintain or sell our positions)\n",
        "preds = rf_model.predict(today_inputs)\n",
        "\n",
        "# Output final determination\n",
        "if preds[0] == -1:\n",
        "    print(\"Should be out of or close positions\")\n",
        "elif preds[0] == 1:\n",
        "    print(\"Buy or maintain positions\")\n"
      ],
      "metadata": {
        "colab": {
          "base_uri": "https://localhost:8080/"
        },
        "id": "BlBDLBkklXEn",
        "outputId": "cae39171-6d9d-4b3c-8550-43eb68eb0af1"
      },
      "execution_count": 237,
      "outputs": [
        {
          "output_type": "stream",
          "name": "stdout",
          "text": [
            "Should be out of or close positions\n"
          ]
        }
      ]
    }
  ]
}